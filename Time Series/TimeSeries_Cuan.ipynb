{
  "nbformat": 4,
  "nbformat_minor": 0,
  "metadata": {
    "colab": {
      "provenance": []
    },
    "kernelspec": {
      "name": "python3",
      "display_name": "Python 3"
    },
    "language_info": {
      "name": "python"
    }
  },
  "cells": [
    {
      "cell_type": "code",
      "execution_count": null,
      "metadata": {
        "colab": {
          "base_uri": "https://localhost:8080/"
        },
        "id": "Vj3vQKX1fj97",
        "outputId": "734d30d5-f455-41eb-c183-d3426fee5aea"
      },
      "outputs": [
        {
          "output_type": "stream",
          "name": "stdout",
          "text": [
            "Requirement already satisfied: pandas in /usr/local/lib/python3.10/dist-packages (1.5.3)\n",
            "Requirement already satisfied: matplotlib in /usr/local/lib/python3.10/dist-packages (3.7.1)\n",
            "Requirement already satisfied: yfinance in /usr/local/lib/python3.10/dist-packages (0.2.31)\n",
            "Requirement already satisfied: python-dateutil>=2.8.1 in /usr/local/lib/python3.10/dist-packages (from pandas) (2.8.2)\n",
            "Requirement already satisfied: pytz>=2020.1 in /usr/local/lib/python3.10/dist-packages (from pandas) (2023.3.post1)\n",
            "Requirement already satisfied: numpy>=1.21.0 in /usr/local/lib/python3.10/dist-packages (from pandas) (1.23.5)\n",
            "Requirement already satisfied: contourpy>=1.0.1 in /usr/local/lib/python3.10/dist-packages (from matplotlib) (1.2.0)\n",
            "Requirement already satisfied: cycler>=0.10 in /usr/local/lib/python3.10/dist-packages (from matplotlib) (0.12.1)\n",
            "Requirement already satisfied: fonttools>=4.22.0 in /usr/local/lib/python3.10/dist-packages (from matplotlib) (4.44.0)\n",
            "Requirement already satisfied: kiwisolver>=1.0.1 in /usr/local/lib/python3.10/dist-packages (from matplotlib) (1.4.5)\n",
            "Requirement already satisfied: packaging>=20.0 in /usr/local/lib/python3.10/dist-packages (from matplotlib) (23.2)\n",
            "Requirement already satisfied: pillow>=6.2.0 in /usr/local/lib/python3.10/dist-packages (from matplotlib) (9.4.0)\n",
            "Requirement already satisfied: pyparsing>=2.3.1 in /usr/local/lib/python3.10/dist-packages (from matplotlib) (3.1.1)\n",
            "Requirement already satisfied: requests>=2.31 in /usr/local/lib/python3.10/dist-packages (from yfinance) (2.31.0)\n",
            "Requirement already satisfied: multitasking>=0.0.7 in /usr/local/lib/python3.10/dist-packages (from yfinance) (0.0.11)\n",
            "Requirement already satisfied: lxml>=4.9.1 in /usr/local/lib/python3.10/dist-packages (from yfinance) (4.9.3)\n",
            "Requirement already satisfied: appdirs>=1.4.4 in /usr/local/lib/python3.10/dist-packages (from yfinance) (1.4.4)\n",
            "Requirement already satisfied: frozendict>=2.3.4 in /usr/local/lib/python3.10/dist-packages (from yfinance) (2.3.8)\n",
            "Requirement already satisfied: peewee>=3.16.2 in /usr/local/lib/python3.10/dist-packages (from yfinance) (3.17.0)\n",
            "Requirement already satisfied: beautifulsoup4>=4.11.1 in /usr/local/lib/python3.10/dist-packages (from yfinance) (4.11.2)\n",
            "Requirement already satisfied: html5lib>=1.1 in /usr/local/lib/python3.10/dist-packages (from yfinance) (1.1)\n",
            "Requirement already satisfied: soupsieve>1.2 in /usr/local/lib/python3.10/dist-packages (from beautifulsoup4>=4.11.1->yfinance) (2.5)\n",
            "Requirement already satisfied: six>=1.9 in /usr/local/lib/python3.10/dist-packages (from html5lib>=1.1->yfinance) (1.16.0)\n",
            "Requirement already satisfied: webencodings in /usr/local/lib/python3.10/dist-packages (from html5lib>=1.1->yfinance) (0.5.1)\n",
            "Requirement already satisfied: charset-normalizer<4,>=2 in /usr/local/lib/python3.10/dist-packages (from requests>=2.31->yfinance) (3.3.2)\n",
            "Requirement already satisfied: idna<4,>=2.5 in /usr/local/lib/python3.10/dist-packages (from requests>=2.31->yfinance) (3.4)\n",
            "Requirement already satisfied: urllib3<3,>=1.21.1 in /usr/local/lib/python3.10/dist-packages (from requests>=2.31->yfinance) (2.0.7)\n",
            "Requirement already satisfied: certifi>=2017.4.17 in /usr/local/lib/python3.10/dist-packages (from requests>=2.31->yfinance) (2023.7.22)\n"
          ]
        }
      ],
      "source": [
        "!pip install pandas matplotlib yfinance"
      ]
    },
    {
      "cell_type": "code",
      "source": [
        "# Import libraries yang dibutuhkan\n",
        "import pandas as pd\n",
        "import numpy as np\n",
        "import matplotlib.pyplot as plt\n",
        "import tensorflow as tf\n",
        "from tensorflow import keras\n",
        "from tensorflow.keras.layers import Input, LSTM, Dense, Dropout\n",
        "from tensorflow.keras.callbacks import EarlyStopping\n",
        "from sklearn.model_selection import train_test_split\n",
        "from sklearn.preprocessing import MinMaxScaler, StandardScaler\n",
        "from sklearn.metrics import mean_squared_error, mean_absolute_error\n",
        "import yfinance as yf\n",
        "from math import sqrt\n",
        "from xgboost import XGBRegressor\n",
        "from sklearn.model_selection import TimeSeriesSplit"
      ],
      "metadata": {
        "id": "awUIWpDjcAOx"
      },
      "execution_count": null,
      "outputs": []
    },
    {
      "cell_type": "code",
      "source": [
        "# Define kode saham dan rentang waktu (1 tahun cukup)\n",
        "stock_symbol = 'FTT-USD'\n",
        "start_date = '2022-11-14'\n",
        "end_date = '2023-11-14'"
      ],
      "metadata": {
        "id": "rLFVbzFLkHXO"
      },
      "execution_count": null,
      "outputs": []
    },
    {
      "cell_type": "code",
      "source": [
        "# Ambil bagian historical data\n",
        "df = yf.download(stock_symbol, start=start_date, end=end_date)"
      ],
      "metadata": {
        "colab": {
          "base_uri": "https://localhost:8080/"
        },
        "id": "9oY2s_WQkKCY",
        "outputId": "19ca2f21-376c-40bc-d7cf-36115b893a99"
      },
      "execution_count": null,
      "outputs": [
        {
          "output_type": "stream",
          "name": "stdout",
          "text": [
            "\r[*********************100%%**********************]  1 of 1 completed\n"
          ]
        }
      ]
    },
    {
      "cell_type": "code",
      "source": [
        "# Pilih kolom 'Open' (butuhnya opening price)\n",
        "ts = df['Open'].values"
      ],
      "metadata": {
        "id": "CXqNo_-PkPbJ"
      },
      "execution_count": null,
      "outputs": []
    },
    {
      "cell_type": "code",
      "source": [
        "print(ts)"
      ],
      "metadata": {
        "colab": {
          "base_uri": "https://localhost:8080/"
        },
        "id": "a9Se-WnpkvrD",
        "outputId": "9935b714-7ae6-4349-8e0a-c4d3b3f7e643"
      },
      "execution_count": null,
      "outputs": [
        {
          "output_type": "stream",
          "name": "stdout",
          "text": [
            "[1.49011004 1.47427404 1.83462596 1.62528396 1.56169605 1.45689595\n",
            " 1.41655099 1.331622   1.25741601 1.33343196 1.29859698 1.37550104\n",
            " 1.40119505 1.36450601 1.31575096 1.29403603 1.30423903 1.34015799\n",
            " 1.29195297 1.30669999 1.31465304 1.38741302 1.39137304 1.45479798\n",
            " 1.39118099 1.36426103 1.700912   1.51605797 1.52172601 1.48479998\n",
            " 1.40507495 1.374439   1.35659301 1.14310801 1.07892501 1.04088998\n",
            " 0.96074402 0.93813401 0.87397301 1.02713299 0.95750499 0.92443198\n",
            " 0.89456701 0.93113798 0.92116201 0.88572299 0.86019301 0.83896798\n",
            " 0.84297401 0.85811198 0.86230701 0.88518697 1.00226498 0.94411999\n",
            " 0.91083902 0.90921497 0.91302401 1.32805502 1.24062502 1.30208302\n",
            " 1.37791204 1.40603006 1.84186304 2.20495892 2.51167893 2.0784719\n",
            " 1.76817    2.29456091 2.40961194 2.16448212 2.1053431  2.19820094\n",
            " 1.83706999 1.96418798 1.88223898 1.98208296 1.91840398 2.05706811\n",
            " 1.89022601 1.90903294 1.92808294 1.91345203 2.04355907 1.97289002\n",
            " 1.90584099 1.92961597 2.03915596 1.95197594 1.58625102 1.62159097\n",
            " 1.62358499 1.70848405 1.55422294 1.59833097 1.68577802 1.545228\n",
            " 1.64451396 1.62256896 1.59689295 1.70243096 1.62933004 1.57755101\n",
            " 1.58061004 1.52864599 1.48498499 1.54188204 1.50087595 1.44671094\n",
            " 1.48202503 1.42223704 1.28162205 1.25328302 1.26420903 1.32164502\n",
            " 1.25238597 1.17590404 1.14107001 1.09181905 1.034338   1.11340594\n",
            " 1.14334404 1.19234598 1.10870504 1.12740695 1.16982698 1.44778001\n",
            " 1.45064104 1.37748694 1.444332   1.34654498 1.36213505 1.27699006\n",
            " 1.29999495 1.29703295 1.25187302 1.33372998 1.31594002 1.31297004\n",
            " 1.33684397 1.32299304 1.29963005 1.26983702 1.28829896 1.30313599\n",
            " 1.27417195 1.24917603 1.26524496 1.25360405 1.26932096 1.38225305\n",
            " 2.446491   2.06079006 2.06351495 2.0103581  1.95502496 1.78893805\n",
            " 2.15479589 1.92381299 1.82041705 1.67864895 1.75981402 1.62789202\n",
            " 1.63522804 1.62657404 1.561813   1.53212595 1.518641   1.54269803\n",
            " 1.51801896 1.42360103 1.42497003 1.45878303 1.48174405 1.44880903\n",
            " 1.36371303 1.33380699 1.26417696 1.29355001 1.16969097 1.11699498\n",
            " 1.09957898 1.08073997 1.09388804 1.09453297 1.08318806 1.157143\n",
            " 1.10353899 1.07873404 1.03376901 1.00800896 1.07605505 1.08845997\n",
            " 1.01104796 1.02368796 1.01507103 1.01459503 1.02728903 1.00592101\n",
            " 0.968238   0.95422202 0.93534303 0.973589   0.93560398 0.96988398\n",
            " 0.87064201 0.89296103 0.90704501 1.09821796 0.94421601 0.828264\n",
            " 0.81705499 0.81816399 0.84387302 0.811867   0.90639597 0.89559197\n",
            " 0.91587198 0.89370799 0.93264401 0.93928999 0.96517998 1.06096303\n",
            " 1.09756505 1.01711404 1.12495005 1.255252   1.33624804 1.77952695\n",
            " 2.06852388 1.93581605 1.67078996 1.66511095 1.51153803 1.46872997\n",
            " 1.54187405 1.47930396 1.46036804 1.52897406 1.44693303 1.38473201\n",
            " 1.60567605 1.54698205 1.55882299 1.58721495 1.57430005 1.64227796\n",
            " 1.58171499 1.48846304 1.45343006 1.41759396 1.41446805 1.46042597\n",
            " 1.420964   1.34694195 1.35609603 1.35956204 1.381001   1.42860103\n",
            " 1.39037204 1.36990201 1.34561503 1.38487101 1.336236   1.25265503\n",
            " 1.26304698 1.23403597 1.23963702 1.15004694 1.20963299 1.187994\n",
            " 1.17497301 1.15063906 1.17011094 1.16080594 1.16115105 1.03861296\n",
            " 1.02852499 0.92367297 0.96472299 1.09693694 1.07249105 1.04698098\n",
            " 1.08784103 1.09363699 1.05177402 1.01252604 1.04150403 1.03494203\n",
            " 1.01778495 1.04571605 1.03387702 1.01492    1.00863004 1.03424501\n",
            " 1.06467605 1.06507897 1.03874898 1.04571605 1.04697096 1.05280399\n",
            " 1.17595398 1.05592799 0.99792802 1.03726602 1.05429804 1.04847205\n",
            " 1.04576004 1.04765499 1.04535496 1.04136503 1.04167902 1.02635396\n",
            " 1.05101705 1.10358906 1.134431   1.22863698 1.258304   1.17659605\n",
            " 1.13375401 1.13590801 1.12068403 1.12438405 1.18284202 1.15499306\n",
            " 1.19104505 1.20681298 1.21876502 1.19794202 1.19828999 1.16617894\n",
            " 1.06585205 1.05291295 1.02136695 1.05055702 1.05351198 1.04735506\n",
            " 1.05077899 1.05863905 1.01672804 1.00959396 1.03459203 1.04973304\n",
            " 1.04698896 1.05290997 1.07321    1.14432001 1.29702103 1.29309499\n",
            " 1.25516498 1.27425504 1.275033   1.25916696 1.22262299 1.27509201\n",
            " 1.25552702 1.17154098 1.18500996 1.14605701 1.232867   1.22078705\n",
            " 1.36025703 2.19039202 4.28340483 3.221735   3.42543697]\n"
          ]
        }
      ]
    },
    {
      "cell_type": "code",
      "source": [
        "# Display time series plot dari original data opening price\n",
        "plt.figure(figsize=(12, 6))\n",
        "plt.plot(df.index, df['Open'], label='Original Data')\n",
        "plt.title('Opening Price Time Series Data')\n",
        "plt.xlabel('Date')\n",
        "plt.ylabel('Stock Price')\n",
        "plt.legend()\n",
        "plt.show()"
      ],
      "metadata": {
        "colab": {
          "base_uri": "https://localhost:8080/",
          "height": 564
        },
        "id": "iyAc78mez1yn",
        "outputId": "59ce1ddc-ad8f-4169-ff97-fecbe8671477"
      },
      "execution_count": null,
      "outputs": [
        {
          "output_type": "display_data",
          "data": {
            "text/plain": [
              "<Figure size 1200x600 with 1 Axes>"
            ],
            "image/png": "[encoded data removed]"
          },
          "metadata": {}
        }
      ]
    },
    {
      "cell_type": "code",
      "source": [
        "# Normalisasi data\n",
        "scaler = StandardScaler()\n",
        "ts = scaler.fit_transform(np.array(ts).reshape(-1, 1))"
      ],
      "metadata": {
        "id": "XFkmMjmDkR9S"
      },
      "execution_count": null,
      "outputs": []
    },
    {
      "cell_type": "code",
      "source": [
        "# Prepare X_train dan X_test\n",
        "seq_length = 30\n",
        "\n",
        "X_train = []\n",
        "y_train = []\n",
        "\n",
        "for i in range(len(ts) - seq_length):\n",
        "    X_train.append(ts[i:i + seq_length])\n",
        "    y_train.append(ts[i + seq_length])"
      ],
      "metadata": {
        "id": "xLF9TCe0kXvD"
      },
      "execution_count": null,
      "outputs": []
    },
    {
      "cell_type": "code",
      "source": [
        "# Memastikan X_train dan y_train adalah numpy arrays\n",
        "X_train = np.array(X_train)\n",
        "y_train = np.array(y_train)"
      ],
      "metadata": {
        "id": "gHRoY3tOkayF"
      },
      "execution_count": null,
      "outputs": []
    },
    {
      "cell_type": "code",
      "source": [
        "# Split data menjadi training dan testing (80% training, 20% testing)\n",
        "train_size = int(len(X_train) * 0.8)\n",
        "X_train, X_test = X_train[:train_size], X_train[train_size:]\n",
        "y_train, y_test = y_train[:train_size], y_train[train_size:]"
      ],
      "metadata": {
        "id": "YH0XLLQNkdbD"
      },
      "execution_count": null,
      "outputs": []
    },
    {
      "cell_type": "code",
      "source": [
        "# Model Architecture\n",
        "model = keras.Sequential()\n",
        "model.add(LSTM(128, activation='relu', return_sequences=True, input_shape=(seq_length, 1)))\n",
        "model.add(Dropout(0.2))  # tambah dropout buat prevent overfitting\n",
        "model.add(LSTM(128, activation='relu', return_sequences=True))\n",
        "model.add(Dropout(0.2))\n",
        "model.add(LSTM(128, activation='relu'))\n",
        "model.add(Dropout(0.2))\n",
        "model.add(Dense(64, activation='relu'))\n",
        "model.add(Dropout(0.2))\n",
        "model.add(Dense(1))"
      ],
      "metadata": {
        "id": "teFjj0BMkf9F"
      },
      "execution_count": null,
      "outputs": []
    },
    {
      "cell_type": "code",
      "source": [
        "# Training Parameters\n",
        "model.compile(optimizer='adam', loss='mean_squared_error')\n",
        "early_stopping = EarlyStopping(monitor='val_loss', patience=10, restore_best_weights=True)  # Early stopping callback"
      ],
      "metadata": {
        "id": "GAx4qQ5zY69E"
      },
      "execution_count": null,
      "outputs": []
    },
    {
      "cell_type": "code",
      "source": [
        "# Model Training\n",
        "model.fit(X_train, y_train, epochs=50, batch_size=32, validation_split=0.2, callbacks=[early_stopping])"
      ],
      "metadata": {
        "colab": {
          "base_uri": "https://localhost:8080/"
        },
        "id": "cW3_LnfGY-PK",
        "outputId": "419c2203-8542-4489-f0fc-475f7583e66f"
      },
      "execution_count": null,
      "outputs": [
        {
          "output_type": "stream",
          "name": "stdout",
          "text": [
            "Epoch 1/50\n",
            "7/7 [==============================] - 9s 564ms/step - loss: 0.8799 - val_loss: 0.3039\n",
            "Epoch 2/50\n",
            "7/7 [==============================] - 3s 390ms/step - loss: 0.7013 - val_loss: 0.1437\n",
            "Epoch 3/50\n",
            "7/7 [==============================] - 2s 250ms/step - loss: 0.5056 - val_loss: 0.0540\n",
            "Epoch 4/50\n",
            "7/7 [==============================] - 2s 355ms/step - loss: 0.4126 - val_loss: 0.0429\n",
            "Epoch 5/50\n",
            "7/7 [==============================] - 3s 486ms/step - loss: 0.4010 - val_loss: 0.0814\n",
            "Epoch 6/50\n",
            "7/7 [==============================] - 2s 283ms/step - loss: 0.3677 - val_loss: 0.0397\n",
            "Epoch 7/50\n",
            "7/7 [==============================] - 2s 266ms/step - loss: 0.3066 - val_loss: 0.0375\n",
            "Epoch 8/50\n",
            "7/7 [==============================] - 2s 249ms/step - loss: 0.2919 - val_loss: 0.0339\n",
            "Epoch 9/50\n",
            "7/7 [==============================] - 2s 278ms/step - loss: 0.3239 - val_loss: 0.0291\n",
            "Epoch 10/50\n",
            "7/7 [==============================] - 2s 266ms/step - loss: 0.2699 - val_loss: 0.0236\n",
            "Epoch 11/50\n",
            "7/7 [==============================] - 2s 341ms/step - loss: 0.2821 - val_loss: 0.0336\n",
            "Epoch 12/50\n",
            "7/7 [==============================] - 2s 322ms/step - loss: 0.2595 - val_loss: 0.0288\n",
            "Epoch 13/50\n",
            "7/7 [==============================] - 2s 251ms/step - loss: 0.2570 - val_loss: 0.0276\n",
            "Epoch 14/50\n",
            "7/7 [==============================] - 2s 286ms/step - loss: 0.2656 - val_loss: 0.0300\n",
            "Epoch 15/50\n",
            "7/7 [==============================] - 2s 309ms/step - loss: 0.2314 - val_loss: 0.0248\n",
            "Epoch 16/50\n",
            "7/7 [==============================] - 2s 275ms/step - loss: 0.2343 - val_loss: 0.0588\n",
            "Epoch 17/50\n",
            "7/7 [==============================] - 2s 222ms/step - loss: 0.2254 - val_loss: 0.0284\n",
            "Epoch 18/50\n",
            "7/7 [==============================] - 1s 155ms/step - loss: 0.2329 - val_loss: 0.0356\n",
            "Epoch 19/50\n",
            "7/7 [==============================] - 2s 237ms/step - loss: 0.2073 - val_loss: 0.0246\n",
            "Epoch 20/50\n",
            "7/7 [==============================] - 2s 243ms/step - loss: 0.2158 - val_loss: 0.0308\n"
          ]
        },
        {
          "output_type": "execute_result",
          "data": {
            "text/plain": [
              "<keras.src.callbacks.History at 0x7ca89beb7e20>"
            ]
          },
          "metadata": {},
          "execution_count": 44
        }
      ]
    },
    {
      "cell_type": "code",
      "source": [
        "# Model Evaluation\n",
        "y_pred = model.predict(X_test)\n",
        "y_pred = scaler.inverse_transform(y_pred)"
      ],
      "metadata": {
        "colab": {
          "base_uri": "https://localhost:8080/"
        },
        "id": "UQ8W83_QZMwZ",
        "outputId": "f068e33f-5714-436f-c3ab-14153eb413f7"
      },
      "execution_count": null,
      "outputs": [
        {
          "output_type": "stream",
          "name": "stdout",
          "text": [
            "3/3 [==============================] - 1s 25ms/step\n"
          ]
        }
      ]
    },
    {
      "cell_type": "code",
      "source": [
        "# Menghitung RMSE dan MAE\n",
        "rmse = sqrt(mean_squared_error(y_test, y_pred))\n",
        "mae = mean_absolute_error(y_test, y_pred)"
      ],
      "metadata": {
        "id": "Rvaih5giZSup"
      },
      "execution_count": null,
      "outputs": []
    },
    {
      "cell_type": "code",
      "source": [
        "# Data Augmentation (di sini pakai Random Noise)\n",
        "# tambah random noise ke training data\n",
        "noise = np.random.normal(0, 0.1, X_train.shape)\n",
        "X_train_noisy = X_train + noise\n",
        "model.fit(X_train_noisy, y_train, epochs=50, batch_size=32, validation_split=0.2, callbacks=[early_stopping])"
      ],
      "metadata": {
        "colab": {
          "base_uri": "https://localhost:8080/"
        },
        "id": "9oos3NwpZVgy",
        "outputId": "0598e55b-16d5-4bcf-ee61-11d53f6f8b87"
      },
      "execution_count": null,
      "outputs": [
        {
          "output_type": "stream",
          "name": "stdout",
          "text": [
            "Epoch 1/50\n",
            "7/7 [==============================] - 1s 135ms/step - loss: 0.2805 - val_loss: 0.0291\n",
            "Epoch 2/50\n",
            "7/7 [==============================] - 1s 134ms/step - loss: 0.2399 - val_loss: 0.0304\n",
            "Epoch 3/50\n",
            "7/7 [==============================] - 1s 133ms/step - loss: 0.2590 - val_loss: 0.0389\n",
            "Epoch 4/50\n",
            "7/7 [==============================] - 1s 133ms/step - loss: 0.2539 - val_loss: 0.0250\n",
            "Epoch 5/50\n",
            "7/7 [==============================] - 1s 129ms/step - loss: 0.2523 - val_loss: 0.0420\n",
            "Epoch 6/50\n",
            "7/7 [==============================] - 1s 131ms/step - loss: 0.2377 - val_loss: 0.0258\n",
            "Epoch 7/50\n",
            "7/7 [==============================] - 1s 129ms/step - loss: 0.2451 - val_loss: 0.0279\n",
            "Epoch 8/50\n",
            "7/7 [==============================] - 1s 126ms/step - loss: 0.2290 - val_loss: 0.0357\n",
            "Epoch 9/50\n",
            "7/7 [==============================] - 1s 124ms/step - loss: 0.2480 - val_loss: 0.0321\n",
            "Epoch 10/50\n",
            "7/7 [==============================] - 1s 123ms/step - loss: 0.2163 - val_loss: 0.0304\n",
            "Epoch 11/50\n",
            "7/7 [==============================] - 1s 171ms/step - loss: 0.2014 - val_loss: 0.0275\n",
            "Epoch 12/50\n",
            "7/7 [==============================] - 2s 235ms/step - loss: 0.1999 - val_loss: 0.0302\n",
            "Epoch 13/50\n",
            "7/7 [==============================] - 2s 236ms/step - loss: 0.2026 - val_loss: 0.0302\n",
            "Epoch 14/50\n",
            "7/7 [==============================] - 1s 138ms/step - loss: 0.1890 - val_loss: 0.0356\n"
          ]
        },
        {
          "output_type": "execute_result",
          "data": {
            "text/plain": [
              "<keras.src.callbacks.History at 0x7ca89158a620>"
            ]
          },
          "metadata": {},
          "execution_count": 47
        }
      ]
    },
    {
      "cell_type": "code",
      "source": [
        "# Feature Engineering (di sini pake Adding Volume Data, untuk menambahkan informasi lebih ke analisis time series)\n",
        "df['Volume'] = df['Volume'] / 1e7\n",
        "additional_features = df['Volume'].values"
      ],
      "metadata": {
        "id": "qDyaTjPfZi1I"
      },
      "execution_count": null,
      "outputs": []
    },
    {
      "cell_type": "code",
      "source": [
        "# Concatenate additional features with X_train\n",
        "additional_features = additional_features.reshape(-1, 1, 1)\n",
        "additional_features = additional_features[-len(X_train):]\n",
        "X_train = np.concatenate((X_train, additional_features), axis=1)\n"
      ],
      "metadata": {
        "id": "3An82zAMZnzy"
      },
      "execution_count": null,
      "outputs": []
    },
    {
      "cell_type": "code",
      "source": [
        "# Ensemble Methods\n",
        "X_train_2d = X_train.reshape(X_train.shape[0], -1)\n",
        "xgb_model = XGBRegressor(n_estimators=100, max_depth=5, learning_rate=0.1)\n",
        "xgb_model.fit(X_train_2d, y_train)"
      ],
      "metadata": {
        "colab": {
          "base_uri": "https://localhost:8080/",
          "height": 248
        },
        "id": "w9bByWrmkkZr",
        "outputId": "eed10a89-fcf1-4c1e-a43d-646657d8ac21"
      },
      "execution_count": null,
      "outputs": [
        {
          "output_type": "execute_result",
          "data": {
            "text/plain": [
              "XGBRegressor(base_score=None, booster=None, callbacks=None,\n",
              "             colsample_bylevel=None, colsample_bynode=None,\n",
              "             colsample_bytree=None, device=None, early_stopping_rounds=None,\n",
              "             enable_categorical=False, eval_metric=None, feature_types=None,\n",
              "             gamma=None, grow_policy=None, importance_type=None,\n",
              "             interaction_constraints=None, learning_rate=0.1, max_bin=None,\n",
              "             max_cat_threshold=None, max_cat_to_onehot=None,\n",
              "             max_delta_step=None, max_depth=5, max_leaves=None,\n",
              "             min_child_weight=None, missing=nan, monotone_constraints=None,\n",
              "             multi_strategy=None, n_estimators=100, n_jobs=None,\n",
              "             num_parallel_tree=None, random_state=None, ...)"
            ],
            "text/html": [
              "<style>#sk-container-id-2 {color: black;background-color: white;}#sk-container-id-2 pre{padding: 0;}#sk-container-id-2 div.sk-toggleable {background-color: white;}#sk-container-id-2 label.sk-toggleable__label {cursor: pointer;display: block;width: 100%;margin-bottom: 0;padding: 0.3em;box-sizing: border-box;text-align: center;}#sk-container-id-2 label.sk-toggleable__label-arrow:before {content: \"▸\";float: left;margin-right: 0.25em;color: #696969;}#sk-container-id-2 label.sk-toggleable__label-arrow:hover:before {color: black;}#sk-container-id-2 div.sk-estimator:hover label.sk-toggleable__label-arrow:before {color: black;}#sk-container-id-2 div.sk-toggleable__content {max-height: 0;max-width: 0;overflow: hidden;text-align: left;background-color: #f0f8ff;}#sk-container-id-2 div.sk-toggleable__content pre {margin: 0.2em;color: black;border-radius: 0.25em;background-color: #f0f8ff;}#sk-container-id-2 input.sk-toggleable__control:checked~div.sk-toggleable__content {max-height: 200px;max-width: 100%;overflow: auto;}#sk-container-id-2 input.sk-toggleable__control:checked~label.sk-toggleable__label-arrow:before {content: \"▾\";}#sk-container-id-2 div.sk-estimator input.sk-toggleable__control:checked~label.sk-toggleable__label {background-color: #d4ebff;}#sk-container-id-2 div.sk-label input.sk-toggleable__control:checked~label.sk-toggleable__label {background-color: #d4ebff;}#sk-container-id-2 input.sk-hidden--visually {border: 0;clip: rect(1px 1px 1px 1px);clip: rect(1px, 1px, 1px, 1px);height: 1px;margin: -1px;overflow: hidden;padding: 0;position: absolute;width: 1px;}#sk-container-id-2 div.sk-estimator {font-family: monospace;background-color: #f0f8ff;border: 1px dotted black;border-radius: 0.25em;box-sizing: border-box;margin-bottom: 0.5em;}#sk-container-id-2 div.sk-estimator:hover {background-color: #d4ebff;}#sk-container-id-2 div.sk-parallel-item::after {content: \"\";width: 100%;border-bottom: 1px solid gray;flex-grow: 1;}#sk-container-id-2 div.sk-label:hover label.sk-toggleable__label {background-color: #d4ebff;}#sk-container-id-2 div.sk-serial::before {content: \"\";position: absolute;border-left: 1px solid gray;box-sizing: border-box;top: 0;bottom: 0;left: 50%;z-index: 0;}#sk-container-id-2 div.sk-serial {display: flex;flex-direction: column;align-items: center;background-color: white;padding-right: 0.2em;padding-left: 0.2em;position: relative;}#sk-container-id-2 div.sk-item {position: relative;z-index: 1;}#sk-container-id-2 div.sk-parallel {display: flex;align-items: stretch;justify-content: center;background-color: white;position: relative;}#sk-container-id-2 div.sk-item::before, #sk-container-id-2 div.sk-parallel-item::before {content: \"\";position: absolute;border-left: 1px solid gray;box-sizing: border-box;top: 0;bottom: 0;left: 50%;z-index: -1;}#sk-container-id-2 div.sk-parallel-item {display: flex;flex-direction: column;z-index: 1;position: relative;background-color: white;}#sk-container-id-2 div.sk-parallel-item:first-child::after {align-self: flex-end;width: 50%;}#sk-container-id-2 div.sk-parallel-item:last-child::after {align-self: flex-start;width: 50%;}#sk-container-id-2 div.sk-parallel-item:only-child::after {width: 0;}#sk-container-id-2 div.sk-dashed-wrapped {border: 1px dashed gray;margin: 0 0.4em 0.5em 0.4em;box-sizing: border-box;padding-bottom: 0.4em;background-color: white;}#sk-container-id-2 div.sk-label label {font-family: monospace;font-weight: bold;display: inline-block;line-height: 1.2em;}#sk-container-id-2 div.sk-label-container {text-align: center;}#sk-container-id-2 div.sk-container {/* jupyter's `normalize.less` sets `[hidden] { display: none; }` but bootstrap.min.css set `[hidden] { display: none !important; }` so we also need the `!important` here to be able to override the default hidden behavior on the sphinx rendered scikit-learn.org. See: https://github.com/scikit-learn/scikit-learn/issues/21755 */display: inline-block !important;position: relative;}#sk-container-id-2 div.sk-text-repr-fallback {display: none;}</style><div id=\"sk-container-id-2\" class=\"sk-top-container\"><div class=\"sk-text-repr-fallback\"><pre>XGBRegressor(base_score=None, booster=None, callbacks=None,\n",
              "             colsample_bylevel=None, colsample_bynode=None,\n",
              "             colsample_bytree=None, device=None, early_stopping_rounds=None,\n",
              "             enable_categorical=False, eval_metric=None, feature_types=None,\n",
              "             gamma=None, grow_policy=None, importance_type=None,\n",
              "             interaction_constraints=None, learning_rate=0.1, max_bin=None,\n",
              "             max_cat_threshold=None, max_cat_to_onehot=None,\n",
              "             max_delta_step=None, max_depth=5, max_leaves=None,\n",
              "             min_child_weight=None, missing=nan, monotone_constraints=None,\n",
              "             multi_strategy=None, n_estimators=100, n_jobs=None,\n",
              "             num_parallel_tree=None, random_state=None, ...)</pre><b>In a Jupyter environment, please rerun this cell to show the HTML representation or trust the notebook. <br />On GitHub, the HTML representation is unable to render, please try loading this page with nbviewer.org.</b></div><div class=\"sk-container\" hidden><div class=\"sk-item\"><div class=\"sk-estimator sk-toggleable\"><input class=\"sk-toggleable__control sk-hidden--visually\" id=\"sk-estimator-id-2\" type=\"checkbox\" checked><label for=\"sk-estimator-id-2\" class=\"sk-toggleable__label sk-toggleable__label-arrow\">XGBRegressor</label><div class=\"sk-toggleable__content\"><pre>XGBRegressor(base_score=None, booster=None, callbacks=None,\n",
              "             colsample_bylevel=None, colsample_bynode=None,\n",
              "             colsample_bytree=None, device=None, early_stopping_rounds=None,\n",
              "             enable_categorical=False, eval_metric=None, feature_types=None,\n",
              "             gamma=None, grow_policy=None, importance_type=None,\n",
              "             interaction_constraints=None, learning_rate=0.1, max_bin=None,\n",
              "             max_cat_threshold=None, max_cat_to_onehot=None,\n",
              "             max_delta_step=None, max_depth=5, max_leaves=None,\n",
              "             min_child_weight=None, missing=nan, monotone_constraints=None,\n",
              "             multi_strategy=None, n_estimators=100, n_jobs=None,\n",
              "             num_parallel_tree=None, random_state=None, ...)</pre></div></div></div></div></div>"
            ]
          },
          "metadata": {},
          "execution_count": 50
        }
      ]
    },
    {
      "cell_type": "code",
      "source": [
        "from tensorflow.keras.regularizers import l2\n",
        "\n",
        "# Regularization (L2 Regularization)\n",
        "model = keras.Sequential()\n",
        "model.add(LSTM(128, activation='relu', return_sequences=True, input_shape=(seq_length, 1), kernel_regularizer=l2(0.01)))\n",
        "model.add(LSTM(128, activation='relu', return_sequences=True, kernel_regularizer=l2(0.01)))\n",
        "model.add(LSTM(128, activation='relu', kernel_regularizer=l2(0.01)))\n",
        "model.add(Dense(64, activation='relu', kernel_regularizer=l2(0.01)))\n",
        "model.add(Dense(1))"
      ],
      "metadata": {
        "id": "MJNGWwEd1JMP"
      },
      "execution_count": null,
      "outputs": []
    },
    {
      "cell_type": "code",
      "source": [
        "# Menerapkan k-fold cross-validation (buat improve performance dari modelnya)\n",
        "tscv = TimeSeriesSplit(n_splits=5)\n",
        "rmses = []\n",
        "maes = []\n",
        "\n",
        "for train_index, test_index in tscv.split(X_train):\n",
        "    X_train_fold, X_val_fold = X_train[train_index, :seq_length], X_train[test_index, :seq_length]\n",
        "    y_train_fold, y_val_fold = y_train[train_index], y_train[test_index]\n",
        "\n",
        "    # Define dan train neural network model\n",
        "    model = keras.Sequential()\n",
        "    model.add(LSTM(128, activation='relu', return_sequences=True, input_shape=(seq_length, 1)))\n",
        "    model.add(Dropout(0.2))\n",
        "    model.add(LSTM(128, activation='relu', return_sequences=True))\n",
        "    model.add(Dropout(0.2))\n",
        "    model.add(LSTM(128, activation='relu'))\n",
        "    model.add(Dropout(0.2))\n",
        "    model.add(Dense(64, activation='relu'))\n",
        "    model.add(Dropout(0.2))\n",
        "    model.add(Dense(1))\n",
        "\n",
        "    model.compile(optimizer='adam', loss='mean_squared_error')\n",
        "    early_stopping = EarlyStopping(monitor='val_loss', patience=10, restore_best_weights=True)\n",
        "\n",
        "    model.fit(X_train_fold, y_train_fold, validation_data=(X_val_fold, y_val_fold), epochs=50, batch_size=32, callbacks=[early_stopping])\n",
        "\n",
        "    # Evaluasi model\n",
        "    y_pred = model.predict(X_test)\n",
        "    y_pred = scaler.inverse_transform(y_pred)\n",
        "\n",
        "    rmse = sqrt(mean_squared_error(y_val_fold, model.predict(X_val_fold)))\n",
        "    mae = mean_absolute_error(y_val_fold, model.predict(X_val_fold))\n",
        "\n",
        "    rmses.append(rmse)\n",
        "    maes.append(mae)"
      ],
      "metadata": {
        "colab": {
          "base_uri": "https://localhost:8080/"
        },
        "id": "7CZKMhjPknZd",
        "outputId": "fc96c6ba-113e-45f6-bafd-a40f557e773a"
      },
      "execution_count": null,
      "outputs": [
        {
          "output_type": "stream",
          "name": "stdout",
          "text": [
            "Epoch 1/50\n",
            "2/2 [==============================] - 5s 620ms/step - loss: 1.8170 - val_loss: 0.6969\n",
            "Epoch 2/50\n",
            "2/2 [==============================] - 0s 149ms/step - loss: 1.7607 - val_loss: 0.5491\n",
            "Epoch 3/50\n",
            "2/2 [==============================] - 0s 149ms/step - loss: 1.6432 - val_loss: 0.3250\n",
            "Epoch 4/50\n",
            "2/2 [==============================] - 0s 149ms/step - loss: 1.5413 - val_loss: 0.3782\n",
            "Epoch 5/50\n",
            "2/2 [==============================] - 0s 153ms/step - loss: 1.3352 - val_loss: 20.6758\n",
            "Epoch 6/50\n",
            "2/2 [==============================] - 0s 141ms/step - loss: 1.3361 - val_loss: 1.5724\n",
            "Epoch 7/50\n",
            "2/2 [==============================] - 0s 145ms/step - loss: 1.0222 - val_loss: 0.2581\n",
            "Epoch 8/50\n",
            "2/2 [==============================] - 0s 152ms/step - loss: 0.9410 - val_loss: 0.1351\n",
            "Epoch 9/50\n",
            "2/2 [==============================] - 0s 148ms/step - loss: 0.7560 - val_loss: 0.1275\n",
            "Epoch 10/50\n",
            "2/2 [==============================] - 0s 160ms/step - loss: 0.4979 - val_loss: 0.2086\n",
            "Epoch 11/50\n",
            "2/2 [==============================] - 0s 150ms/step - loss: 0.5980 - val_loss: 0.2089\n",
            "Epoch 12/50\n",
            "2/2 [==============================] - 0s 145ms/step - loss: 0.5054 - val_loss: 0.1955\n",
            "Epoch 13/50\n",
            "2/2 [==============================] - 0s 147ms/step - loss: 0.5704 - val_loss: 0.2630\n",
            "Epoch 14/50\n",
            "2/2 [==============================] - 0s 159ms/step - loss: 0.5363 - val_loss: 0.2343\n",
            "Epoch 15/50\n",
            "2/2 [==============================] - 0s 286ms/step - loss: 0.3806 - val_loss: 0.1400\n",
            "Epoch 16/50\n",
            "2/2 [==============================] - 0s 256ms/step - loss: 0.3396 - val_loss: 0.1119\n",
            "Epoch 17/50\n",
            "2/2 [==============================] - 0s 245ms/step - loss: 0.3639 - val_loss: 0.1335\n",
            "Epoch 18/50\n",
            "2/2 [==============================] - 0s 234ms/step - loss: 0.2969 - val_loss: 0.1579\n",
            "Epoch 19/50\n",
            "2/2 [==============================] - 1s 290ms/step - loss: 0.3446 - val_loss: 0.1332\n",
            "Epoch 20/50\n",
            "2/2 [==============================] - 0s 228ms/step - loss: 0.3094 - val_loss: 0.0916\n",
            "Epoch 21/50\n",
            "2/2 [==============================] - 0s 249ms/step - loss: 0.2930 - val_loss: 0.0976\n",
            "Epoch 22/50\n",
            "2/2 [==============================] - 0s 244ms/step - loss: 0.2373 - val_loss: 0.1463\n",
            "Epoch 23/50\n",
            "2/2 [==============================] - 0s 280ms/step - loss: 0.2482 - val_loss: 0.2064\n",
            "Epoch 24/50\n",
            "2/2 [==============================] - 0s 141ms/step - loss: 0.2258 - val_loss: 0.2021\n",
            "Epoch 25/50\n",
            "2/2 [==============================] - 0s 155ms/step - loss: 0.2430 - val_loss: 0.1986\n",
            "Epoch 26/50\n",
            "2/2 [==============================] - 0s 153ms/step - loss: 0.2845 - val_loss: 0.2379\n",
            "Epoch 27/50\n",
            "2/2 [==============================] - 0s 159ms/step - loss: 0.2885 - val_loss: 0.2270\n",
            "Epoch 28/50\n",
            "2/2 [==============================] - 0s 153ms/step - loss: 0.2431 - val_loss: 0.1553\n",
            "Epoch 29/50\n",
            "2/2 [==============================] - 0s 155ms/step - loss: 0.2339 - val_loss: 0.1216\n",
            "Epoch 30/50\n",
            "2/2 [==============================] - 0s 152ms/step - loss: 0.1815 - val_loss: 0.0975\n",
            "3/3 [==============================] - 1s 22ms/step\n",
            "2/2 [==============================] - 0s 22ms/step\n",
            "2/2 [==============================] - 0s 24ms/step\n",
            "Epoch 1/50\n",
            "3/3 [==============================] - 5s 384ms/step - loss: 1.2830 - val_loss: 0.7201\n",
            "Epoch 2/50\n",
            "3/3 [==============================] - 1s 197ms/step - loss: 1.0223 - val_loss: 0.6083\n",
            "Epoch 3/50\n",
            "3/3 [==============================] - 0s 151ms/step - loss: 0.9164 - val_loss: 0.6130\n",
            "Epoch 4/50\n",
            "3/3 [==============================] - 0s 149ms/step - loss: 0.7822 - val_loss: 0.6175\n",
            "Epoch 5/50\n",
            "3/3 [==============================] - 0s 148ms/step - loss: 0.6347 - val_loss: 0.6026\n",
            "Epoch 6/50\n",
            "3/3 [==============================] - 0s 153ms/step - loss: 0.6871 - val_loss: 0.6717\n",
            "Epoch 7/50\n",
            "3/3 [==============================] - 0s 169ms/step - loss: 0.7379 - val_loss: 0.6748\n",
            "Epoch 8/50\n",
            "3/3 [==============================] - 0s 158ms/step - loss: 0.7042 - val_loss: 0.6300\n",
            "Epoch 9/50\n",
            "3/3 [==============================] - 0s 164ms/step - loss: 0.6622 - val_loss: 0.6176\n",
            "Epoch 10/50\n",
            "3/3 [==============================] - 1s 230ms/step - loss: 0.6173 - val_loss: 0.6239\n",
            "Epoch 11/50\n",
            "3/3 [==============================] - 1s 302ms/step - loss: 0.5335 - val_loss: 0.6257\n",
            "Epoch 12/50\n",
            "3/3 [==============================] - 1s 287ms/step - loss: 0.4657 - val_loss: 0.6212\n",
            "Epoch 13/50\n",
            "3/3 [==============================] - 1s 293ms/step - loss: 0.4393 - val_loss: 0.6429\n",
            "Epoch 14/50\n",
            "3/3 [==============================] - 1s 282ms/step - loss: 0.3131 - val_loss: 0.7211\n",
            "Epoch 15/50\n",
            "3/3 [==============================] - 1s 255ms/step - loss: 0.2693 - val_loss: 0.8490\n",
            "3/3 [==============================] - 0s 25ms/step\n",
            "2/2 [==============================] - 0s 26ms/step\n",
            "2/2 [==============================] - 0s 21ms/step\n",
            "Epoch 1/50\n",
            "5/5 [==============================] - 5s 242ms/step - loss: 1.1464 - val_loss: 0.5675\n",
            "Epoch 2/50\n",
            "5/5 [==============================] - 1s 126ms/step - loss: 0.9720 - val_loss: 0.8695\n",
            "Epoch 3/50\n",
            "5/5 [==============================] - 1s 117ms/step - loss: 0.8176 - val_loss: 0.6184\n",
            "Epoch 4/50\n",
            "5/5 [==============================] - 1s 125ms/step - loss: 0.7317 - val_loss: 0.4853\n",
            "Epoch 5/50\n",
            "5/5 [==============================] - 1s 123ms/step - loss: 0.5499 - val_loss: 0.5175\n",
            "Epoch 6/50\n",
            "5/5 [==============================] - 1s 119ms/step - loss: 0.5540 - val_loss: 0.3941\n",
            "Epoch 7/50\n",
            "5/5 [==============================] - 1s 146ms/step - loss: 0.4465 - val_loss: 0.2473\n",
            "Epoch 8/50\n",
            "5/5 [==============================] - 1s 224ms/step - loss: 0.3976 - val_loss: 0.0676\n",
            "Epoch 9/50\n",
            "5/5 [==============================] - 1s 224ms/step - loss: 0.3817 - val_loss: 0.1619\n",
            "Epoch 10/50\n",
            "5/5 [==============================] - 1s 229ms/step - loss: 0.3961 - val_loss: 0.1046\n",
            "Epoch 11/50\n",
            "5/5 [==============================] - 1s 198ms/step - loss: 0.3371 - val_loss: 0.1516\n",
            "Epoch 12/50\n",
            "5/5 [==============================] - 1s 121ms/step - loss: 0.3227 - val_loss: 0.0906\n",
            "Epoch 13/50\n",
            "5/5 [==============================] - 1s 118ms/step - loss: 0.3460 - val_loss: 0.1720\n",
            "Epoch 14/50\n",
            "5/5 [==============================] - 1s 131ms/step - loss: 0.3351 - val_loss: 0.0605\n",
            "Epoch 15/50\n",
            "5/5 [==============================] - 1s 122ms/step - loss: 0.3584 - val_loss: 0.0935\n",
            "Epoch 16/50\n",
            "5/5 [==============================] - 1s 124ms/step - loss: 0.3243 - val_loss: 0.1335\n",
            "Epoch 17/50\n",
            "5/5 [==============================] - 1s 122ms/step - loss: 0.3184 - val_loss: 0.1212\n",
            "Epoch 18/50\n",
            "5/5 [==============================] - 1s 124ms/step - loss: 0.3029 - val_loss: 0.3101\n",
            "Epoch 19/50\n",
            "5/5 [==============================] - 1s 123ms/step - loss: 0.3407 - val_loss: 0.0496\n",
            "Epoch 20/50\n",
            "5/5 [==============================] - 1s 124ms/step - loss: 0.3099 - val_loss: 0.1534\n",
            "Epoch 21/50\n",
            "5/5 [==============================] - 1s 128ms/step - loss: 0.3371 - val_loss: 0.0415\n",
            "Epoch 22/50\n",
            "5/5 [==============================] - 1s 120ms/step - loss: 0.2876 - val_loss: 0.1736\n",
            "Epoch 23/50\n",
            "5/5 [==============================] - 1s 123ms/step - loss: 0.3067 - val_loss: 0.0688\n",
            "Epoch 24/50\n",
            "5/5 [==============================] - 1s 126ms/step - loss: 0.2796 - val_loss: 0.1153\n",
            "Epoch 25/50\n",
            "5/5 [==============================] - 1s 121ms/step - loss: 0.2232 - val_loss: 0.0714\n",
            "Epoch 26/50\n",
            "5/5 [==============================] - 1s 122ms/step - loss: 0.3072 - val_loss: 0.2620\n",
            "Epoch 27/50\n",
            "5/5 [==============================] - 1s 127ms/step - loss: 0.3038 - val_loss: 0.0385\n",
            "Epoch 28/50\n",
            "5/5 [==============================] - 1s 213ms/step - loss: 0.3198 - val_loss: 0.0879\n",
            "Epoch 29/50\n",
            "5/5 [==============================] - 1s 218ms/step - loss: 0.2685 - val_loss: 0.2468\n",
            "Epoch 30/50\n",
            "5/5 [==============================] - 1s 217ms/step - loss: 0.2976 - val_loss: 0.0729\n",
            "Epoch 31/50\n",
            "5/5 [==============================] - 1s 209ms/step - loss: 0.2358 - val_loss: 0.0518\n",
            "Epoch 32/50\n",
            "5/5 [==============================] - 1s 119ms/step - loss: 0.2740 - val_loss: 0.2049\n",
            "Epoch 33/50\n",
            "5/5 [==============================] - 1s 122ms/step - loss: 0.2447 - val_loss: 0.0560\n",
            "Epoch 34/50\n",
            "5/5 [==============================] - 1s 125ms/step - loss: 0.2438 - val_loss: 0.0494\n",
            "Epoch 35/50\n",
            "5/5 [==============================] - 1s 122ms/step - loss: 0.2221 - val_loss: 0.1144\n",
            "Epoch 36/50\n",
            "5/5 [==============================] - 1s 122ms/step - loss: 0.2190 - val_loss: 0.0991\n",
            "Epoch 37/50\n",
            "5/5 [==============================] - 1s 123ms/step - loss: 0.1841 - val_loss: 0.1195\n",
            "3/3 [==============================] - 0s 23ms/step\n",
            "2/2 [==============================] - 0s 24ms/step\n",
            "2/2 [==============================] - 0s 26ms/step\n",
            "Epoch 1/50\n",
            "6/6 [==============================] - 6s 386ms/step - loss: 0.9531 - val_loss: 0.5695\n",
            "Epoch 2/50\n",
            "6/6 [==============================] - 1s 235ms/step - loss: 0.7349 - val_loss: 0.4368\n",
            "Epoch 3/50\n",
            "6/6 [==============================] - 1s 127ms/step - loss: 0.5322 - val_loss: 0.4373\n",
            "Epoch 4/50\n",
            "6/6 [==============================] - 1s 131ms/step - loss: 0.4500 - val_loss: 0.4111\n",
            "Epoch 5/50\n",
            "6/6 [==============================] - 1s 131ms/step - loss: 0.3542 - val_loss: 1.3811\n",
            "Epoch 6/50\n",
            "6/6 [==============================] - 1s 128ms/step - loss: 0.3326 - val_loss: 0.2232\n",
            "Epoch 7/50\n",
            "6/6 [==============================] - 1s 129ms/step - loss: 0.4136 - val_loss: 0.3201\n",
            "Epoch 8/50\n",
            "6/6 [==============================] - 1s 128ms/step - loss: 0.3593 - val_loss: 0.2152\n",
            "Epoch 9/50\n",
            "6/6 [==============================] - 1s 130ms/step - loss: 0.3231 - val_loss: 0.4048\n",
            "Epoch 10/50\n",
            "6/6 [==============================] - 1s 130ms/step - loss: 0.3096 - val_loss: 0.2621\n",
            "Epoch 11/50\n",
            "6/6 [==============================] - 1s 125ms/step - loss: 0.2930 - val_loss: 0.3616\n",
            "Epoch 12/50\n",
            "6/6 [==============================] - 1s 129ms/step - loss: 0.2638 - val_loss: 0.3213\n",
            "Epoch 13/50\n",
            "6/6 [==============================] - 1s 128ms/step - loss: 0.2432 - val_loss: 0.4164\n",
            "Epoch 14/50\n",
            "6/6 [==============================] - 1s 129ms/step - loss: 0.2275 - val_loss: 0.3486\n",
            "Epoch 15/50\n",
            "6/6 [==============================] - 1s 151ms/step - loss: 0.2123 - val_loss: 0.4270\n",
            "Epoch 16/50\n",
            "6/6 [==============================] - 1s 239ms/step - loss: 0.2381 - val_loss: 0.2115\n",
            "Epoch 17/50\n",
            "6/6 [==============================] - 1s 249ms/step - loss: 0.2415 - val_loss: 0.5329\n",
            "Epoch 18/50\n",
            "6/6 [==============================] - 1s 209ms/step - loss: 0.2520 - val_loss: 0.2380\n",
            "Epoch 19/50\n",
            "6/6 [==============================] - 1s 132ms/step - loss: 0.2119 - val_loss: 0.3864\n",
            "Epoch 20/50\n",
            "6/6 [==============================] - 1s 134ms/step - loss: 0.2438 - val_loss: 0.2012\n",
            "Epoch 21/50\n",
            "6/6 [==============================] - 1s 132ms/step - loss: 0.2164 - val_loss: 0.3098\n",
            "Epoch 22/50\n",
            "6/6 [==============================] - 1s 126ms/step - loss: 0.1924 - val_loss: 0.2186\n",
            "Epoch 23/50\n",
            "6/6 [==============================] - 1s 131ms/step - loss: 0.2240 - val_loss: 0.2770\n",
            "Epoch 24/50\n",
            "6/6 [==============================] - 1s 129ms/step - loss: 0.2117 - val_loss: 0.1947\n",
            "Epoch 25/50\n",
            "6/6 [==============================] - 1s 130ms/step - loss: 0.2013 - val_loss: 0.1947\n",
            "Epoch 26/50\n",
            "6/6 [==============================] - 1s 128ms/step - loss: 0.1819 - val_loss: 0.2152\n",
            "Epoch 27/50\n",
            "6/6 [==============================] - 1s 131ms/step - loss: 0.2007 - val_loss: 0.4462\n",
            "Epoch 28/50\n",
            "6/6 [==============================] - 1s 152ms/step - loss: 0.1957 - val_loss: 0.2114\n",
            "Epoch 29/50\n",
            "6/6 [==============================] - 1s 133ms/step - loss: 0.2000 - val_loss: 0.2855\n",
            "Epoch 30/50\n",
            "6/6 [==============================] - 1s 131ms/step - loss: 0.1879 - val_loss: 0.2359\n",
            "Epoch 31/50\n",
            "6/6 [==============================] - 1s 175ms/step - loss: 0.2021 - val_loss: 0.2661\n",
            "Epoch 32/50\n",
            "6/6 [==============================] - 1s 250ms/step - loss: 0.1953 - val_loss: 0.2072\n",
            "Epoch 33/50\n",
            "6/6 [==============================] - 1s 243ms/step - loss: 0.1835 - val_loss: 0.2636\n",
            "Epoch 34/50\n",
            "6/6 [==============================] - 1s 171ms/step - loss: 0.1912 - val_loss: 0.1916\n",
            "Epoch 35/50\n",
            "6/6 [==============================] - 1s 127ms/step - loss: 0.1682 - val_loss: 0.1964\n",
            "Epoch 36/50\n",
            "6/6 [==============================] - 1s 133ms/step - loss: 0.1592 - val_loss: 0.2101\n",
            "Epoch 37/50\n",
            "6/6 [==============================] - 1s 130ms/step - loss: 0.1745 - val_loss: 0.2249\n",
            "Epoch 38/50\n",
            "6/6 [==============================] - 1s 128ms/step - loss: 0.1797 - val_loss: 0.2193\n",
            "Epoch 39/50\n",
            "6/6 [==============================] - 1s 127ms/step - loss: 0.1601 - val_loss: 0.2678\n",
            "Epoch 40/50\n",
            "6/6 [==============================] - 1s 129ms/step - loss: 0.1721 - val_loss: 0.2001\n",
            "Epoch 41/50\n",
            "6/6 [==============================] - 1s 133ms/step - loss: 0.1954 - val_loss: 0.1880\n",
            "Epoch 42/50\n",
            "6/6 [==============================] - 1s 130ms/step - loss: 0.1704 - val_loss: 0.2507\n",
            "Epoch 43/50\n",
            "6/6 [==============================] - 1s 129ms/step - loss: 0.1627 - val_loss: 0.3103\n",
            "Epoch 44/50\n",
            "6/6 [==============================] - 1s 131ms/step - loss: 0.1598 - val_loss: 0.2412\n",
            "Epoch 45/50\n",
            "6/6 [==============================] - 1s 130ms/step - loss: 0.1859 - val_loss: 0.1930\n",
            "Epoch 46/50\n",
            "6/6 [==============================] - 1s 128ms/step - loss: 0.1521 - val_loss: 0.2179\n",
            "Epoch 47/50\n",
            "6/6 [==============================] - 1s 177ms/step - loss: 0.1702 - val_loss: 0.1733\n",
            "Epoch 48/50\n",
            "6/6 [==============================] - 1s 227ms/step - loss: 0.1793 - val_loss: 0.2019\n",
            "Epoch 49/50\n",
            "6/6 [==============================] - 1s 235ms/step - loss: 0.1599 - val_loss: 0.2135\n",
            "Epoch 50/50\n",
            "6/6 [==============================] - 1s 195ms/step - loss: 0.1618 - val_loss: 0.1706\n",
            "3/3 [==============================] - 1s 45ms/step\n",
            "2/2 [==============================] - 0s 47ms/step\n",
            "2/2 [==============================] - 0s 47ms/step\n",
            "Epoch 1/50\n",
            "7/7 [==============================] - 5s 321ms/step - loss: 0.8148 - val_loss: 0.3609\n",
            "Epoch 2/50\n",
            "7/7 [==============================] - 1s 132ms/step - loss: 0.6739 - val_loss: 0.2201\n",
            "Epoch 3/50\n",
            "7/7 [==============================] - 1s 138ms/step - loss: 0.5260 - val_loss: 0.0827\n",
            "Epoch 4/50\n",
            "7/7 [==============================] - 1s 130ms/step - loss: 0.4898 - val_loss: 0.0627\n",
            "Epoch 5/50\n",
            "7/7 [==============================] - 1s 210ms/step - loss: 0.4064 - val_loss: 0.0540\n",
            "Epoch 6/50\n",
            "7/7 [==============================] - 1s 127ms/step - loss: 0.4162 - val_loss: 0.0911\n",
            "Epoch 7/50\n",
            "7/7 [==============================] - 2s 233ms/step - loss: 0.3609 - val_loss: 0.0250\n",
            "Epoch 8/50\n",
            "7/7 [==============================] - 2s 233ms/step - loss: 0.3095 - val_loss: 0.0248\n",
            "Epoch 9/50\n",
            "7/7 [==============================] - 1s 213ms/step - loss: 0.2801 - val_loss: 0.0298\n",
            "Epoch 10/50\n",
            "7/7 [==============================] - 1s 130ms/step - loss: 0.2750 - val_loss: 0.0391\n",
            "Epoch 11/50\n",
            "7/7 [==============================] - 1s 126ms/step - loss: 0.2463 - val_loss: 0.0751\n",
            "Epoch 12/50\n",
            "7/7 [==============================] - 1s 126ms/step - loss: 0.2535 - val_loss: 0.0429\n",
            "Epoch 13/50\n",
            "7/7 [==============================] - 1s 129ms/step - loss: 0.2754 - val_loss: 0.0714\n",
            "Epoch 14/50\n",
            "7/7 [==============================] - 1s 131ms/step - loss: 0.2418 - val_loss: 0.0380\n",
            "Epoch 15/50\n",
            "7/7 [==============================] - 1s 124ms/step - loss: 0.2472 - val_loss: 0.0240\n",
            "Epoch 16/50\n",
            "7/7 [==============================] - 1s 127ms/step - loss: 0.2398 - val_loss: 0.0248\n",
            "Epoch 17/50\n",
            "7/7 [==============================] - 1s 126ms/step - loss: 0.2386 - val_loss: 0.0212\n",
            "Epoch 18/50\n",
            "7/7 [==============================] - 1s 127ms/step - loss: 0.1940 - val_loss: 0.0261\n",
            "Epoch 19/50\n",
            "7/7 [==============================] - 1s 143ms/step - loss: 0.1971 - val_loss: 0.0261\n",
            "Epoch 20/50\n",
            "7/7 [==============================] - 1s 145ms/step - loss: 0.2058 - val_loss: 0.0254\n",
            "Epoch 21/50\n",
            "7/7 [==============================] - 2s 234ms/step - loss: 0.1943 - val_loss: 0.0297\n",
            "Epoch 22/50\n",
            "7/7 [==============================] - 2s 243ms/step - loss: 0.2068 - val_loss: 0.0267\n",
            "Epoch 23/50\n",
            "7/7 [==============================] - 1s 174ms/step - loss: 0.1877 - val_loss: 0.0315\n",
            "Epoch 24/50\n",
            "7/7 [==============================] - 1s 129ms/step - loss: 0.2033 - val_loss: 0.0350\n",
            "Epoch 25/50\n",
            "7/7 [==============================] - 1s 127ms/step - loss: 0.1902 - val_loss: 0.0330\n",
            "Epoch 26/50\n",
            "7/7 [==============================] - 1s 131ms/step - loss: 0.1858 - val_loss: 0.0507\n",
            "Epoch 27/50\n",
            "7/7 [==============================] - 1s 135ms/step - loss: 0.1946 - val_loss: 0.0244\n",
            "3/3 [==============================] - 1s 26ms/step\n",
            "2/2 [==============================] - 0s 26ms/step\n",
            "2/2 [==============================] - 0s 27ms/step\n"
          ]
        }
      ]
    },
    {
      "cell_type": "code",
      "source": [
        "# Menghitung average RMSE dari cross-validation\n",
        "mean_rmse = np.mean(rmses)\n",
        "mean_mae = np.mean(maes)\n",
        "print(f\"Average RMSE: {mean_rmse}\")\n",
        "print(f\"Average MAE: {mean_mae}\")"
      ],
      "metadata": {
        "colab": {
          "base_uri": "https://localhost:8080/"
        },
        "id": "Dmt0Ub0Aevsu",
        "outputId": "3c826f64-d8dc-4e2f-f050-175f9e46695b"
      },
      "execution_count": null,
      "outputs": [
        {
          "output_type": "stream",
          "name": "stdout",
          "text": [
            "Average RMSE: 0.36673182451152053\n",
            "Average MAE: 0.267079632626131\n"
          ]
        }
      ]
    },
    {
      "cell_type": "code",
      "source": [
        "# Predictions untuk test data (X_test)\n",
        "y_pred_test = model.predict(X_test)\n",
        "y_pred_test = scaler.inverse_transform(y_pred_test)"
      ],
      "metadata": {
        "colab": {
          "base_uri": "https://localhost:8080/"
        },
        "id": "cGGsoq9nz9iK",
        "outputId": "ea77c8f3-c9a7-4064-c7dc-e06b1111ef31"
      },
      "execution_count": null,
      "outputs": [
        {
          "output_type": "stream",
          "name": "stdout",
          "text": [
            "3/3 [==============================] - 0s 29ms/step\n"
          ]
        }
      ]
    },
    {
      "cell_type": "code",
      "source": [
        "print(y_pred_test)"
      ],
      "metadata": {
        "colab": {
          "base_uri": "https://localhost:8080/"
        },
        "id": "VCJR7AfGkDMx",
        "outputId": "95993c92-bd2c-4916-dc4e-d14c5bffeb92"
      },
      "execution_count": null,
      "outputs": [
        {
          "output_type": "stream",
          "name": "stdout",
          "text": [
            "[[1.0538555]\n",
            " [1.0613965]\n",
            " [1.0678461]\n",
            " [1.0940895]\n",
            " [1.1165568]\n",
            " [1.1192446]\n",
            " [1.1106707]\n",
            " [1.0997707]\n",
            " [1.0888964]\n",
            " [1.0799112]\n",
            " [1.0728848]\n",
            " [1.067788 ]\n",
            " [1.0641999]\n",
            " [1.0613817]\n",
            " [1.0573453]\n",
            " [1.0557275]\n",
            " [1.0639015]\n",
            " [1.0853286]\n",
            " [1.1369925]\n",
            " [1.2131171]\n",
            " [1.2738587]\n",
            " [1.3021446]\n",
            " [1.3044684]\n",
            " [1.2873992]\n",
            " [1.2603321]\n",
            " [1.2413893]\n",
            " [1.2277176]\n",
            " [1.2248755]\n",
            " [1.2329097]\n",
            " [1.2487683]\n",
            " [1.2627028]\n",
            " [1.2716651]\n",
            " [1.2698764]\n",
            " [1.2453991]\n",
            " [1.2031156]\n",
            " [1.1531541]\n",
            " [1.1113511]\n",
            " [1.0818722]\n",
            " [1.0591259]\n",
            " [1.0435705]\n",
            " [1.0334159]\n",
            " [1.0251085]\n",
            " [1.0172325]\n",
            " [1.0117062]\n",
            " [1.0099916]\n",
            " [1.011526 ]\n",
            " [1.0160614]\n",
            " [1.0250512]\n",
            " [1.0454955]\n",
            " [1.1074834]\n",
            " [1.2062832]\n",
            " [1.2965572]\n",
            " [1.3652558]\n",
            " [1.4088007]\n",
            " [1.4256637]\n",
            " [1.4164007]\n",
            " [1.4007031]\n",
            " [1.3813858]\n",
            " [1.3478875]\n",
            " [1.309195 ]\n",
            " [1.266275 ]\n",
            " [1.2386082]\n",
            " [1.2258167]\n",
            " [1.2496947]\n",
            " [1.4038621]\n",
            " [1.7978358]\n",
            " [2.1932046]]\n"
          ]
        }
      ]
    },
    {
      "cell_type": "code",
      "source": [
        "# RMSE dan MAE dari test data\n",
        "rmse_test = sqrt(mean_squared_error(y_test, y_pred_test))\n",
        "mae_test = mean_absolute_error(y_test, y_pred_test)\n",
        "\n",
        "print(f\"RMSE for Test Data: {rmse_test}\")\n",
        "print(f\"MAE for Test Data: {mae_test}\")"
      ],
      "metadata": {
        "colab": {
          "base_uri": "https://localhost:8080/"
        },
        "id": "J8eb0Um3kJcQ",
        "outputId": "87ad51a5-3392-42b0-a20b-5b9540aef4f8"
      },
      "execution_count": null,
      "outputs": [
        {
          "output_type": "stream",
          "name": "stdout",
          "text": [
            "RMSE for Test Data: 1.8871855716508046\n",
            "MAE for Test Data: 1.7828307863221637\n"
          ]
        }
      ]
    },
    {
      "cell_type": "code",
      "source": [
        "# forecasting\n",
        "forecast_days = 5\n",
        "X_forecast = np.copy(X_test[-1])\n",
        "\n",
        "forecasted_values = []\n",
        "\n",
        "for _ in range(forecast_days):\n",
        "    forecasted_value = model.predict(X_forecast.reshape(1, seq_length, 1))\n",
        "    forecasted_values.append(forecasted_value[0, 0])\n",
        "\n",
        "    X_forecast = np.roll(X_forecast, -1)\n",
        "    X_forecast[-1] = forecasted_value\n",
        "\n",
        "forecasted_values = scaler.inverse_transform(np.array(forecasted_values).reshape(-1, 1))"
      ],
      "metadata": {
        "colab": {
          "base_uri": "https://localhost:8080/"
        },
        "id": "v-RBPbiQ2QFG",
        "outputId": "37b86f0e-4bde-4c09-a53d-56197364964b"
      },
      "execution_count": null,
      "outputs": [
        {
          "output_type": "stream",
          "name": "stdout",
          "text": [
            "1/1 [==============================] - 0s 32ms/step\n",
            "1/1 [==============================] - 0s 39ms/step\n",
            "1/1 [==============================] - 0s 29ms/step\n",
            "1/1 [==============================] - 0s 34ms/step\n",
            "1/1 [==============================] - 0s 30ms/step\n"
          ]
        }
      ]
    },
    {
      "cell_type": "code",
      "source": [
        "print(forecasted_values)"
      ],
      "metadata": {
        "colab": {
          "base_uri": "https://localhost:8080/"
        },
        "id": "LhGSSGzSo3fT",
        "outputId": "1cb82502-317c-4df9-d0b8-3d64b88293fd"
      },
      "execution_count": null,
      "outputs": [
        {
          "output_type": "stream",
          "name": "stdout",
          "text": [
            "[[2.1932044]\n",
            " [2.3389559]\n",
            " [2.3486593]\n",
            " [2.3133163]\n",
            " [2.2687457]]\n"
          ]
        }
      ]
    },
    {
      "cell_type": "code",
      "source": [
        "# date range buat forecast\n",
        "last_date = df.index[-1]\n",
        "forecast_dates = pd.date_range(last_date, periods=forecast_days + 1)[1:]\n",
        "\n",
        "# date range buat test data\n",
        "test_dates = df.index[-len(y_pred_test):]"
      ],
      "metadata": {
        "id": "ks9abjVio6WE"
      },
      "execution_count": null,
      "outputs": []
    },
    {
      "cell_type": "code",
      "source": [
        "# Plot dari original data, predicted test data, dan forecasted values\n",
        "plt.figure(figsize=(12, 6))\n",
        "plt.plot(df.index, df['Open'], label='Original Data')\n",
        "plt.plot(forecast_dates, forecasted_values, label='5-Day Forecast', linestyle='--', color='red')\n",
        "plt.plot(test_dates, y_pred_test, label='Predicted Test Data', linestyle='--', color='green') # Adding the predicted test data\n",
        "plt.title('Stock Price Forecast')\n",
        "plt.xlabel('Date')\n",
        "plt.ylabel('Stock Price')\n",
        "plt.legend()\n",
        "plt.show()"
      ],
      "metadata": {
        "colab": {
          "base_uri": "https://localhost:8080/",
          "height": 564
        },
        "id": "iPutYfCwpAFI",
        "outputId": "bf2b9de4-e0c0-4918-d5a8-b40e60ffb2fb"
      },
      "execution_count": null,
      "outputs": [
        {
          "output_type": "display_data",
          "data": {
            "text/plain": [
              "<Figure size 1200x600 with 1 Axes>"
            ],
            "image/png": "[encoded data removed]"
          },
          "metadata": {}
        }
      ]
    }
  ]
}