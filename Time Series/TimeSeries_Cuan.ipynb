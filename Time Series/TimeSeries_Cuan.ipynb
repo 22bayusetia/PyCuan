{
  "nbformat": 4,
  "nbformat_minor": 0,
  "metadata": {
    "colab": {
      "provenance": []
    },
    "kernelspec": {
      "name": "python3",
      "display_name": "Python 3"
    },
    "language_info": {
      "name": "python"
    }
  },
  "cells": [
    {
      "cell_type": "code",
      "execution_count": null,
      "metadata": {
        "colab": {
          "base_uri": "https://localhost:8080/"
        },
        "id": "Vj3vQKX1fj97",
        "outputId": "734d30d5-f455-41eb-c183-d3426fee5aea"
      },
      "outputs": [
        {
          "output_type": "stream",
          "name": "stdout",
          "text": [
            "Requirement already satisfied: pandas in /usr/local/lib/python3.10/dist-packages (1.5.3)\n",
            "Requirement already satisfied: matplotlib in /usr/local/lib/python3.10/dist-packages (3.7.1)\n",
            "Requirement already satisfied: yfinance in /usr/local/lib/python3.10/dist-packages (0.2.31)\n",
            "Requirement already satisfied: python-dateutil>=2.8.1 in /usr/local/lib/python3.10/dist-packages (from pandas) (2.8.2)\n",
            "Requirement already satisfied: pytz>=2020.1 in /usr/local/lib/python3.10/dist-packages (from pandas) (2023.3.post1)\n",
            "Requirement already satisfied: numpy>=1.21.0 in /usr/local/lib/python3.10/dist-packages (from pandas) (1.23.5)\n",
            "Requirement already satisfied: contourpy>=1.0.1 in /usr/local/lib/python3.10/dist-packages (from matplotlib) (1.2.0)\n",
            "Requirement already satisfied: cycler>=0.10 in /usr/local/lib/python3.10/dist-packages (from matplotlib) (0.12.1)\n",
            "Requirement already satisfied: fonttools>=4.22.0 in /usr/local/lib/python3.10/dist-packages (from matplotlib) (4.44.0)\n",
            "Requirement already satisfied: kiwisolver>=1.0.1 in /usr/local/lib/python3.10/dist-packages (from matplotlib) (1.4.5)\n",
            "Requirement already satisfied: packaging>=20.0 in /usr/local/lib/python3.10/dist-packages (from matplotlib) (23.2)\n",
            "Requirement already satisfied: pillow>=6.2.0 in /usr/local/lib/python3.10/dist-packages (from matplotlib) (9.4.0)\n",
            "Requirement already satisfied: pyparsing>=2.3.1 in /usr/local/lib/python3.10/dist-packages (from matplotlib) (3.1.1)\n",
            "Requirement already satisfied: requests>=2.31 in /usr/local/lib/python3.10/dist-packages (from yfinance) (2.31.0)\n",
            "Requirement already satisfied: multitasking>=0.0.7 in /usr/local/lib/python3.10/dist-packages (from yfinance) (0.0.11)\n",
            "Requirement already satisfied: lxml>=4.9.1 in /usr/local/lib/python3.10/dist-packages (from yfinance) (4.9.3)\n",
            "Requirement already satisfied: appdirs>=1.4.4 in /usr/local/lib/python3.10/dist-packages (from yfinance) (1.4.4)\n",
            "Requirement already satisfied: frozendict>=2.3.4 in /usr/local/lib/python3.10/dist-packages (from yfinance) (2.3.8)\n",
            "Requirement already satisfied: peewee>=3.16.2 in /usr/local/lib/python3.10/dist-packages (from yfinance) (3.17.0)\n",
            "Requirement already satisfied: beautifulsoup4>=4.11.1 in /usr/local/lib/python3.10/dist-packages (from yfinance) (4.11.2)\n",
            "Requirement already satisfied: html5lib>=1.1 in /usr/local/lib/python3.10/dist-packages (from yfinance) (1.1)\n",
            "Requirement already satisfied: soupsieve>1.2 in /usr/local/lib/python3.10/dist-packages (from beautifulsoup4>=4.11.1->yfinance) (2.5)\n",
            "Requirement already satisfied: six>=1.9 in /usr/local/lib/python3.10/dist-packages (from html5lib>=1.1->yfinance) (1.16.0)\n",
            "Requirement already satisfied: webencodings in /usr/local/lib/python3.10/dist-packages (from html5lib>=1.1->yfinance) (0.5.1)\n",
            "Requirement already satisfied: charset-normalizer<4,>=2 in /usr/local/lib/python3.10/dist-packages (from requests>=2.31->yfinance) (3.3.2)\n",
            "Requirement already satisfied: idna<4,>=2.5 in /usr/local/lib/python3.10/dist-packages (from requests>=2.31->yfinance) (3.4)\n",
            "Requirement already satisfied: urllib3<3,>=1.21.1 in /usr/local/lib/python3.10/dist-packages (from requests>=2.31->yfinance) (2.0.7)\n",
            "Requirement already satisfied: certifi>=2017.4.17 in /usr/local/lib/python3.10/dist-packages (from requests>=2.31->yfinance) (2023.7.22)\n"
          ]
        }
      ],
      "source": [
        "!pip install pandas matplotlib yfinance"
      ]
    },
    {
      "cell_type": "code",
      "source": [
        "# Import libraries yang dibutuhkan\n",
        "import pandas as pd\n",
        "import numpy as np\n",
        "import matplotlib.pyplot as plt\n",
        "import tensorflow as tf\n",
        "from tensorflow import keras\n",
        "from tensorflow.keras.layers import Input, LSTM, Dense, Dropout\n",
        "from tensorflow.keras.callbacks import EarlyStopping\n",
        "from sklearn.model_selection import train_test_split\n",
        "from sklearn.preprocessing import MinMaxScaler, StandardScaler\n",
        "from sklearn.metrics import mean_squared_error, mean_absolute_error\n",
        "import yfinance as yf\n",
        "from math import sqrt\n",
        "from xgboost import XGBRegressor\n",
        "from sklearn.model_selection import TimeSeriesSplit\n",
        "from sklearn.metrics import r2_score"
      ],
      "metadata": {
        "id": "awUIWpDjcAOx"
      },
      "execution_count": 40,
      "outputs": []
    },
    {
      "cell_type": "code",
      "source": [
        "# Define kode saham dan rentang waktu (1 tahun cukup)\n",
        "stock_symbol = 'FTT-USD'\n",
        "start_date = '2022-11-14'\n",
        "end_date = '2023-11-14'"
      ],
      "metadata": {
        "id": "rLFVbzFLkHXO"
      },
      "execution_count": 3,
      "outputs": []
    },
    {
      "cell_type": "code",
      "source": [
        "# Ambil bagian historical data\n",
        "df = yf.download(stock_symbol, start=start_date, end=end_date)"
      ],
      "metadata": {
        "colab": {
          "base_uri": "https://localhost:8080/"
        },
        "id": "9oY2s_WQkKCY",
        "outputId": "026bcbf4-fd4b-438b-9126-e4abd0e01f87"
      },
      "execution_count": 4,
      "outputs": [
        {
          "output_type": "stream",
          "name": "stdout",
          "text": [
            "\r[*********************100%%**********************]  1 of 1 completed\n"
          ]
        }
      ]
    },
    {
      "cell_type": "code",
      "source": [
        "# Pilih kolom 'Open' (butuhnya opening price)\n",
        "ts = df['Open'].values"
      ],
      "metadata": {
        "id": "CXqNo_-PkPbJ"
      },
      "execution_count": 5,
      "outputs": []
    },
    {
      "cell_type": "code",
      "source": [
        "print(ts)"
      ],
      "metadata": {
        "colab": {
          "base_uri": "https://localhost:8080/"
        },
        "id": "a9Se-WnpkvrD",
        "outputId": "ed71ff0a-7251-479b-fe67-3d4a8693e946"
      },
      "execution_count": 6,
      "outputs": [
        {
          "output_type": "stream",
          "name": "stdout",
          "text": [
            "[1.49011004 1.47427404 1.83462596 1.62528396 1.56169605 1.45689595\n",
            " 1.41655099 1.331622   1.25741601 1.33343196 1.29859698 1.37550104\n",
            " 1.40119505 1.36450601 1.31575096 1.29403603 1.30423903 1.34015799\n",
            " 1.29195297 1.30669999 1.31465304 1.38741302 1.39137304 1.45479798\n",
            " 1.39118099 1.36426103 1.700912   1.51605797 1.52172601 1.48479998\n",
            " 1.40507495 1.374439   1.35659301 1.14310801 1.07892501 1.04088998\n",
            " 0.96074402 0.93813401 0.87397301 1.02713299 0.95750499 0.92443198\n",
            " 0.89456701 0.93113798 0.92116201 0.88572299 0.86019301 0.83896798\n",
            " 0.84297401 0.85811198 0.86230701 0.88518697 1.00226498 0.94411999\n",
            " 0.91083902 0.90921497 0.91302401 1.32805502 1.24062502 1.30208302\n",
            " 1.37791204 1.40603006 1.84186304 2.20495892 2.51167893 2.0784719\n",
            " 1.76817    2.29456091 2.40961194 2.16448212 2.1053431  2.19820094\n",
            " 1.83706999 1.96418798 1.88223898 1.98208296 1.91840398 2.05706811\n",
            " 1.89022601 1.90903294 1.92808294 1.91345203 2.04355907 1.97289002\n",
            " 1.90584099 1.92961597 2.03915596 1.95197594 1.58625102 1.62159097\n",
            " 1.62358499 1.70848405 1.55422294 1.59833097 1.68577802 1.545228\n",
            " 1.64451396 1.62256896 1.59689295 1.70243096 1.62933004 1.57755101\n",
            " 1.58061004 1.52864599 1.48498499 1.54188204 1.50087595 1.44671094\n",
            " 1.48202503 1.42223704 1.28162205 1.25328302 1.26420903 1.32164502\n",
            " 1.25238597 1.17590404 1.14107001 1.09181905 1.034338   1.11340594\n",
            " 1.14334404 1.19234598 1.10870504 1.12740695 1.16982698 1.44778001\n",
            " 1.45064104 1.37748694 1.444332   1.34654498 1.36213505 1.27699006\n",
            " 1.29999495 1.29703295 1.25187302 1.33372998 1.31594002 1.31297004\n",
            " 1.33684397 1.32299304 1.29963005 1.26983702 1.28829896 1.30313599\n",
            " 1.27417195 1.24917603 1.26524496 1.25360405 1.26932096 1.38225305\n",
            " 2.446491   2.06079006 2.06351495 2.0103581  1.95502496 1.78893805\n",
            " 2.15479589 1.92381299 1.82041705 1.67864895 1.75981402 1.62789202\n",
            " 1.63522804 1.62657404 1.561813   1.53212595 1.518641   1.54269803\n",
            " 1.51801896 1.42360103 1.42497003 1.45878303 1.48174405 1.44880903\n",
            " 1.36371303 1.33380699 1.26417696 1.29355001 1.16969097 1.11699498\n",
            " 1.09957898 1.08073997 1.09388804 1.09453297 1.08318806 1.157143\n",
            " 1.10353899 1.07873404 1.03376901 1.00800896 1.07605505 1.08845997\n",
            " 1.01104796 1.02368796 1.01507103 1.01459503 1.02728903 1.00592101\n",
            " 0.968238   0.95422202 0.93534303 0.973589   0.93560398 0.96988398\n",
            " 0.87064201 0.89296103 0.90704501 1.09821796 0.94421601 0.828264\n",
            " 0.81705499 0.81816399 0.84387302 0.811867   0.90639597 0.89559197\n",
            " 0.91587198 0.89370799 0.93264401 0.93928999 0.96517998 1.06096303\n",
            " 1.09756505 1.01711404 1.12495005 1.255252   1.33624804 1.77952695\n",
            " 2.06852388 1.93581605 1.67078996 1.66511095 1.51153803 1.46872997\n",
            " 1.54187405 1.47930396 1.46036804 1.52897406 1.44693303 1.38473201\n",
            " 1.60567605 1.54698205 1.55882299 1.58721495 1.57430005 1.64227796\n",
            " 1.58171499 1.48846304 1.45343006 1.41759396 1.41446805 1.46042597\n",
            " 1.420964   1.34694195 1.35609603 1.35956204 1.381001   1.42860103\n",
            " 1.39037204 1.36990201 1.34561503 1.38487101 1.336236   1.25265503\n",
            " 1.26304698 1.23403597 1.23963702 1.15004694 1.20963299 1.187994\n",
            " 1.17497301 1.15063906 1.17011094 1.16080594 1.16115105 1.03861296\n",
            " 1.02852499 0.92367297 0.96472299 1.09693694 1.07249105 1.04698098\n",
            " 1.08784103 1.09363699 1.05177402 1.01252604 1.04150403 1.03494203\n",
            " 1.01778495 1.04571605 1.03387702 1.01492    1.00863004 1.03424501\n",
            " 1.06467605 1.06507897 1.03874898 1.04571605 1.04697096 1.05280399\n",
            " 1.17595398 1.05592799 0.99792802 1.03726602 1.05429804 1.04847205\n",
            " 1.04576004 1.04765499 1.04535496 1.04136503 1.04167902 1.02635396\n",
            " 1.05101705 1.10358906 1.134431   1.22863698 1.258304   1.17659605\n",
            " 1.13375401 1.13590801 1.12068403 1.12438405 1.18284202 1.15499306\n",
            " 1.19104505 1.20681298 1.21876502 1.19794202 1.19828999 1.16617894\n",
            " 1.06585205 1.05291295 1.02136695 1.05055702 1.05351198 1.04735506\n",
            " 1.05077899 1.05863905 1.01672804 1.00959396 1.03459203 1.04973304\n",
            " 1.04698896 1.05290997 1.07321    1.14432001 1.29702103 1.29309499\n",
            " 1.25516498 1.27425504 1.275033   1.25916696 1.22262299 1.27509201\n",
            " 1.25552702 1.17154098 1.18500996 1.14605701 1.232867   1.22078705\n",
            " 1.36025703 2.19039202 4.28340483 3.221735   3.42543697]\n"
          ]
        }
      ]
    },
    {
      "cell_type": "code",
      "source": [
        "# Display time series plot dari original data opening price\n",
        "plt.figure(figsize=(12, 6))\n",
        "plt.plot(df.index, df['Open'], label='Original Data')\n",
        "plt.title('Opening Price Time Series Data')\n",
        "plt.xlabel('Date')\n",
        "plt.ylabel('Stock Price')\n",
        "plt.legend()\n",
        "plt.show()"
      ],
      "metadata": {
        "colab": {
          "base_uri": "https://localhost:8080/",
          "height": 564
        },
        "id": "iyAc78mez1yn",
        "outputId": "ee8d6520-72e1-4185-f6d6-836fe57ffa90"
      },
      "execution_count": 7,
      "outputs": [
        {
          "output_type": "display_data",
          "data": {
            "text/plain": [
              "<Figure size 1200x600 with 1 Axes>"
            ],
            "image/png": "[encoded data removed]"
          },
          "metadata": {}
        }
      ]
    },
    {
      "cell_type": "code",
      "source": [
        "# Normalisasi data\n",
        "scaler = StandardScaler()\n",
        "ts = scaler.fit_transform(np.array(ts).reshape(-1, 1))"
      ],
      "metadata": {
        "id": "XFkmMjmDkR9S"
      },
      "execution_count": 8,
      "outputs": []
    },
    {
      "cell_type": "code",
      "source": [
        "# Prepare X_train dan X_test\n",
        "seq_length = 30\n",
        "\n",
        "X_train = []\n",
        "y_train = []\n",
        "\n",
        "for i in range(len(ts) - seq_length):\n",
        "    X_train.append(ts[i:i + seq_length])\n",
        "    y_train.append(ts[i + seq_length])"
      ],
      "metadata": {
        "id": "xLF9TCe0kXvD"
      },
      "execution_count": 9,
      "outputs": []
    },
    {
      "cell_type": "code",
      "source": [
        "# Memastikan X_train dan y_train adalah numpy arrays\n",
        "X_train = np.array(X_train)\n",
        "y_train = np.array(y_train)"
      ],
      "metadata": {
        "id": "gHRoY3tOkayF"
      },
      "execution_count": 10,
      "outputs": []
    },
    {
      "cell_type": "code",
      "source": [
        "# Split data menjadi training dan testing (80% training, 20% testing)\n",
        "train_size = int(len(X_train) * 0.8)\n",
        "X_train, X_test = X_train[:train_size], X_train[train_size:]\n",
        "y_train, y_test = y_train[:train_size], y_train[train_size:]"
      ],
      "metadata": {
        "id": "YH0XLLQNkdbD"
      },
      "execution_count": 11,
      "outputs": []
    },
    {
      "cell_type": "code",
      "source": [
        "# Model Architecture\n",
        "model = keras.Sequential()\n",
        "model.add(LSTM(128, activation='relu', return_sequences=True, input_shape=(seq_length, 1)))\n",
        "model.add(Dropout(0.2))  # tambah dropout buat prevent overfitting\n",
        "model.add(LSTM(128, activation='relu', return_sequences=True))\n",
        "model.add(Dropout(0.2))\n",
        "model.add(LSTM(128, activation='relu'))\n",
        "model.add(Dropout(0.2))\n",
        "model.add(Dense(64, activation='relu'))\n",
        "model.add(Dropout(0.2))\n",
        "model.add(Dense(1))"
      ],
      "metadata": {
        "id": "teFjj0BMkf9F"
      },
      "execution_count": 12,
      "outputs": []
    },
    {
      "cell_type": "code",
      "source": [
        "# Training Parameters\n",
        "model.compile(optimizer='adam', loss='mean_squared_error')\n",
        "early_stopping = EarlyStopping(monitor='val_loss', patience=10, restore_best_weights=True)  # Early stopping callback"
      ],
      "metadata": {
        "id": "GAx4qQ5zY69E"
      },
      "execution_count": 13,
      "outputs": []
    },
    {
      "cell_type": "code",
      "source": [
        "# Model Training\n",
        "model.fit(X_train, y_train, epochs=50, batch_size=32, validation_split=0.2, callbacks=[early_stopping])"
      ],
      "metadata": {
        "colab": {
          "base_uri": "https://localhost:8080/"
        },
        "id": "cW3_LnfGY-PK",
        "outputId": "0f340ac7-9261-4476-eaac-bb4848d19416"
      },
      "execution_count": 14,
      "outputs": [
        {
          "output_type": "stream",
          "name": "stdout",
          "text": [
            "Epoch 1/50\n",
            "7/7 [==============================] - 16s 526ms/step - loss: 0.9158 - val_loss: 0.2750\n",
            "Epoch 2/50\n",
            "7/7 [==============================] - 1s 178ms/step - loss: 0.7125 - val_loss: 0.1058\n",
            "Epoch 3/50\n",
            "7/7 [==============================] - 1s 144ms/step - loss: 0.6825 - val_loss: 0.2441\n",
            "Epoch 4/50\n",
            "7/7 [==============================] - 1s 139ms/step - loss: 0.4640 - val_loss: 0.0268\n",
            "Epoch 5/50\n",
            "7/7 [==============================] - 1s 145ms/step - loss: 0.4033 - val_loss: 0.1017\n",
            "Epoch 6/50\n",
            "7/7 [==============================] - 1s 145ms/step - loss: 0.4063 - val_loss: 0.0284\n",
            "Epoch 7/50\n",
            "7/7 [==============================] - 1s 149ms/step - loss: 0.3793 - val_loss: 0.0333\n",
            "Epoch 8/50\n",
            "7/7 [==============================] - 2s 270ms/step - loss: 0.3182 - val_loss: 0.0429\n",
            "Epoch 9/50\n",
            "7/7 [==============================] - 2s 270ms/step - loss: 0.2826 - val_loss: 0.0235\n",
            "Epoch 10/50\n",
            "7/7 [==============================] - 2s 216ms/step - loss: 0.3205 - val_loss: 0.0503\n",
            "Epoch 11/50\n",
            "7/7 [==============================] - 1s 143ms/step - loss: 0.2926 - val_loss: 0.0354\n",
            "Epoch 12/50\n",
            "7/7 [==============================] - 1s 146ms/step - loss: 0.2973 - val_loss: 0.0347\n",
            "Epoch 13/50\n",
            "7/7 [==============================] - 2s 254ms/step - loss: 0.2698 - val_loss: 0.0361\n",
            "Epoch 14/50\n",
            "7/7 [==============================] - 2s 353ms/step - loss: 0.2722 - val_loss: 0.0344\n",
            "Epoch 15/50\n",
            "7/7 [==============================] - 2s 319ms/step - loss: 0.2544 - val_loss: 0.0398\n",
            "Epoch 16/50\n",
            "7/7 [==============================] - 2s 317ms/step - loss: 0.2421 - val_loss: 0.0266\n",
            "Epoch 17/50\n",
            "7/7 [==============================] - 2s 335ms/step - loss: 0.2318 - val_loss: 0.0450\n",
            "Epoch 18/50\n",
            "7/7 [==============================] - 2s 267ms/step - loss: 0.2033 - val_loss: 0.0336\n",
            "Epoch 19/50\n",
            "7/7 [==============================] - 1s 148ms/step - loss: 0.2348 - val_loss: 0.0276\n"
          ]
        },
        {
          "output_type": "execute_result",
          "data": {
            "text/plain": [
              "<keras.src.callbacks.History at 0x7eb5f27291b0>"
            ]
          },
          "metadata": {},
          "execution_count": 14
        }
      ]
    },
    {
      "cell_type": "code",
      "source": [
        "# Model Evaluation\n",
        "y_pred = model.predict(X_test)\n",
        "y_pred = scaler.inverse_transform(y_pred)"
      ],
      "metadata": {
        "colab": {
          "base_uri": "https://localhost:8080/"
        },
        "id": "UQ8W83_QZMwZ",
        "outputId": "a9eeb8bf-887b-46f7-a9d4-864d266590bb"
      },
      "execution_count": 15,
      "outputs": [
        {
          "output_type": "stream",
          "name": "stdout",
          "text": [
            "3/3 [==============================] - 1s 55ms/step\n"
          ]
        }
      ]
    },
    {
      "cell_type": "code",
      "source": [
        "# Menghitung RMSE dan MAE\n",
        "rmse = sqrt(mean_squared_error(y_test, y_pred))\n",
        "mae = mean_absolute_error(y_test, y_pred)"
      ],
      "metadata": {
        "id": "Rvaih5giZSup"
      },
      "execution_count": 16,
      "outputs": []
    },
    {
      "cell_type": "code",
      "source": [
        "# Data Augmentation (di sini pakai Random Noise)\n",
        "# tambah random noise ke training data\n",
        "noise = np.random.normal(0, 0.1, X_train.shape)\n",
        "X_train_noisy = X_train + noise\n",
        "model.fit(X_train_noisy, y_train, epochs=50, batch_size=32, validation_split=0.2, callbacks=[early_stopping])"
      ],
      "metadata": {
        "colab": {
          "base_uri": "https://localhost:8080/"
        },
        "id": "9oos3NwpZVgy",
        "outputId": "40dcc699-522d-46ec-941b-5195c19f295e"
      },
      "execution_count": 17,
      "outputs": [
        {
          "output_type": "stream",
          "name": "stdout",
          "text": [
            "Epoch 1/50\n",
            "7/7 [==============================] - 2s 257ms/step - loss: 0.2662 - val_loss: 0.0490\n",
            "Epoch 2/50\n",
            "7/7 [==============================] - 1s 150ms/step - loss: 0.2576 - val_loss: 0.0256\n",
            "Epoch 3/50\n",
            "7/7 [==============================] - 1s 149ms/step - loss: 0.2869 - val_loss: 0.0361\n",
            "Epoch 4/50\n",
            "7/7 [==============================] - 1s 151ms/step - loss: 0.3396 - val_loss: 0.0485\n",
            "Epoch 5/50\n",
            "7/7 [==============================] - 1s 148ms/step - loss: 0.2714 - val_loss: 0.0292\n",
            "Epoch 6/50\n",
            "7/7 [==============================] - 1s 148ms/step - loss: 0.2652 - val_loss: 0.0292\n",
            "Epoch 7/50\n",
            "7/7 [==============================] - 1s 144ms/step - loss: 0.2546 - val_loss: 0.0282\n",
            "Epoch 8/50\n",
            "7/7 [==============================] - 1s 165ms/step - loss: 0.2148 - val_loss: 0.0330\n",
            "Epoch 9/50\n",
            "7/7 [==============================] - 2s 239ms/step - loss: 0.2142 - val_loss: 0.0441\n",
            "Epoch 10/50\n",
            "7/7 [==============================] - 3s 457ms/step - loss: 0.2361 - val_loss: 0.0208\n",
            "Epoch 11/50\n",
            "7/7 [==============================] - 3s 477ms/step - loss: 0.2282 - val_loss: 0.0303\n",
            "Epoch 12/50\n",
            "7/7 [==============================] - 2s 338ms/step - loss: 0.2224 - val_loss: 0.0753\n",
            "Epoch 13/50\n",
            "7/7 [==============================] - 2s 334ms/step - loss: 0.2747 - val_loss: 0.0266\n",
            "Epoch 14/50\n",
            "7/7 [==============================] - 3s 360ms/step - loss: 0.2324 - val_loss: 0.0288\n",
            "Epoch 15/50\n",
            "7/7 [==============================] - 2s 263ms/step - loss: 0.2126 - val_loss: 0.0272\n",
            "Epoch 16/50\n",
            "7/7 [==============================] - 2s 359ms/step - loss: 0.2092 - val_loss: 0.0253\n",
            "Epoch 17/50\n",
            "7/7 [==============================] - 3s 405ms/step - loss: 0.2052 - val_loss: 0.0268\n",
            "Epoch 18/50\n",
            "7/7 [==============================] - 2s 329ms/step - loss: 0.1932 - val_loss: 0.0231\n",
            "Epoch 19/50\n",
            "7/7 [==============================] - 2s 305ms/step - loss: 0.1859 - val_loss: 0.0522\n",
            "Epoch 20/50\n",
            "7/7 [==============================] - 2s 316ms/step - loss: 0.2277 - val_loss: 0.0573\n"
          ]
        },
        {
          "output_type": "execute_result",
          "data": {
            "text/plain": [
              "<keras.src.callbacks.History at 0x7eb5f0252320>"
            ]
          },
          "metadata": {},
          "execution_count": 17
        }
      ]
    },
    {
      "cell_type": "code",
      "source": [
        "# Feature Engineering (di sini pake Adding Volume Data, untuk menambahkan informasi lebih ke analisis time series)\n",
        "df['Volume'] = df['Volume'] / 1e7\n",
        "additional_features = df['Volume'].values"
      ],
      "metadata": {
        "id": "qDyaTjPfZi1I"
      },
      "execution_count": 18,
      "outputs": []
    },
    {
      "cell_type": "code",
      "source": [
        "# Concatenate additional features with X_train\n",
        "additional_features = additional_features.reshape(-1, 1, 1)\n",
        "additional_features = additional_features[-len(X_train):]\n",
        "X_train = np.concatenate((X_train, additional_features), axis=1)\n"
      ],
      "metadata": {
        "id": "3An82zAMZnzy"
      },
      "execution_count": 19,
      "outputs": []
    },
    {
      "cell_type": "code",
      "source": [
        "# Ensemble Methods\n",
        "X_train_2d = X_train.reshape(X_train.shape[0], -1)\n",
        "xgb_model = XGBRegressor(n_estimators=100, max_depth=5, learning_rate=0.1)\n",
        "xgb_model.fit(X_train_2d, y_train)"
      ],
      "metadata": {
        "colab": {
          "base_uri": "https://localhost:8080/",
          "height": 248
        },
        "id": "w9bByWrmkkZr",
        "outputId": "fb92dd24-b0c7-48af-a948-a28d0e8f593f"
      },
      "execution_count": 20,
      "outputs": [
        {
          "output_type": "execute_result",
          "data": {
            "text/plain": [
              "XGBRegressor(base_score=None, booster=None, callbacks=None,\n",
              "             colsample_bylevel=None, colsample_bynode=None,\n",
              "             colsample_bytree=None, device=None, early_stopping_rounds=None,\n",
              "             enable_categorical=False, eval_metric=None, feature_types=None,\n",
              "             gamma=None, grow_policy=None, importance_type=None,\n",
              "             interaction_constraints=None, learning_rate=0.1, max_bin=None,\n",
              "             max_cat_threshold=None, max_cat_to_onehot=None,\n",
              "             max_delta_step=None, max_depth=5, max_leaves=None,\n",
              "             min_child_weight=None, missing=nan, monotone_constraints=None,\n",
              "             multi_strategy=None, n_estimators=100, n_jobs=None,\n",
              "             num_parallel_tree=None, random_state=None, ...)"
            ],
            "text/html": [
              "<style>#sk-container-id-1 {color: black;background-color: white;}#sk-container-id-1 pre{padding: 0;}#sk-container-id-1 div.sk-toggleable {background-color: white;}#sk-container-id-1 label.sk-toggleable__label {cursor: pointer;display: block;width: 100%;margin-bottom: 0;padding: 0.3em;box-sizing: border-box;text-align: center;}#sk-container-id-1 label.sk-toggleable__label-arrow:before {content: \"▸\";float: left;margin-right: 0.25em;color: #696969;}#sk-container-id-1 label.sk-toggleable__label-arrow:hover:before {color: black;}#sk-container-id-1 div.sk-estimator:hover label.sk-toggleable__label-arrow:before {color: black;}#sk-container-id-1 div.sk-toggleable__content {max-height: 0;max-width: 0;overflow: hidden;text-align: left;background-color: #f0f8ff;}#sk-container-id-1 div.sk-toggleable__content pre {margin: 0.2em;color: black;border-radius: 0.25em;background-color: #f0f8ff;}#sk-container-id-1 input.sk-toggleable__control:checked~div.sk-toggleable__content {max-height: 200px;max-width: 100%;overflow: auto;}#sk-container-id-1 input.sk-toggleable__control:checked~label.sk-toggleable__label-arrow:before {content: \"▾\";}#sk-container-id-1 div.sk-estimator input.sk-toggleable__control:checked~label.sk-toggleable__label {background-color: #d4ebff;}#sk-container-id-1 div.sk-label input.sk-toggleable__control:checked~label.sk-toggleable__label {background-color: #d4ebff;}#sk-container-id-1 input.sk-hidden--visually {border: 0;clip: rect(1px 1px 1px 1px);clip: rect(1px, 1px, 1px, 1px);height: 1px;margin: -1px;overflow: hidden;padding: 0;position: absolute;width: 1px;}#sk-container-id-1 div.sk-estimator {font-family: monospace;background-color: #f0f8ff;border: 1px dotted black;border-radius: 0.25em;box-sizing: border-box;margin-bottom: 0.5em;}#sk-container-id-1 div.sk-estimator:hover {background-color: #d4ebff;}#sk-container-id-1 div.sk-parallel-item::after {content: \"\";width: 100%;border-bottom: 1px solid gray;flex-grow: 1;}#sk-container-id-1 div.sk-label:hover label.sk-toggleable__label {background-color: #d4ebff;}#sk-container-id-1 div.sk-serial::before {content: \"\";position: absolute;border-left: 1px solid gray;box-sizing: border-box;top: 0;bottom: 0;left: 50%;z-index: 0;}#sk-container-id-1 div.sk-serial {display: flex;flex-direction: column;align-items: center;background-color: white;padding-right: 0.2em;padding-left: 0.2em;position: relative;}#sk-container-id-1 div.sk-item {position: relative;z-index: 1;}#sk-container-id-1 div.sk-parallel {display: flex;align-items: stretch;justify-content: center;background-color: white;position: relative;}#sk-container-id-1 div.sk-item::before, #sk-container-id-1 div.sk-parallel-item::before {content: \"\";position: absolute;border-left: 1px solid gray;box-sizing: border-box;top: 0;bottom: 0;left: 50%;z-index: -1;}#sk-container-id-1 div.sk-parallel-item {display: flex;flex-direction: column;z-index: 1;position: relative;background-color: white;}#sk-container-id-1 div.sk-parallel-item:first-child::after {align-self: flex-end;width: 50%;}#sk-container-id-1 div.sk-parallel-item:last-child::after {align-self: flex-start;width: 50%;}#sk-container-id-1 div.sk-parallel-item:only-child::after {width: 0;}#sk-container-id-1 div.sk-dashed-wrapped {border: 1px dashed gray;margin: 0 0.4em 0.5em 0.4em;box-sizing: border-box;padding-bottom: 0.4em;background-color: white;}#sk-container-id-1 div.sk-label label {font-family: monospace;font-weight: bold;display: inline-block;line-height: 1.2em;}#sk-container-id-1 div.sk-label-container {text-align: center;}#sk-container-id-1 div.sk-container {/* jupyter's `normalize.less` sets `[hidden] { display: none; }` but bootstrap.min.css set `[hidden] { display: none !important; }` so we also need the `!important` here to be able to override the default hidden behavior on the sphinx rendered scikit-learn.org. See: https://github.com/scikit-learn/scikit-learn/issues/21755 */display: inline-block !important;position: relative;}#sk-container-id-1 div.sk-text-repr-fallback {display: none;}</style><div id=\"sk-container-id-1\" class=\"sk-top-container\"><div class=\"sk-text-repr-fallback\"><pre>XGBRegressor(base_score=None, booster=None, callbacks=None,\n",
              "             colsample_bylevel=None, colsample_bynode=None,\n",
              "             colsample_bytree=None, device=None, early_stopping_rounds=None,\n",
              "             enable_categorical=False, eval_metric=None, feature_types=None,\n",
              "             gamma=None, grow_policy=None, importance_type=None,\n",
              "             interaction_constraints=None, learning_rate=0.1, max_bin=None,\n",
              "             max_cat_threshold=None, max_cat_to_onehot=None,\n",
              "             max_delta_step=None, max_depth=5, max_leaves=None,\n",
              "             min_child_weight=None, missing=nan, monotone_constraints=None,\n",
              "             multi_strategy=None, n_estimators=100, n_jobs=None,\n",
              "             num_parallel_tree=None, random_state=None, ...)</pre><b>In a Jupyter environment, please rerun this cell to show the HTML representation or trust the notebook. <br />On GitHub, the HTML representation is unable to render, please try loading this page with nbviewer.org.</b></div><div class=\"sk-container\" hidden><div class=\"sk-item\"><div class=\"sk-estimator sk-toggleable\"><input class=\"sk-toggleable__control sk-hidden--visually\" id=\"sk-estimator-id-1\" type=\"checkbox\" checked><label for=\"sk-estimator-id-1\" class=\"sk-toggleable__label sk-toggleable__label-arrow\">XGBRegressor</label><div class=\"sk-toggleable__content\"><pre>XGBRegressor(base_score=None, booster=None, callbacks=None,\n",
              "             colsample_bylevel=None, colsample_bynode=None,\n",
              "             colsample_bytree=None, device=None, early_stopping_rounds=None,\n",
              "             enable_categorical=False, eval_metric=None, feature_types=None,\n",
              "             gamma=None, grow_policy=None, importance_type=None,\n",
              "             interaction_constraints=None, learning_rate=0.1, max_bin=None,\n",
              "             max_cat_threshold=None, max_cat_to_onehot=None,\n",
              "             max_delta_step=None, max_depth=5, max_leaves=None,\n",
              "             min_child_weight=None, missing=nan, monotone_constraints=None,\n",
              "             multi_strategy=None, n_estimators=100, n_jobs=None,\n",
              "             num_parallel_tree=None, random_state=None, ...)</pre></div></div></div></div></div>"
            ]
          },
          "metadata": {},
          "execution_count": 20
        }
      ]
    },
    {
      "cell_type": "code",
      "source": [
        "from tensorflow.keras.regularizers import l2\n",
        "\n",
        "# Regularization (L2 Regularization)\n",
        "model = keras.Sequential()\n",
        "model.add(LSTM(128, activation='relu', return_sequences=True, input_shape=(seq_length, 1), kernel_regularizer=l2(0.01)))\n",
        "model.add(LSTM(128, activation='relu', return_sequences=True, kernel_regularizer=l2(0.01)))\n",
        "model.add(LSTM(128, activation='relu', kernel_regularizer=l2(0.01)))\n",
        "model.add(Dense(64, activation='relu', kernel_regularizer=l2(0.01)))\n",
        "model.add(Dense(1))"
      ],
      "metadata": {
        "id": "MJNGWwEd1JMP"
      },
      "execution_count": 21,
      "outputs": []
    },
    {
      "cell_type": "code",
      "source": [
        "# Menerapkan k-fold cross-validation (buat improve performance dari modelnya)\n",
        "tscv = TimeSeriesSplit(n_splits=5)\n",
        "rmses = []\n",
        "maes = []\n",
        "\n",
        "for train_index, test_index in tscv.split(X_train):\n",
        "    X_train_fold, X_val_fold = X_train[train_index, :seq_length], X_train[test_index, :seq_length]\n",
        "    y_train_fold, y_val_fold = y_train[train_index], y_train[test_index]\n",
        "\n",
        "    # Define dan train neural network model\n",
        "    model = keras.Sequential()\n",
        "    model.add(LSTM(128, activation='relu', return_sequences=True, input_shape=(seq_length, 1)))\n",
        "    model.add(Dropout(0.2))\n",
        "    model.add(LSTM(128, activation='relu', return_sequences=True))\n",
        "    model.add(Dropout(0.2))\n",
        "    model.add(LSTM(128, activation='relu'))\n",
        "    model.add(Dropout(0.2))\n",
        "    model.add(Dense(64, activation='relu'))\n",
        "    model.add(Dropout(0.2))\n",
        "    model.add(Dense(1))\n",
        "\n",
        "    model.compile(optimizer='adam', loss='mean_squared_error')\n",
        "    early_stopping = EarlyStopping(monitor='val_loss', patience=10, restore_best_weights=True)\n",
        "\n",
        "    model.fit(X_train_fold, y_train_fold, validation_data=(X_val_fold, y_val_fold), epochs=50, batch_size=32, callbacks=[early_stopping])\n",
        "\n",
        "    # Evaluasi model\n",
        "    y_pred = model.predict(X_test)\n",
        "    y_pred = scaler.inverse_transform(y_pred)\n",
        "\n",
        "    rmse = sqrt(mean_squared_error(y_val_fold, model.predict(X_val_fold)))\n",
        "    mae = mean_absolute_error(y_val_fold, model.predict(X_val_fold))\n",
        "\n",
        "    rmses.append(rmse)\n",
        "    maes.append(mae)"
      ],
      "metadata": {
        "colab": {
          "base_uri": "https://localhost:8080/"
        },
        "id": "7CZKMhjPknZd",
        "outputId": "c0e657c7-534e-4b06-96d0-0a3ac475c33c"
      },
      "execution_count": 22,
      "outputs": [
        {
          "output_type": "stream",
          "name": "stdout",
          "text": [
            "Epoch 1/50\n",
            "2/2 [==============================] - 11s 678ms/step - loss: 1.8115 - val_loss: 0.6710\n",
            "Epoch 2/50\n",
            "2/2 [==============================] - 0s 201ms/step - loss: 1.7451 - val_loss: 0.4708\n",
            "Epoch 3/50\n",
            "2/2 [==============================] - 0s 179ms/step - loss: 1.6222 - val_loss: 0.2297\n",
            "Epoch 4/50\n",
            "2/2 [==============================] - 0s 188ms/step - loss: 1.4913 - val_loss: 6.4666\n",
            "Epoch 5/50\n",
            "2/2 [==============================] - 0s 242ms/step - loss: 1.3149 - val_loss: 3.3285\n",
            "Epoch 6/50\n",
            "2/2 [==============================] - 0s 248ms/step - loss: 1.0812 - val_loss: 0.5033\n",
            "Epoch 7/50\n",
            "2/2 [==============================] - 0s 173ms/step - loss: 0.8804 - val_loss: 0.1355\n",
            "Epoch 8/50\n",
            "2/2 [==============================] - 0s 197ms/step - loss: 0.7435 - val_loss: 0.2421\n",
            "Epoch 9/50\n",
            "2/2 [==============================] - 0s 167ms/step - loss: 0.6738 - val_loss: 0.3121\n",
            "Epoch 10/50\n",
            "2/2 [==============================] - 0s 169ms/step - loss: 0.7945 - val_loss: 0.4625\n",
            "Epoch 11/50\n",
            "2/2 [==============================] - 0s 181ms/step - loss: 0.8285 - val_loss: 0.4246\n",
            "Epoch 12/50\n",
            "2/2 [==============================] - 0s 267ms/step - loss: 0.7068 - val_loss: 0.2933\n",
            "Epoch 13/50\n",
            "2/2 [==============================] - 0s 163ms/step - loss: 0.5249 - val_loss: 0.1873\n",
            "Epoch 14/50\n",
            "2/2 [==============================] - 0s 200ms/step - loss: 0.6134 - val_loss: 0.1986\n",
            "Epoch 15/50\n",
            "2/2 [==============================] - 0s 176ms/step - loss: 0.3813 - val_loss: 0.1960\n",
            "Epoch 16/50\n",
            "2/2 [==============================] - 0s 182ms/step - loss: 0.3480 - val_loss: 0.1484\n",
            "Epoch 17/50\n",
            "2/2 [==============================] - 0s 187ms/step - loss: 0.3565 - val_loss: 0.0930\n",
            "Epoch 18/50\n",
            "2/2 [==============================] - 0s 298ms/step - loss: 0.3526 - val_loss: 0.0847\n",
            "Epoch 19/50\n",
            "2/2 [==============================] - 1s 467ms/step - loss: 0.4021 - val_loss: 0.1252\n",
            "Epoch 20/50\n",
            "2/2 [==============================] - 1s 728ms/step - loss: 0.2677 - val_loss: 0.1496\n",
            "Epoch 21/50\n",
            "2/2 [==============================] - 1s 306ms/step - loss: 0.3166 - val_loss: 0.1302\n",
            "Epoch 22/50\n",
            "2/2 [==============================] - 1s 290ms/step - loss: 0.2926 - val_loss: 0.1302\n",
            "Epoch 23/50\n",
            "2/2 [==============================] - 1s 297ms/step - loss: 0.2581 - val_loss: 0.1662\n",
            "Epoch 24/50\n",
            "2/2 [==============================] - 1s 277ms/step - loss: 0.2861 - val_loss: 0.1827\n",
            "Epoch 25/50\n",
            "2/2 [==============================] - 0s 222ms/step - loss: 0.2975 - val_loss: 0.1907\n",
            "Epoch 26/50\n",
            "2/2 [==============================] - 0s 164ms/step - loss: 0.2512 - val_loss: 0.1871\n",
            "Epoch 27/50\n",
            "2/2 [==============================] - 0s 164ms/step - loss: 0.2574 - val_loss: 0.1911\n",
            "Epoch 28/50\n",
            "2/2 [==============================] - 0s 172ms/step - loss: 0.2469 - val_loss: 0.2299\n",
            "3/3 [==============================] - 1s 25ms/step\n",
            "2/2 [==============================] - 0s 25ms/step\n",
            "2/2 [==============================] - 0s 26ms/step\n",
            "Epoch 1/50\n",
            "3/3 [==============================] - 7s 465ms/step - loss: 1.3333 - val_loss: 0.7818\n",
            "Epoch 2/50\n",
            "3/3 [==============================] - 1s 213ms/step - loss: 1.2620 - val_loss: 0.7385\n",
            "Epoch 3/50\n",
            "3/3 [==============================] - 1s 206ms/step - loss: 1.0889 - val_loss: 0.6559\n",
            "Epoch 4/50\n",
            "3/3 [==============================] - 1s 203ms/step - loss: 0.8797 - val_loss: 0.6377\n",
            "Epoch 5/50\n",
            "3/3 [==============================] - 1s 190ms/step - loss: 0.7097 - val_loss: 0.6127\n",
            "Epoch 6/50\n",
            "3/3 [==============================] - 1s 191ms/step - loss: 2.0120 - val_loss: 0.6572\n",
            "Epoch 7/50\n",
            "3/3 [==============================] - 1s 195ms/step - loss: 0.6805 - val_loss: 0.7282\n",
            "Epoch 8/50\n",
            "3/3 [==============================] - 1s 192ms/step - loss: 0.9392 - val_loss: 0.7514\n",
            "Epoch 9/50\n",
            "3/3 [==============================] - 1s 191ms/step - loss: 1.0170 - val_loss: 0.7492\n",
            "Epoch 10/50\n",
            "3/3 [==============================] - 1s 182ms/step - loss: 0.9782 - val_loss: 0.7339\n",
            "Epoch 11/50\n",
            "3/3 [==============================] - 1s 195ms/step - loss: 0.9281 - val_loss: 0.7079\n",
            "Epoch 12/50\n",
            "3/3 [==============================] - 0s 169ms/step - loss: 0.8311 - val_loss: 0.6656\n",
            "Epoch 13/50\n",
            "3/3 [==============================] - 0s 178ms/step - loss: 0.7531 - val_loss: 0.6464\n",
            "Epoch 14/50\n",
            "3/3 [==============================] - 1s 221ms/step - loss: 0.7362 - val_loss: 0.6643\n",
            "Epoch 15/50\n",
            "3/3 [==============================] - 1s 309ms/step - loss: 0.6854 - val_loss: 0.6822\n",
            "3/3 [==============================] - 1s 50ms/step\n",
            "2/2 [==============================] - 0s 53ms/step\n",
            "2/2 [==============================] - 0s 27ms/step\n",
            "Epoch 1/50\n",
            "5/5 [==============================] - 5s 259ms/step - loss: 1.0693 - val_loss: 0.6530\n",
            "Epoch 2/50\n",
            "5/5 [==============================] - 1s 140ms/step - loss: 0.8645 - val_loss: 0.7000\n",
            "Epoch 3/50\n",
            "5/5 [==============================] - 1s 134ms/step - loss: 0.7649 - val_loss: 0.5480\n",
            "Epoch 4/50\n",
            "5/5 [==============================] - 1s 142ms/step - loss: 0.6167 - val_loss: 0.3707\n",
            "Epoch 5/50\n",
            "5/5 [==============================] - 1s 138ms/step - loss: 0.5584 - val_loss: 0.3901\n",
            "Epoch 6/50\n",
            "5/5 [==============================] - 1s 141ms/step - loss: 0.4964 - val_loss: 0.3504\n",
            "Epoch 7/50\n",
            "5/5 [==============================] - 1s 170ms/step - loss: 0.4658 - val_loss: 0.3670\n",
            "Epoch 8/50\n",
            "5/5 [==============================] - 1s 270ms/step - loss: 0.4074 - val_loss: 0.1355\n",
            "Epoch 9/50\n",
            "5/5 [==============================] - 1s 275ms/step - loss: 0.4245 - val_loss: 0.1128\n",
            "Epoch 10/50\n",
            "5/5 [==============================] - 1s 264ms/step - loss: 0.3508 - val_loss: 0.0852\n",
            "Epoch 11/50\n",
            "5/5 [==============================] - 1s 244ms/step - loss: 0.3765 - val_loss: 0.0652\n",
            "Epoch 12/50\n",
            "5/5 [==============================] - 1s 148ms/step - loss: 0.3395 - val_loss: 0.0619\n",
            "Epoch 13/50\n",
            "5/5 [==============================] - 1s 146ms/step - loss: 0.3577 - val_loss: 0.1446\n",
            "Epoch 14/50\n",
            "5/5 [==============================] - 1s 146ms/step - loss: 0.3302 - val_loss: 0.0750\n",
            "Epoch 15/50\n",
            "5/5 [==============================] - 1s 141ms/step - loss: 0.3387 - val_loss: 0.0870\n",
            "Epoch 16/50\n",
            "5/5 [==============================] - 1s 161ms/step - loss: 0.2951 - val_loss: 0.0993\n",
            "Epoch 17/50\n",
            "5/5 [==============================] - 1s 141ms/step - loss: 0.2737 - val_loss: 0.0515\n",
            "Epoch 18/50\n",
            "5/5 [==============================] - 1s 152ms/step - loss: 0.2701 - val_loss: 0.0744\n",
            "Epoch 19/50\n",
            "5/5 [==============================] - 1s 150ms/step - loss: 0.2999 - val_loss: 0.1114\n",
            "Epoch 20/50\n",
            "5/5 [==============================] - 1s 146ms/step - loss: 0.3010 - val_loss: 0.1096\n",
            "Epoch 21/50\n",
            "5/5 [==============================] - 1s 137ms/step - loss: 0.2633 - val_loss: 0.1288\n",
            "Epoch 22/50\n",
            "5/5 [==============================] - 1s 153ms/step - loss: 0.2424 - val_loss: 0.0612\n",
            "Epoch 23/50\n",
            "5/5 [==============================] - 1s 151ms/step - loss: 0.2370 - val_loss: 0.0379\n",
            "Epoch 24/50\n",
            "5/5 [==============================] - 1s 137ms/step - loss: 0.2513 - val_loss: 0.1454\n",
            "Epoch 25/50\n",
            "5/5 [==============================] - 1s 198ms/step - loss: 0.2312 - val_loss: 0.0305\n",
            "Epoch 26/50\n",
            "5/5 [==============================] - 1s 255ms/step - loss: 0.2367 - val_loss: 0.0889\n",
            "Epoch 27/50\n",
            "5/5 [==============================] - 1s 257ms/step - loss: 0.2838 - val_loss: 0.0532\n",
            "Epoch 28/50\n",
            "5/5 [==============================] - 1s 257ms/step - loss: 0.2633 - val_loss: 0.0441\n",
            "Epoch 29/50\n",
            "5/5 [==============================] - 1s 200ms/step - loss: 0.3008 - val_loss: 0.0374\n",
            "Epoch 30/50\n",
            "5/5 [==============================] - 1s 146ms/step - loss: 0.2409 - val_loss: 0.1470\n",
            "Epoch 31/50\n",
            "5/5 [==============================] - 1s 148ms/step - loss: 0.2294 - val_loss: 0.0199\n",
            "Epoch 32/50\n",
            "5/5 [==============================] - 1s 148ms/step - loss: 0.2184 - val_loss: 0.0469\n",
            "Epoch 33/50\n",
            "5/5 [==============================] - 1s 151ms/step - loss: 0.2486 - val_loss: 0.0622\n",
            "Epoch 34/50\n",
            "5/5 [==============================] - 1s 136ms/step - loss: 0.2097 - val_loss: 0.0381\n",
            "Epoch 35/50\n",
            "5/5 [==============================] - 1s 141ms/step - loss: 0.2019 - val_loss: 0.0246\n",
            "Epoch 36/50\n",
            "5/5 [==============================] - 1s 143ms/step - loss: 0.1901 - val_loss: 0.1406\n",
            "Epoch 37/50\n",
            "5/5 [==============================] - 1s 142ms/step - loss: 0.2020 - val_loss: 0.0211\n",
            "Epoch 38/50\n",
            "5/5 [==============================] - 1s 135ms/step - loss: 0.2255 - val_loss: 0.0636\n",
            "Epoch 39/50\n",
            "5/5 [==============================] - 1s 141ms/step - loss: 0.2118 - val_loss: 0.0616\n",
            "Epoch 40/50\n",
            "5/5 [==============================] - 1s 140ms/step - loss: 0.2391 - val_loss: 0.0677\n",
            "Epoch 41/50\n",
            "5/5 [==============================] - 1s 139ms/step - loss: 0.2720 - val_loss: 0.0444\n",
            "3/3 [==============================] - 1s 45ms/step\n",
            "2/2 [==============================] - 0s 26ms/step\n",
            "2/2 [==============================] - 0s 26ms/step\n",
            "Epoch 1/50\n",
            "6/6 [==============================] - 6s 268ms/step - loss: 0.9445 - val_loss: 0.5432\n",
            "Epoch 2/50\n",
            "6/6 [==============================] - 2s 463ms/step - loss: 0.7294 - val_loss: 0.4553\n",
            "Epoch 3/50\n",
            "6/6 [==============================] - 2s 274ms/step - loss: 0.6578 - val_loss: 1.0239\n",
            "Epoch 4/50\n",
            "6/6 [==============================] - 2s 268ms/step - loss: 0.4699 - val_loss: 0.3586\n",
            "Epoch 5/50\n",
            "6/6 [==============================] - 1s 159ms/step - loss: 0.3814 - val_loss: 0.2934\n",
            "Epoch 6/50\n",
            "6/6 [==============================] - 1s 163ms/step - loss: 0.3722 - val_loss: 1.1778\n",
            "Epoch 7/50\n",
            "6/6 [==============================] - 1s 151ms/step - loss: 0.3176 - val_loss: 0.2470\n",
            "Epoch 8/50\n",
            "6/6 [==============================] - 1s 151ms/step - loss: 0.2980 - val_loss: 0.5039\n",
            "Epoch 9/50\n",
            "6/6 [==============================] - 1s 240ms/step - loss: 0.2726 - val_loss: 0.5903\n",
            "Epoch 10/50\n",
            "6/6 [==============================] - 2s 258ms/step - loss: 0.2790 - val_loss: 0.2131\n",
            "Epoch 11/50\n",
            "6/6 [==============================] - 1s 155ms/step - loss: 0.3250 - val_loss: 0.2588\n",
            "Epoch 12/50\n",
            "6/6 [==============================] - 1s 154ms/step - loss: 0.2948 - val_loss: 0.2733\n",
            "Epoch 13/50\n",
            "6/6 [==============================] - 1s 158ms/step - loss: 0.2302 - val_loss: 0.8868\n",
            "Epoch 14/50\n",
            "6/6 [==============================] - 1s 208ms/step - loss: 0.2770 - val_loss: 0.2434\n",
            "Epoch 15/50\n",
            "6/6 [==============================] - 2s 272ms/step - loss: 0.2415 - val_loss: 0.2488\n",
            "Epoch 16/50\n",
            "6/6 [==============================] - 2s 275ms/step - loss: 0.2282 - val_loss: 0.3732\n",
            "Epoch 17/50\n",
            "6/6 [==============================] - 2s 262ms/step - loss: 0.2516 - val_loss: 0.2203\n",
            "Epoch 18/50\n",
            "6/6 [==============================] - 1s 149ms/step - loss: 0.2397 - val_loss: 0.3371\n",
            "Epoch 19/50\n",
            "6/6 [==============================] - 1s 220ms/step - loss: 0.2421 - val_loss: 0.2248\n",
            "Epoch 20/50\n",
            "6/6 [==============================] - 1s 160ms/step - loss: 0.2531 - val_loss: 0.1966\n",
            "Epoch 21/50\n",
            "6/6 [==============================] - 1s 149ms/step - loss: 0.2675 - val_loss: 0.2405\n",
            "Epoch 22/50\n",
            "6/6 [==============================] - 1s 152ms/step - loss: 0.2419 - val_loss: 0.2672\n",
            "Epoch 23/50\n",
            "6/6 [==============================] - 1s 170ms/step - loss: 0.2105 - val_loss: 0.2126\n",
            "Epoch 24/50\n",
            "6/6 [==============================] - 1s 177ms/step - loss: 0.2100 - val_loss: 0.2529\n",
            "Epoch 25/50\n",
            "6/6 [==============================] - 1s 173ms/step - loss: 0.2072 - val_loss: 0.2163\n",
            "Epoch 26/50\n",
            "6/6 [==============================] - 1s 168ms/step - loss: 0.1782 - val_loss: 0.2537\n",
            "Epoch 27/50\n",
            "6/6 [==============================] - 1s 225ms/step - loss: 0.1887 - val_loss: 0.1971\n",
            "Epoch 28/50\n",
            "6/6 [==============================] - 2s 299ms/step - loss: 0.1789 - val_loss: 0.1911\n",
            "Epoch 29/50\n",
            "6/6 [==============================] - 2s 268ms/step - loss: 0.1892 - val_loss: 0.1649\n",
            "Epoch 30/50\n",
            "6/6 [==============================] - 2s 253ms/step - loss: 0.2011 - val_loss: 0.2437\n",
            "Epoch 31/50\n",
            "6/6 [==============================] - 1s 156ms/step - loss: 0.1945 - val_loss: 0.2499\n",
            "Epoch 32/50\n",
            "6/6 [==============================] - 1s 152ms/step - loss: 0.1718 - val_loss: 0.2252\n",
            "Epoch 33/50\n",
            "6/6 [==============================] - 1s 154ms/step - loss: 0.2028 - val_loss: 0.2652\n",
            "Epoch 34/50\n",
            "6/6 [==============================] - 1s 160ms/step - loss: 0.1980 - val_loss: 0.1888\n",
            "Epoch 35/50\n",
            "6/6 [==============================] - 1s 160ms/step - loss: 0.1753 - val_loss: 0.1710\n",
            "Epoch 36/50\n",
            "6/6 [==============================] - 1s 148ms/step - loss: 0.1744 - val_loss: 0.1890\n",
            "Epoch 37/50\n",
            "6/6 [==============================] - 1s 154ms/step - loss: 0.1825 - val_loss: 0.2185\n",
            "Epoch 38/50\n",
            "6/6 [==============================] - 1s 151ms/step - loss: 0.1671 - val_loss: 0.1557\n",
            "Epoch 39/50\n",
            "6/6 [==============================] - 1s 150ms/step - loss: 0.1637 - val_loss: 0.1820\n",
            "Epoch 40/50\n",
            "6/6 [==============================] - 1s 149ms/step - loss: 0.1635 - val_loss: 0.2066\n",
            "Epoch 41/50\n",
            "6/6 [==============================] - 1s 161ms/step - loss: 0.1609 - val_loss: 0.1946\n",
            "Epoch 42/50\n",
            "6/6 [==============================] - 2s 311ms/step - loss: 0.1651 - val_loss: 0.1920\n",
            "Epoch 43/50\n",
            "6/6 [==============================] - 2s 286ms/step - loss: 0.1329 - val_loss: 0.3537\n",
            "Epoch 44/50\n",
            "6/6 [==============================] - 2s 256ms/step - loss: 0.1787 - val_loss: 0.2082\n",
            "Epoch 45/50\n",
            "6/6 [==============================] - 1s 156ms/step - loss: 0.1537 - val_loss: 0.2056\n",
            "Epoch 46/50\n",
            "6/6 [==============================] - 1s 158ms/step - loss: 0.1747 - val_loss: 0.1858\n",
            "Epoch 47/50\n",
            "6/6 [==============================] - 1s 161ms/step - loss: 0.1516 - val_loss: 0.2512\n",
            "Epoch 48/50\n",
            "6/6 [==============================] - 1s 163ms/step - loss: 0.1877 - val_loss: 0.1747\n",
            "3/3 [==============================] - 1s 38ms/step\n",
            "2/2 [==============================] - 0s 28ms/step\n",
            "2/2 [==============================] - 0s 30ms/step\n",
            "Epoch 1/50\n",
            "7/7 [==============================] - 5s 284ms/step - loss: 0.8957 - val_loss: 0.3171\n",
            "Epoch 2/50\n",
            "7/7 [==============================] - 2s 257ms/step - loss: 0.7399 - val_loss: 0.1402\n",
            "Epoch 3/50\n",
            "7/7 [==============================] - 2s 259ms/step - loss: 0.5401 - val_loss: 0.0849\n",
            "Epoch 4/50\n",
            "7/7 [==============================] - 1s 161ms/step - loss: 0.5648 - val_loss: 0.0499\n",
            "Epoch 5/50\n",
            "7/7 [==============================] - 1s 149ms/step - loss: 0.5801 - val_loss: 0.1639\n",
            "Epoch 6/50\n",
            "7/7 [==============================] - 1s 148ms/step - loss: 0.5499 - val_loss: 0.1987\n",
            "Epoch 7/50\n",
            "7/7 [==============================] - 1s 154ms/step - loss: 0.4939 - val_loss: 0.0582\n",
            "Epoch 8/50\n",
            "7/7 [==============================] - 1s 149ms/step - loss: 0.3795 - val_loss: 0.0352\n",
            "Epoch 9/50\n",
            "7/7 [==============================] - 1s 138ms/step - loss: 0.3268 - val_loss: 0.0286\n",
            "Epoch 10/50\n",
            "7/7 [==============================] - 1s 141ms/step - loss: 0.2895 - val_loss: 0.0330\n",
            "Epoch 11/50\n",
            "7/7 [==============================] - 1s 136ms/step - loss: 0.3317 - val_loss: 0.0673\n",
            "Epoch 12/50\n",
            "7/7 [==============================] - 1s 136ms/step - loss: 0.2596 - val_loss: 0.0274\n",
            "Epoch 13/50\n",
            "7/7 [==============================] - 1s 143ms/step - loss: 0.2985 - val_loss: 0.0308\n",
            "Epoch 14/50\n",
            "7/7 [==============================] - 1s 222ms/step - loss: 0.2748 - val_loss: 0.0247\n",
            "Epoch 15/50\n",
            "7/7 [==============================] - 2s 267ms/step - loss: 0.2938 - val_loss: 0.0263\n",
            "Epoch 16/50\n",
            "7/7 [==============================] - 2s 266ms/step - loss: 0.2622 - val_loss: 0.0321\n",
            "Epoch 17/50\n",
            "7/7 [==============================] - 1s 172ms/step - loss: 0.2412 - val_loss: 0.0291\n",
            "Epoch 18/50\n",
            "7/7 [==============================] - 1s 153ms/step - loss: 0.2415 - val_loss: 0.0248\n",
            "Epoch 19/50\n",
            "7/7 [==============================] - 1s 146ms/step - loss: 0.2279 - val_loss: 0.0327\n",
            "Epoch 20/50\n",
            "7/7 [==============================] - 1s 148ms/step - loss: 0.1929 - val_loss: 0.0362\n",
            "Epoch 21/50\n",
            "7/7 [==============================] - 1s 148ms/step - loss: 0.2236 - val_loss: 0.0304\n",
            "Epoch 22/50\n",
            "7/7 [==============================] - 1s 149ms/step - loss: 0.1932 - val_loss: 0.0443\n",
            "Epoch 23/50\n",
            "7/7 [==============================] - 1s 159ms/step - loss: 0.1996 - val_loss: 0.0264\n",
            "Epoch 24/50\n",
            "7/7 [==============================] - 1s 142ms/step - loss: 0.2055 - val_loss: 0.0276\n",
            "3/3 [==============================] - 1s 29ms/step\n",
            "2/2 [==============================] - 0s 43ms/step\n",
            "2/2 [==============================] - 0s 38ms/step\n"
          ]
        }
      ]
    },
    {
      "cell_type": "code",
      "source": [
        "# Menghitung average RMSE dari cross-validation\n",
        "mean_rmse = np.mean(rmses)\n",
        "mean_mae = np.mean(maes)\n",
        "print(f\"Average RMSE: {mean_rmse}\")\n",
        "print(f\"Average MAE: {mean_mae}\")"
      ],
      "metadata": {
        "colab": {
          "base_uri": "https://localhost:8080/"
        },
        "id": "Dmt0Ub0Aevsu",
        "outputId": "eed40228-3bca-473e-e1c6-03e7755e956d"
      },
      "execution_count": 23,
      "outputs": [
        {
          "output_type": "stream",
          "name": "stdout",
          "text": [
            "Average RMSE: 0.35330607875068953\n",
            "Average MAE: 0.26106443115292455\n"
          ]
        }
      ]
    },
    {
      "cell_type": "code",
      "source": [
        "# Predictions untuk test data (X_test)\n",
        "y_pred_test = model.predict(X_test)\n",
        "y_pred_test = scaler.inverse_transform(y_pred_test)"
      ],
      "metadata": {
        "colab": {
          "base_uri": "https://localhost:8080/"
        },
        "id": "cGGsoq9nz9iK",
        "outputId": "ec5b72bd-4970-46f2-c49c-7b7b99d49734"
      },
      "execution_count": 24,
      "outputs": [
        {
          "output_type": "stream",
          "name": "stdout",
          "text": [
            "3/3 [==============================] - 0s 27ms/step\n"
          ]
        }
      ]
    },
    {
      "cell_type": "code",
      "source": [
        "print(y_pred_test)"
      ],
      "metadata": {
        "colab": {
          "base_uri": "https://localhost:8080/"
        },
        "id": "VCJR7AfGkDMx",
        "outputId": "0c324f66-4eae-4bef-fc2d-381844f96828"
      },
      "execution_count": 25,
      "outputs": [
        {
          "output_type": "stream",
          "name": "stdout",
          "text": [
            "[[1.1303103]\n",
            " [1.140067 ]\n",
            " [1.1487676]\n",
            " [1.1706034]\n",
            " [1.190493 ]\n",
            " [1.1987206]\n",
            " [1.1984546]\n",
            " [1.1944586]\n",
            " [1.1872735]\n",
            " [1.1791737]\n",
            " [1.1703944]\n",
            " [1.1633837]\n",
            " [1.1586946]\n",
            " [1.1542914]\n",
            " [1.1488894]\n",
            " [1.1459461]\n",
            " [1.1510426]\n",
            " [1.1664104]\n",
            " [1.2010695]\n",
            " [1.2548977]\n",
            " [1.3064305]\n",
            " [1.3415929]\n",
            " [1.3589635]\n",
            " [1.3591379]\n",
            " [1.3470578]\n",
            " [1.3348931]\n",
            " [1.3229141]\n",
            " [1.3158083]\n",
            " [1.3148175]\n",
            " [1.3193792]\n",
            " [1.3247496]\n",
            " [1.3284764]\n",
            " [1.3261423]\n",
            " [1.3100622]\n",
            " [1.2792786]\n",
            " [1.2377387]\n",
            " [1.1946201]\n",
            " [1.1556565]\n",
            " [1.1230937]\n",
            " [1.0983809]\n",
            " [1.0815611]\n",
            " [1.0687721]\n",
            " [1.0577068]\n",
            " [1.0501158]\n",
            " [1.0473373]\n",
            " [1.048981 ]\n",
            " [1.0548434]\n",
            " [1.0658764]\n",
            " [1.0891476]\n",
            " [1.1410164]\n",
            " [1.2141666]\n",
            " [1.2931155]\n",
            " [1.3652252]\n",
            " [1.4223795]\n",
            " [1.4605684]\n",
            " [1.4762866]\n",
            " [1.4779625]\n",
            " [1.4707808]\n",
            " [1.4494278]\n",
            " [1.4182825]\n",
            " [1.3770382]\n",
            " [1.3419355]\n",
            " [1.3155026]\n",
            " [1.3125423]\n",
            " [1.388205 ]\n",
            " [1.5665312]\n",
            " [1.7376797]]\n"
          ]
        }
      ]
    },
    {
      "cell_type": "code",
      "source": [
        "# RMSE dan MAE dari test data\n",
        "rmse_test = sqrt(mean_squared_error(y_test, y_pred_test))\n",
        "mae_test = mean_absolute_error(y_test, y_pred_test)\n",
        "\n",
        "print(f\"RMSE for Test Data: {rmse_test}\")\n",
        "print(f\"MAE for Test Data: {mae_test}\")"
      ],
      "metadata": {
        "colab": {
          "base_uri": "https://localhost:8080/"
        },
        "id": "J8eb0Um3kJcQ",
        "outputId": "d11623ce-6495-4109-f3f6-3b40dbfab864"
      },
      "execution_count": 26,
      "outputs": [
        {
          "output_type": "stream",
          "name": "stdout",
          "text": [
            "RMSE for Test Data: 1.9627091715657017\n",
            "MAE for Test Data: 1.8561397239073398\n"
          ]
        }
      ]
    },
    {
      "cell_type": "code",
      "source": [
        "# forecasting\n",
        "forecast_days = 5\n",
        "X_forecast = np.copy(X_test[-1])\n",
        "\n",
        "forecasted_values = []\n",
        "\n",
        "for _ in range(forecast_days):\n",
        "    forecasted_value = model.predict(X_forecast.reshape(1, seq_length, 1))\n",
        "    forecasted_values.append(forecasted_value[0, 0])\n",
        "\n",
        "    X_forecast = np.roll(X_forecast, -1)\n",
        "    X_forecast[-1] = forecasted_value\n",
        "\n",
        "forecasted_values = scaler.inverse_transform(np.array(forecasted_values).reshape(-1, 1))"
      ],
      "metadata": {
        "colab": {
          "base_uri": "https://localhost:8080/"
        },
        "id": "v-RBPbiQ2QFG",
        "outputId": "b60a063f-ab40-43c2-b491-97fd151665be"
      },
      "execution_count": 27,
      "outputs": [
        {
          "output_type": "stream",
          "name": "stdout",
          "text": [
            "1/1 [==============================] - 0s 48ms/step\n",
            "1/1 [==============================] - 0s 37ms/step\n",
            "1/1 [==============================] - 0s 29ms/step\n",
            "1/1 [==============================] - 0s 36ms/step\n",
            "1/1 [==============================] - 0s 38ms/step\n"
          ]
        }
      ]
    },
    {
      "cell_type": "code",
      "source": [
        "print(forecasted_values)"
      ],
      "metadata": {
        "colab": {
          "base_uri": "https://localhost:8080/"
        },
        "id": "LhGSSGzSo3fT",
        "outputId": "0eef2444-2d45-4ffc-9220-66e34d5bc653"
      },
      "execution_count": 28,
      "outputs": [
        {
          "output_type": "stream",
          "name": "stdout",
          "text": [
            "[[1.7376797]\n",
            " [1.8803629]\n",
            " [1.9767157]\n",
            " [2.0291922]\n",
            " [2.0502706]]\n"
          ]
        }
      ]
    },
    {
      "cell_type": "code",
      "source": [
        "# date range buat forecast\n",
        "last_date = df.index[-1]\n",
        "forecast_dates = pd.date_range(last_date, periods=forecast_days + 1)[1:]\n",
        "\n",
        "# date range buat test data\n",
        "test_dates = df.index[-len(y_pred_test):]"
      ],
      "metadata": {
        "id": "ks9abjVio6WE"
      },
      "execution_count": 29,
      "outputs": []
    },
    {
      "cell_type": "code",
      "source": [
        "# Plot dari original data, predicted test data, dan forecasted values\n",
        "plt.figure(figsize=(12, 6))\n",
        "plt.plot(df.index, df['Open'], label='Original Data')\n",
        "plt.plot(forecast_dates, forecasted_values, label='5-Day Forecast', linestyle='--', color='red')\n",
        "plt.plot(test_dates, y_pred_test, label='Predicted Test Data', linestyle='--', color='green') # Adding the predicted test data\n",
        "plt.title('Stock Price Forecast')\n",
        "plt.xlabel('Date')\n",
        "plt.ylabel('Stock Price')\n",
        "plt.legend()\n",
        "plt.show()"
      ],
      "metadata": {
        "colab": {
          "base_uri": "https://localhost:8080/",
          "height": 564
        },
        "id": "iPutYfCwpAFI",
        "outputId": "5fdf9b06-a0f4-4eab-f1dc-96b44a225b49"
      },
      "execution_count": 30,
      "outputs": [
        {
          "output_type": "display_data",
          "data": {
            "text/plain": [
              "<Figure size 1200x600 with 1 Axes>"
            ],
            "image/png": "[encoded data removed]"
          },
          "metadata": {}
        }
      ]
    },
    {
      "cell_type": "code",
      "source": [
        "# Extract the last 4 actual opening prices and the first forecast opening price\n",
        "last_4_actual_opening_prices = df['Open'][-4:]  # Last 4 actual opening prices\n",
        "first_forecast_opening_price = forecasted_values[0][0]  # First forecast opening price\n",
        "\n",
        "# Concatenate the last 4 actual opening prices and the first forecast opening price\n",
        "plot_data = pd.concat([last_4_actual_opening_prices, pd.Series([first_forecast_opening_price], index=[forecast_dates[0]])])\n",
        "\n",
        "# Plot the time series data\n",
        "plt.figure(figsize=(10, 6))\n",
        "plt.plot(plot_data.index, plot_data.values, marker='o', linestyle='-', color='blue')  # Blue line and dots\n",
        "\n",
        "# Highlight the last point in red\n",
        "plt.plot(plot_data.index[-1], plot_data.values[-1], marker='o', markersize=8, linestyle='--', color='red')  # Red dot for the last point\n",
        "\n",
        "plt.title('Opening Prices: Last 4 Actual and First Forecast')\n",
        "plt.xlabel('Date')\n",
        "plt.ylabel('Stock Price')\n",
        "plt.xticks(rotation=45)\n",
        "plt.grid(True)\n",
        "plt.show()\n"
      ],
      "metadata": {
        "colab": {
          "base_uri": "https://localhost:8080/",
          "height": 604
        },
        "id": "79DhOBWoZqbI",
        "outputId": "22543f90-a3f6-4ff1-95b1-787541ed7ff1"
      },
      "execution_count": 38,
      "outputs": [
        {
          "output_type": "display_data",
          "data": {
            "text/plain": [
              "<Figure size 1000x600 with 1 Axes>"
            ],
            "image/png": "[encoded data removed]"
          },
          "metadata": {}
        }
      ]
    },
    {
      "cell_type": "code",
      "source": [
        "# Calculate the difference in the opening stock price between the last day of the actual data and the first day of the forecast\n",
        "last_actual_day = df.index[-1]  # Last day of the actual data\n",
        "first_forecast_day = forecast_dates[0] # First day of the forecast\n",
        "\n",
        "last_actual_opening_price = df['Open'][-1]  # Opening price of the last day in the actual data\n",
        "first_forecast_opening_price = forecasted_values[0][0]  # Opening price of the first day in the forecast\n",
        "\n",
        "price_difference = first_forecast_opening_price - last_actual_opening_price\n",
        "percentage_change = price_difference/last_actual_opening_price*100\n",
        "\n",
        "print(f\"last actual opening price: {last_actual_day} = {last_actual_opening_price}\")\n",
        "print(f\"first forecast opening price: {first_forecast_day} = {first_forecast_opening_price}\")\n",
        "print(f\"Difference in opening stock price between last actual day and first forecast day: {price_difference}\")\n",
        "print(f\"Change: {percentage_change}%\")"
      ],
      "metadata": {
        "colab": {
          "base_uri": "https://localhost:8080/"
        },
        "id": "yFUHL2m-Wjyf",
        "outputId": "a335aa83-0363-4512-e50c-6797eeb0e7c1"
      },
      "execution_count": 50,
      "outputs": [
        {
          "output_type": "stream",
          "name": "stdout",
          "text": [
            "last actual opening price: 2023-11-13 00:00:00 = 3.4254369735717773\n",
            "first forecast opening price: 2023-11-14 00:00:00 = 1.7376797199249268\n",
            "Difference in opening stock price between last actual day and first forecast day: -1.6877572536468506\n",
            "Change: -49.271297842242575%\n"
          ]
        }
      ]
    },
    {
      "cell_type": "code",
      "source": [
        "# adjusted percentage_change to be weighted metric\n",
        "weighted_metric = (percentage_change + 100) / 2\n",
        "\n",
        "print(f\"weighted metric: {weighted_metric}%\")"
      ],
      "metadata": {
        "colab": {
          "base_uri": "https://localhost:8080/"
        },
        "id": "9cTlMEFLdD_4",
        "outputId": "1911d822-2323-4fe1-b138-4e3a02c5e90c"
      },
      "execution_count": 49,
      "outputs": [
        {
          "output_type": "stream",
          "name": "stdout",
          "text": [
            "weighted metric: 25.364351078878713%\n"
          ]
        }
      ]
    },
    {
      "cell_type": "code",
      "source": [
        "# Calculate R-squared score\n",
        "r_squared = r2_score(y_test, y_pred_test)\n",
        "print(f\"R-squared Score: {r_squared}\")"
      ],
      "metadata": {
        "colab": {
          "base_uri": "https://localhost:8080/"
        },
        "id": "yeuGofolaRY6",
        "outputId": "e2defd01-8c70-419c-ad07-b36cac678183"
      },
      "execution_count": 44,
      "outputs": [
        {
          "output_type": "stream",
          "name": "stdout",
          "text": [
            "R-squared Score: -0.9738335392950506\n"
          ]
        }
      ]
    }
  ]
}
