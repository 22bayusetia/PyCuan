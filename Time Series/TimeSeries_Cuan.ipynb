{
  "nbformat": 4,
  "nbformat_minor": 0,
  "metadata": {
    "colab": {
      "provenance": []
    },
    "kernelspec": {
      "name": "python3",
      "display_name": "Python 3"
    },
    "language_info": {
      "name": "python"
    }
  },
  "cells": [
    {
      "cell_type": "code",
      "execution_count": null,
      "metadata": {
        "colab": {
          "base_uri": "https://localhost:8080/"
        },
        "id": "Vj3vQKX1fj97",
        "outputId": "734d30d5-f455-41eb-c183-d3426fee5aea"
      },
      "outputs": [
        {
          "output_type": "stream",
          "name": "stdout",
          "text": [
            "Requirement already satisfied: pandas in /usr/local/lib/python3.10/dist-packages (1.5.3)\n",
            "Requirement already satisfied: matplotlib in /usr/local/lib/python3.10/dist-packages (3.7.1)\n",
            "Requirement already satisfied: yfinance in /usr/local/lib/python3.10/dist-packages (0.2.31)\n",
            "Requirement already satisfied: python-dateutil>=2.8.1 in /usr/local/lib/python3.10/dist-packages (from pandas) (2.8.2)\n",
            "Requirement already satisfied: pytz>=2020.1 in /usr/local/lib/python3.10/dist-packages (from pandas) (2023.3.post1)\n",
            "Requirement already satisfied: numpy>=1.21.0 in /usr/local/lib/python3.10/dist-packages (from pandas) (1.23.5)\n",
            "Requirement already satisfied: contourpy>=1.0.1 in /usr/local/lib/python3.10/dist-packages (from matplotlib) (1.2.0)\n",
            "Requirement already satisfied: cycler>=0.10 in /usr/local/lib/python3.10/dist-packages (from matplotlib) (0.12.1)\n",
            "Requirement already satisfied: fonttools>=4.22.0 in /usr/local/lib/python3.10/dist-packages (from matplotlib) (4.44.0)\n",
            "Requirement already satisfied: kiwisolver>=1.0.1 in /usr/local/lib/python3.10/dist-packages (from matplotlib) (1.4.5)\n",
            "Requirement already satisfied: packaging>=20.0 in /usr/local/lib/python3.10/dist-packages (from matplotlib) (23.2)\n",
            "Requirement already satisfied: pillow>=6.2.0 in /usr/local/lib/python3.10/dist-packages (from matplotlib) (9.4.0)\n",
            "Requirement already satisfied: pyparsing>=2.3.1 in /usr/local/lib/python3.10/dist-packages (from matplotlib) (3.1.1)\n",
            "Requirement already satisfied: requests>=2.31 in /usr/local/lib/python3.10/dist-packages (from yfinance) (2.31.0)\n",
            "Requirement already satisfied: multitasking>=0.0.7 in /usr/local/lib/python3.10/dist-packages (from yfinance) (0.0.11)\n",
            "Requirement already satisfied: lxml>=4.9.1 in /usr/local/lib/python3.10/dist-packages (from yfinance) (4.9.3)\n",
            "Requirement already satisfied: appdirs>=1.4.4 in /usr/local/lib/python3.10/dist-packages (from yfinance) (1.4.4)\n",
            "Requirement already satisfied: frozendict>=2.3.4 in /usr/local/lib/python3.10/dist-packages (from yfinance) (2.3.8)\n",
            "Requirement already satisfied: peewee>=3.16.2 in /usr/local/lib/python3.10/dist-packages (from yfinance) (3.17.0)\n",
            "Requirement already satisfied: beautifulsoup4>=4.11.1 in /usr/local/lib/python3.10/dist-packages (from yfinance) (4.11.2)\n",
            "Requirement already satisfied: html5lib>=1.1 in /usr/local/lib/python3.10/dist-packages (from yfinance) (1.1)\n",
            "Requirement already satisfied: soupsieve>1.2 in /usr/local/lib/python3.10/dist-packages (from beautifulsoup4>=4.11.1->yfinance) (2.5)\n",
            "Requirement already satisfied: six>=1.9 in /usr/local/lib/python3.10/dist-packages (from html5lib>=1.1->yfinance) (1.16.0)\n",
            "Requirement already satisfied: webencodings in /usr/local/lib/python3.10/dist-packages (from html5lib>=1.1->yfinance) (0.5.1)\n",
            "Requirement already satisfied: charset-normalizer<4,>=2 in /usr/local/lib/python3.10/dist-packages (from requests>=2.31->yfinance) (3.3.2)\n",
            "Requirement already satisfied: idna<4,>=2.5 in /usr/local/lib/python3.10/dist-packages (from requests>=2.31->yfinance) (3.4)\n",
            "Requirement already satisfied: urllib3<3,>=1.21.1 in /usr/local/lib/python3.10/dist-packages (from requests>=2.31->yfinance) (2.0.7)\n",
            "Requirement already satisfied: certifi>=2017.4.17 in /usr/local/lib/python3.10/dist-packages (from requests>=2.31->yfinance) (2023.7.22)\n"
          ]
        }
      ],
      "source": [
        "!pip install pandas matplotlib yfinance"
      ]
    },
    {
      "cell_type": "code",
      "source": [
        "# Import libraries yang dibutuhkan\n",
        "import pandas as pd\n",
        "import numpy as np\n",
        "import matplotlib.pyplot as plt\n",
        "import tensorflow as tf\n",
        "from tensorflow import keras\n",
        "from tensorflow.keras.layers import Input, LSTM, Dense, Dropout\n",
        "from tensorflow.keras.callbacks import EarlyStopping\n",
        "from sklearn.model_selection import train_test_split\n",
        "from sklearn.preprocessing import MinMaxScaler, StandardScaler\n",
        "from sklearn.metrics import mean_squared_error, mean_absolute_error\n",
        "import yfinance as yf\n",
        "from math import sqrt\n",
        "from xgboost import XGBRegressor\n",
        "from sklearn.model_selection import TimeSeriesSplit\n",
        "from sklearn.metrics import r2_score"
      ],
      "metadata": {
        "id": "awUIWpDjcAOx"
      },
      "execution_count": 1,
      "outputs": []
    },
    {
      "cell_type": "code",
      "source": [
        "# Define kode saham dan rentang waktu (1 tahun cukup)\n",
        "stock_symbol = 'FTT-USD'\n",
        "start_date = '2022-11-14'\n",
        "end_date = '2023-11-14'"
      ],
      "metadata": {
        "id": "rLFVbzFLkHXO"
      },
      "execution_count": 75,
      "outputs": []
    },
    {
      "cell_type": "code",
      "source": [
        "# Ambil bagian historical data\n",
        "df = yf.download(stock_symbol, start=start_date, end=end_date)"
      ],
      "metadata": {
        "colab": {
          "base_uri": "https://localhost:8080/"
        },
        "id": "9oY2s_WQkKCY",
        "outputId": "d3fec80d-194b-474e-c06c-e5c14a7a64b0"
      },
      "execution_count": 76,
      "outputs": [
        {
          "output_type": "stream",
          "name": "stdout",
          "text": [
            "\r[*********************100%%**********************]  1 of 1 completed\n"
          ]
        }
      ]
    },
    {
      "cell_type": "code",
      "source": [
        "# Pilih kolom 'Open' (butuhnya opening price)\n",
        "ts = df['Open'].values"
      ],
      "metadata": {
        "id": "CXqNo_-PkPbJ"
      },
      "execution_count": 77,
      "outputs": []
    },
    {
      "cell_type": "code",
      "source": [
        "print(ts)"
      ],
      "metadata": {
        "colab": {
          "base_uri": "https://localhost:8080/"
        },
        "id": "a9Se-WnpkvrD",
        "outputId": "e852e568-32fd-42ec-ad03-c02f0d09fd18"
      },
      "execution_count": 78,
      "outputs": [
        {
          "output_type": "stream",
          "name": "stdout",
          "text": [
            "[1.49011004 1.47427404 1.83462596 1.62528396 1.56169605 1.45689595\n",
            " 1.41655099 1.331622   1.25741601 1.33343196 1.29859698 1.37550104\n",
            " 1.40119505 1.36450601 1.31575096 1.29403603 1.30423903 1.34015799\n",
            " 1.29195297 1.30669999 1.31465304 1.38741302 1.39137304 1.45479798\n",
            " 1.39118099 1.36426103 1.700912   1.51605797 1.52172601 1.48479998\n",
            " 1.40507495 1.374439   1.35659301 1.14310801 1.07892501 1.04088998\n",
            " 0.96074402 0.93813401 0.87397301 1.02713299 0.95750499 0.92443198\n",
            " 0.89456701 0.93113798 0.92116201 0.88572299 0.86019301 0.83896798\n",
            " 0.84297401 0.85811198 0.86230701 0.88518697 1.00226498 0.94411999\n",
            " 0.91083902 0.90921497 0.91302401 1.32805502 1.24062502 1.30208302\n",
            " 1.37791204 1.40603006 1.84186304 2.20495892 2.51167893 2.0784719\n",
            " 1.76817    2.29456091 2.40961194 2.16448212 2.1053431  2.19820094\n",
            " 1.83706999 1.96418798 1.88223898 1.98208296 1.91840398 2.05706811\n",
            " 1.89022601 1.90903294 1.92808294 1.91345203 2.04355907 1.97289002\n",
            " 1.90584099 1.92961597 2.03915596 1.95197594 1.58625102 1.62159097\n",
            " 1.62358499 1.70848405 1.55422294 1.59833097 1.68577802 1.545228\n",
            " 1.64451396 1.62256896 1.59689295 1.70243096 1.62933004 1.57755101\n",
            " 1.58061004 1.52864599 1.48498499 1.54188204 1.50087595 1.44671094\n",
            " 1.48202503 1.42223704 1.28162205 1.25328302 1.26420903 1.32164502\n",
            " 1.25238597 1.17590404 1.14107001 1.09181905 1.034338   1.11340594\n",
            " 1.14334404 1.19234598 1.10870504 1.12740695 1.16982698 1.44778001\n",
            " 1.45064104 1.37748694 1.444332   1.34654498 1.36213505 1.27699006\n",
            " 1.29999495 1.29703295 1.25187302 1.33372998 1.31594002 1.31297004\n",
            " 1.33684397 1.32299304 1.29963005 1.26983702 1.28829896 1.30313599\n",
            " 1.27417195 1.24917603 1.26524496 1.25360405 1.26932096 1.38225305\n",
            " 2.446491   2.06079006 2.06351495 2.0103581  1.95502496 1.78893805\n",
            " 2.15479589 1.92381299 1.82041705 1.67864895 1.75981402 1.62789202\n",
            " 1.63522804 1.62657404 1.561813   1.53212595 1.518641   1.54269803\n",
            " 1.51801896 1.42360103 1.42497003 1.45878303 1.48174405 1.44880903\n",
            " 1.36371303 1.33380699 1.26417696 1.29355001 1.16969097 1.11699498\n",
            " 1.09957898 1.08073997 1.09388804 1.09453297 1.08318806 1.157143\n",
            " 1.10353899 1.07873404 1.03376901 1.00800896 1.07605505 1.08845997\n",
            " 1.01104796 1.02368796 1.01507103 1.01459503 1.02728903 1.00592101\n",
            " 0.968238   0.95422202 0.93534303 0.973589   0.93560398 0.96988398\n",
            " 0.87064201 0.89296103 0.90704501 1.09821796 0.94421601 0.828264\n",
            " 0.81705499 0.81816399 0.84387302 0.811867   0.90639597 0.89559197\n",
            " 0.91587198 0.89370799 0.93264401 0.93928999 0.96517998 1.06096303\n",
            " 1.09756505 1.01711404 1.12495005 1.255252   1.33624804 1.77952695\n",
            " 2.06852388 1.93581605 1.67078996 1.66511095 1.51153803 1.46872997\n",
            " 1.54187405 1.47930396 1.46036804 1.52897406 1.44693303 1.38473201\n",
            " 1.60567605 1.54698205 1.55882299 1.58721495 1.57430005 1.64227796\n",
            " 1.58171499 1.48846304 1.45343006 1.41759396 1.41446805 1.46042597\n",
            " 1.420964   1.34694195 1.35609603 1.35956204 1.381001   1.42860103\n",
            " 1.39037204 1.36990201 1.34561503 1.38487101 1.336236   1.25265503\n",
            " 1.26304698 1.23403597 1.23963702 1.15004694 1.20963299 1.187994\n",
            " 1.17497301 1.15063906 1.17011094 1.16080594 1.16115105 1.03861296\n",
            " 1.02852499 0.92367297 0.96472299 1.09693694 1.07249105 1.04698098\n",
            " 1.08784103 1.09363699 1.05177402 1.01252604 1.04150403 1.03494203\n",
            " 1.01778495 1.04571605 1.03387702 1.01492    1.00863004 1.03424501\n",
            " 1.06467605 1.06507897 1.03874898 1.04571605 1.04697096 1.05280399\n",
            " 1.17595398 1.05592799 0.99792802 1.03726602 1.05429804 1.04847205\n",
            " 1.04576004 1.04765499 1.04535496 1.04136503 1.04167902 1.02635396\n",
            " 1.05101705 1.10358906 1.134431   1.22863698 1.258304   1.17659605\n",
            " 1.13375401 1.13590801 1.12068403 1.12438405 1.18284202 1.15499306\n",
            " 1.19104505 1.20681298 1.21876502 1.19794202 1.19828999 1.16617894\n",
            " 1.06585205 1.05291295 1.02136695 1.05055702 1.05351198 1.04735506\n",
            " 1.05077899 1.05863905 1.01672804 1.00959396 1.03459203 1.04973304\n",
            " 1.04698896 1.05290997 1.07321    1.14432001 1.29702103 1.29309499\n",
            " 1.25516498 1.27425504 1.275033   1.25916696 1.22262299 1.27509201\n",
            " 1.25552702 1.17154098 1.18500996 1.14605701 1.232867   1.22078705\n",
            " 1.36025703 2.19039202 4.28340483 3.221735   3.42543697]\n"
          ]
        }
      ]
    },
    {
      "cell_type": "code",
      "source": [
        "# Display time series plot dari original data opening price\n",
        "plt.figure(figsize=(12, 6))\n",
        "plt.plot(df.index, df['Open'], label='Original Data')\n",
        "plt.title('Opening Price Time Series Data')\n",
        "plt.xlabel('Date')\n",
        "plt.ylabel('Stock Price')\n",
        "plt.legend()\n",
        "plt.show()"
      ],
      "metadata": {
        "colab": {
          "base_uri": "https://localhost:8080/",
          "height": 564
        },
        "id": "iyAc78mez1yn",
        "outputId": "d1b87267-aeae-478f-e794-85ea9a9f7bed"
      },
      "execution_count": 79,
      "outputs": [
        {
          "output_type": "display_data",
          "data": {
            "text/plain": [
              "<Figure size 1200x600 with 1 Axes>"
            ],
            "image/png": "[encoded data removed]"
          },
          "metadata": {}
        }
      ]
    },
    {
      "cell_type": "code",
      "source": [
        "# Normalisasi data\n",
        "scaler = StandardScaler()\n",
        "ts = scaler.fit_transform(np.array(ts).reshape(-1, 1))"
      ],
      "metadata": {
        "id": "XFkmMjmDkR9S"
      },
      "execution_count": 80,
      "outputs": []
    },
    {
      "cell_type": "code",
      "source": [
        "# Prepare X_train dan X_test\n",
        "seq_length = 30\n",
        "\n",
        "X_train = []\n",
        "y_train = []\n",
        "\n",
        "for i in range(len(ts) - seq_length):\n",
        "    X_train.append(ts[i:i + seq_length])\n",
        "    y_train.append(ts[i + seq_length])"
      ],
      "metadata": {
        "id": "xLF9TCe0kXvD"
      },
      "execution_count": 81,
      "outputs": []
    },
    {
      "cell_type": "code",
      "source": [
        "# Memastikan X_train dan y_train adalah numpy arrays\n",
        "X_train = np.array(X_train)\n",
        "y_train = np.array(y_train)"
      ],
      "metadata": {
        "id": "gHRoY3tOkayF"
      },
      "execution_count": 82,
      "outputs": []
    },
    {
      "cell_type": "code",
      "source": [
        "# Split data menjadi training dan testing (80% training, 20% testing)\n",
        "train_size = int(len(X_train) * 0.8)\n",
        "X_train, X_test = X_train[:train_size], X_train[train_size:]\n",
        "y_train, y_test = y_train[:train_size], y_train[train_size:]"
      ],
      "metadata": {
        "id": "YH0XLLQNkdbD"
      },
      "execution_count": 83,
      "outputs": []
    },
    {
      "cell_type": "code",
      "source": [
        "# Model Architecture\n",
        "model = keras.Sequential()\n",
        "model.add(LSTM(128, activation='relu', return_sequences=True, input_shape=(seq_length, 1)))\n",
        "model.add(Dropout(0.2))  # tambah dropout buat prevent overfitting\n",
        "model.add(LSTM(128, activation='relu', return_sequences=True))\n",
        "model.add(Dropout(0.2))\n",
        "model.add(LSTM(128, activation='relu'))\n",
        "model.add(Dropout(0.2))\n",
        "model.add(Dense(64, activation='relu'))\n",
        "model.add(Dropout(0.2))\n",
        "model.add(Dense(1))"
      ],
      "metadata": {
        "id": "teFjj0BMkf9F"
      },
      "execution_count": 84,
      "outputs": []
    },
    {
      "cell_type": "code",
      "source": [
        "# Training Parameters\n",
        "model.compile(optimizer='adam', loss='mean_squared_error')\n",
        "early_stopping = EarlyStopping(monitor='val_loss', patience=10, restore_best_weights=True)  # Early stopping callback"
      ],
      "metadata": {
        "id": "GAx4qQ5zY69E"
      },
      "execution_count": 85,
      "outputs": []
    },
    {
      "cell_type": "code",
      "source": [
        "# Model Training\n",
        "model.fit(X_train, y_train, epochs=50, batch_size=32, validation_split=0.2, callbacks=[early_stopping])"
      ],
      "metadata": {
        "colab": {
          "base_uri": "https://localhost:8080/"
        },
        "id": "cW3_LnfGY-PK",
        "outputId": "13d6434b-8fac-4775-d313-f03183e9dc62"
      },
      "execution_count": 86,
      "outputs": [
        {
          "output_type": "stream",
          "name": "stdout",
          "text": [
            "Epoch 1/50\n",
            "7/7 [==============================] - 6s 311ms/step - loss: 0.9263 - val_loss: 0.2780\n",
            "Epoch 2/50\n",
            "7/7 [==============================] - 2s 257ms/step - loss: 0.6968 - val_loss: 0.1499\n",
            "Epoch 3/50\n",
            "7/7 [==============================] - 1s 205ms/step - loss: 0.5886 - val_loss: 0.0803\n",
            "Epoch 4/50\n",
            "7/7 [==============================] - 1s 134ms/step - loss: 0.6083 - val_loss: 0.1065\n",
            "Epoch 5/50\n",
            "7/7 [==============================] - 1s 137ms/step - loss: 0.5297 - val_loss: 0.1187\n",
            "Epoch 6/50\n",
            "7/7 [==============================] - 1s 139ms/step - loss: 0.4626 - val_loss: 0.0538\n",
            "Epoch 7/50\n",
            "7/7 [==============================] - 1s 138ms/step - loss: 0.3484 - val_loss: 0.0325\n",
            "Epoch 8/50\n",
            "7/7 [==============================] - 1s 135ms/step - loss: 0.3226 - val_loss: 0.0429\n",
            "Epoch 9/50\n",
            "7/7 [==============================] - 1s 135ms/step - loss: 0.3158 - val_loss: 0.0273\n",
            "Epoch 10/50\n",
            "7/7 [==============================] - 1s 136ms/step - loss: 0.2771 - val_loss: 0.0268\n",
            "Epoch 11/50\n",
            "7/7 [==============================] - 1s 137ms/step - loss: 0.2596 - val_loss: 0.0318\n",
            "Epoch 12/50\n",
            "7/7 [==============================] - 1s 137ms/step - loss: 0.2830 - val_loss: 0.0278\n",
            "Epoch 13/50\n",
            "7/7 [==============================] - 1s 137ms/step - loss: 0.2337 - val_loss: 0.0282\n",
            "Epoch 14/50\n",
            "7/7 [==============================] - 1s 219ms/step - loss: 0.2584 - val_loss: 0.0244\n",
            "Epoch 15/50\n",
            "7/7 [==============================] - 2s 257ms/step - loss: 0.2371 - val_loss: 0.0330\n",
            "Epoch 16/50\n",
            "7/7 [==============================] - 2s 223ms/step - loss: 0.2197 - val_loss: 0.0295\n",
            "Epoch 17/50\n",
            "7/7 [==============================] - 1s 138ms/step - loss: 0.2130 - val_loss: 0.0325\n",
            "Epoch 18/50\n",
            "7/7 [==============================] - 1s 136ms/step - loss: 0.2036 - val_loss: 0.0287\n",
            "Epoch 19/50\n",
            "7/7 [==============================] - 1s 131ms/step - loss: 0.2177 - val_loss: 0.0284\n",
            "Epoch 20/50\n",
            "7/7 [==============================] - 1s 135ms/step - loss: 0.2214 - val_loss: 0.0338\n",
            "Epoch 21/50\n",
            "7/7 [==============================] - 1s 135ms/step - loss: 0.2101 - val_loss: 0.0267\n",
            "Epoch 22/50\n",
            "7/7 [==============================] - 1s 134ms/step - loss: 0.1827 - val_loss: 0.0397\n",
            "Epoch 23/50\n",
            "7/7 [==============================] - 1s 136ms/step - loss: 0.2133 - val_loss: 0.0313\n",
            "Epoch 24/50\n",
            "7/7 [==============================] - 1s 138ms/step - loss: 0.2087 - val_loss: 0.0296\n"
          ]
        },
        {
          "output_type": "execute_result",
          "data": {
            "text/plain": [
              "<keras.src.callbacks.History at 0x798b76560f70>"
            ]
          },
          "metadata": {},
          "execution_count": 86
        }
      ]
    },
    {
      "cell_type": "code",
      "source": [
        "# Model Evaluation\n",
        "y_pred = model.predict(X_test)\n",
        "y_pred = scaler.inverse_transform(y_pred)"
      ],
      "metadata": {
        "colab": {
          "base_uri": "https://localhost:8080/"
        },
        "id": "UQ8W83_QZMwZ",
        "outputId": "7452072b-ae80-49b3-bb44-69f487d40a4a"
      },
      "execution_count": 87,
      "outputs": [
        {
          "output_type": "stream",
          "name": "stdout",
          "text": [
            "3/3 [==============================] - 1s 24ms/step\n"
          ]
        }
      ]
    },
    {
      "cell_type": "code",
      "source": [
        "# Menghitung RMSE dan MAE\n",
        "rmse = sqrt(mean_squared_error(y_test, y_pred))\n",
        "mae = mean_absolute_error(y_test, y_pred)"
      ],
      "metadata": {
        "id": "Rvaih5giZSup"
      },
      "execution_count": 88,
      "outputs": []
    },
    {
      "cell_type": "code",
      "source": [
        "# Data Augmentation (di sini pakai Random Noise)\n",
        "# tambah random noise ke training data\n",
        "noise = np.random.normal(0, 0.1, X_train.shape)\n",
        "X_train_noisy = X_train + noise\n",
        "model.fit(X_train_noisy, y_train, epochs=50, batch_size=32, validation_split=0.2, callbacks=[early_stopping])"
      ],
      "metadata": {
        "colab": {
          "base_uri": "https://localhost:8080/"
        },
        "id": "9oos3NwpZVgy",
        "outputId": "0ed13e11-73ba-4589-8602-fd07c020aa8e"
      },
      "execution_count": 89,
      "outputs": [
        {
          "output_type": "stream",
          "name": "stdout",
          "text": [
            "Epoch 1/50\n",
            "7/7 [==============================] - 1s 145ms/step - loss: 0.2343 - val_loss: 0.0331\n",
            "Epoch 2/50\n",
            "7/7 [==============================] - 1s 179ms/step - loss: 0.2484 - val_loss: 0.0322\n",
            "Epoch 3/50\n",
            "7/7 [==============================] - 2s 250ms/step - loss: 0.2399 - val_loss: 0.0297\n",
            "Epoch 4/50\n",
            "7/7 [==============================] - 2s 246ms/step - loss: 0.2416 - val_loss: 0.0285\n",
            "Epoch 5/50\n",
            "7/7 [==============================] - 1s 139ms/step - loss: 0.2248 - val_loss: 0.0271\n",
            "Epoch 6/50\n",
            "7/7 [==============================] - 1s 146ms/step - loss: 0.2201 - val_loss: 0.0336\n",
            "Epoch 7/50\n",
            "7/7 [==============================] - 1s 152ms/step - loss: 0.2077 - val_loss: 0.0260\n",
            "Epoch 8/50\n",
            "7/7 [==============================] - 1s 138ms/step - loss: 0.2051 - val_loss: 0.0384\n",
            "Epoch 9/50\n",
            "7/7 [==============================] - 1s 136ms/step - loss: 0.2028 - val_loss: 0.0244\n",
            "Epoch 10/50\n",
            "7/7 [==============================] - 1s 137ms/step - loss: 0.1999 - val_loss: 0.0342\n",
            "Epoch 11/50\n",
            "7/7 [==============================] - 1s 136ms/step - loss: 0.1796 - val_loss: 0.0319\n",
            "Epoch 12/50\n",
            "7/7 [==============================] - 1s 136ms/step - loss: 0.1930 - val_loss: 0.0288\n",
            "Epoch 13/50\n",
            "7/7 [==============================] - 1s 138ms/step - loss: 0.1935 - val_loss: 0.0518\n",
            "Epoch 14/50\n",
            "7/7 [==============================] - 1s 139ms/step - loss: 0.1831 - val_loss: 0.0323\n",
            "Epoch 15/50\n",
            "7/7 [==============================] - 1s 195ms/step - loss: 0.1673 - val_loss: 0.0451\n",
            "Epoch 16/50\n",
            "7/7 [==============================] - 2s 265ms/step - loss: 0.1953 - val_loss: 0.0448\n",
            "Epoch 17/50\n",
            "7/7 [==============================] - 2s 236ms/step - loss: 0.2033 - val_loss: 0.0466\n",
            "Epoch 18/50\n",
            "7/7 [==============================] - 1s 133ms/step - loss: 0.2388 - val_loss: 0.0362\n",
            "Epoch 19/50\n",
            "7/7 [==============================] - 1s 135ms/step - loss: 0.1864 - val_loss: 0.0428\n"
          ]
        },
        {
          "output_type": "execute_result",
          "data": {
            "text/plain": [
              "<keras.src.callbacks.History at 0x798b7db61930>"
            ]
          },
          "metadata": {},
          "execution_count": 89
        }
      ]
    },
    {
      "cell_type": "code",
      "source": [
        "# Feature Engineering (di sini pake Adding Volume Data, untuk menambahkan informasi lebih ke analisis time series)\n",
        "df['Volume'] = df['Volume'] / 1e7\n",
        "additional_features = df['Volume'].values"
      ],
      "metadata": {
        "id": "qDyaTjPfZi1I"
      },
      "execution_count": 90,
      "outputs": []
    },
    {
      "cell_type": "code",
      "source": [
        "# Concatenate additional features with X_train\n",
        "additional_features = additional_features.reshape(-1, 1, 1)\n",
        "additional_features = additional_features[-len(X_train):]\n",
        "X_train = np.concatenate((X_train, additional_features), axis=1)\n"
      ],
      "metadata": {
        "id": "3An82zAMZnzy"
      },
      "execution_count": 91,
      "outputs": []
    },
    {
      "cell_type": "code",
      "source": [
        "# Ensemble Methods\n",
        "X_train_2d = X_train.reshape(X_train.shape[0], -1)\n",
        "xgb_model = XGBRegressor(n_estimators=100, max_depth=5, learning_rate=0.1)\n",
        "xgb_model.fit(X_train_2d, y_train)"
      ],
      "metadata": {
        "colab": {
          "base_uri": "https://localhost:8080/",
          "height": 248
        },
        "id": "w9bByWrmkkZr",
        "outputId": "625fcdfd-2672-4d7b-89e4-d321c0474a93"
      },
      "execution_count": 92,
      "outputs": [
        {
          "output_type": "execute_result",
          "data": {
            "text/plain": [
              "XGBRegressor(base_score=None, booster=None, callbacks=None,\n",
              "             colsample_bylevel=None, colsample_bynode=None,\n",
              "             colsample_bytree=None, device=None, early_stopping_rounds=None,\n",
              "             enable_categorical=False, eval_metric=None, feature_types=None,\n",
              "             gamma=None, grow_policy=None, importance_type=None,\n",
              "             interaction_constraints=None, learning_rate=0.1, max_bin=None,\n",
              "             max_cat_threshold=None, max_cat_to_onehot=None,\n",
              "             max_delta_step=None, max_depth=5, max_leaves=None,\n",
              "             min_child_weight=None, missing=nan, monotone_constraints=None,\n",
              "             multi_strategy=None, n_estimators=100, n_jobs=None,\n",
              "             num_parallel_tree=None, random_state=None, ...)"
            ],
            "text/html": [
              "<style>#sk-container-id-3 {color: black;background-color: white;}#sk-container-id-3 pre{padding: 0;}#sk-container-id-3 div.sk-toggleable {background-color: white;}#sk-container-id-3 label.sk-toggleable__label {cursor: pointer;display: block;width: 100%;margin-bottom: 0;padding: 0.3em;box-sizing: border-box;text-align: center;}#sk-container-id-3 label.sk-toggleable__label-arrow:before {content: \"▸\";float: left;margin-right: 0.25em;color: #696969;}#sk-container-id-3 label.sk-toggleable__label-arrow:hover:before {color: black;}#sk-container-id-3 div.sk-estimator:hover label.sk-toggleable__label-arrow:before {color: black;}#sk-container-id-3 div.sk-toggleable__content {max-height: 0;max-width: 0;overflow: hidden;text-align: left;background-color: #f0f8ff;}#sk-container-id-3 div.sk-toggleable__content pre {margin: 0.2em;color: black;border-radius: 0.25em;background-color: #f0f8ff;}#sk-container-id-3 input.sk-toggleable__control:checked~div.sk-toggleable__content {max-height: 200px;max-width: 100%;overflow: auto;}#sk-container-id-3 input.sk-toggleable__control:checked~label.sk-toggleable__label-arrow:before {content: \"▾\";}#sk-container-id-3 div.sk-estimator input.sk-toggleable__control:checked~label.sk-toggleable__label {background-color: #d4ebff;}#sk-container-id-3 div.sk-label input.sk-toggleable__control:checked~label.sk-toggleable__label {background-color: #d4ebff;}#sk-container-id-3 input.sk-hidden--visually {border: 0;clip: rect(1px 1px 1px 1px);clip: rect(1px, 1px, 1px, 1px);height: 1px;margin: -1px;overflow: hidden;padding: 0;position: absolute;width: 1px;}#sk-container-id-3 div.sk-estimator {font-family: monospace;background-color: #f0f8ff;border: 1px dotted black;border-radius: 0.25em;box-sizing: border-box;margin-bottom: 0.5em;}#sk-container-id-3 div.sk-estimator:hover {background-color: #d4ebff;}#sk-container-id-3 div.sk-parallel-item::after {content: \"\";width: 100%;border-bottom: 1px solid gray;flex-grow: 1;}#sk-container-id-3 div.sk-label:hover label.sk-toggleable__label {background-color: #d4ebff;}#sk-container-id-3 div.sk-serial::before {content: \"\";position: absolute;border-left: 1px solid gray;box-sizing: border-box;top: 0;bottom: 0;left: 50%;z-index: 0;}#sk-container-id-3 div.sk-serial {display: flex;flex-direction: column;align-items: center;background-color: white;padding-right: 0.2em;padding-left: 0.2em;position: relative;}#sk-container-id-3 div.sk-item {position: relative;z-index: 1;}#sk-container-id-3 div.sk-parallel {display: flex;align-items: stretch;justify-content: center;background-color: white;position: relative;}#sk-container-id-3 div.sk-item::before, #sk-container-id-3 div.sk-parallel-item::before {content: \"\";position: absolute;border-left: 1px solid gray;box-sizing: border-box;top: 0;bottom: 0;left: 50%;z-index: -1;}#sk-container-id-3 div.sk-parallel-item {display: flex;flex-direction: column;z-index: 1;position: relative;background-color: white;}#sk-container-id-3 div.sk-parallel-item:first-child::after {align-self: flex-end;width: 50%;}#sk-container-id-3 div.sk-parallel-item:last-child::after {align-self: flex-start;width: 50%;}#sk-container-id-3 div.sk-parallel-item:only-child::after {width: 0;}#sk-container-id-3 div.sk-dashed-wrapped {border: 1px dashed gray;margin: 0 0.4em 0.5em 0.4em;box-sizing: border-box;padding-bottom: 0.4em;background-color: white;}#sk-container-id-3 div.sk-label label {font-family: monospace;font-weight: bold;display: inline-block;line-height: 1.2em;}#sk-container-id-3 div.sk-label-container {text-align: center;}#sk-container-id-3 div.sk-container {/* jupyter's `normalize.less` sets `[hidden] { display: none; }` but bootstrap.min.css set `[hidden] { display: none !important; }` so we also need the `!important` here to be able to override the default hidden behavior on the sphinx rendered scikit-learn.org. See: https://github.com/scikit-learn/scikit-learn/issues/21755 */display: inline-block !important;position: relative;}#sk-container-id-3 div.sk-text-repr-fallback {display: none;}</style><div id=\"sk-container-id-3\" class=\"sk-top-container\"><div class=\"sk-text-repr-fallback\"><pre>XGBRegressor(base_score=None, booster=None, callbacks=None,\n",
              "             colsample_bylevel=None, colsample_bynode=None,\n",
              "             colsample_bytree=None, device=None, early_stopping_rounds=None,\n",
              "             enable_categorical=False, eval_metric=None, feature_types=None,\n",
              "             gamma=None, grow_policy=None, importance_type=None,\n",
              "             interaction_constraints=None, learning_rate=0.1, max_bin=None,\n",
              "             max_cat_threshold=None, max_cat_to_onehot=None,\n",
              "             max_delta_step=None, max_depth=5, max_leaves=None,\n",
              "             min_child_weight=None, missing=nan, monotone_constraints=None,\n",
              "             multi_strategy=None, n_estimators=100, n_jobs=None,\n",
              "             num_parallel_tree=None, random_state=None, ...)</pre><b>In a Jupyter environment, please rerun this cell to show the HTML representation or trust the notebook. <br />On GitHub, the HTML representation is unable to render, please try loading this page with nbviewer.org.</b></div><div class=\"sk-container\" hidden><div class=\"sk-item\"><div class=\"sk-estimator sk-toggleable\"><input class=\"sk-toggleable__control sk-hidden--visually\" id=\"sk-estimator-id-3\" type=\"checkbox\" checked><label for=\"sk-estimator-id-3\" class=\"sk-toggleable__label sk-toggleable__label-arrow\">XGBRegressor</label><div class=\"sk-toggleable__content\"><pre>XGBRegressor(base_score=None, booster=None, callbacks=None,\n",
              "             colsample_bylevel=None, colsample_bynode=None,\n",
              "             colsample_bytree=None, device=None, early_stopping_rounds=None,\n",
              "             enable_categorical=False, eval_metric=None, feature_types=None,\n",
              "             gamma=None, grow_policy=None, importance_type=None,\n",
              "             interaction_constraints=None, learning_rate=0.1, max_bin=None,\n",
              "             max_cat_threshold=None, max_cat_to_onehot=None,\n",
              "             max_delta_step=None, max_depth=5, max_leaves=None,\n",
              "             min_child_weight=None, missing=nan, monotone_constraints=None,\n",
              "             multi_strategy=None, n_estimators=100, n_jobs=None,\n",
              "             num_parallel_tree=None, random_state=None, ...)</pre></div></div></div></div></div>"
            ]
          },
          "metadata": {},
          "execution_count": 92
        }
      ]
    },
    {
      "cell_type": "code",
      "source": [
        "from tensorflow.keras.regularizers import l2\n",
        "\n",
        "# Regularization (L2 Regularization)\n",
        "model = keras.Sequential()\n",
        "model.add(LSTM(128, activation='relu', return_sequences=True, input_shape=(seq_length, 1), kernel_regularizer=l2(0.01)))\n",
        "model.add(LSTM(128, activation='relu', return_sequences=True, kernel_regularizer=l2(0.01)))\n",
        "model.add(LSTM(128, activation='relu', kernel_regularizer=l2(0.01)))\n",
        "model.add(Dense(64, activation='relu', kernel_regularizer=l2(0.01)))\n",
        "model.add(Dense(1))"
      ],
      "metadata": {
        "id": "MJNGWwEd1JMP"
      },
      "execution_count": 93,
      "outputs": []
    },
    {
      "cell_type": "code",
      "source": [
        "# Menerapkan k-fold cross-validation (buat improve performance dari modelnya)\n",
        "tscv = TimeSeriesSplit(n_splits=5)\n",
        "rmses = []\n",
        "maes = []\n",
        "\n",
        "for train_index, test_index in tscv.split(X_train):\n",
        "    X_train_fold, X_val_fold = X_train[train_index, :seq_length], X_train[test_index, :seq_length]\n",
        "    y_train_fold, y_val_fold = y_train[train_index], y_train[test_index]\n",
        "\n",
        "    # Define dan train neural network model\n",
        "    model = keras.Sequential()\n",
        "    model.add(LSTM(128, activation='relu', return_sequences=True, input_shape=(seq_length, 1)))\n",
        "    model.add(Dropout(0.2))\n",
        "    model.add(LSTM(128, activation='relu', return_sequences=True))\n",
        "    model.add(Dropout(0.2))\n",
        "    model.add(LSTM(128, activation='relu'))\n",
        "    model.add(Dropout(0.2))\n",
        "    model.add(Dense(64, activation='relu'))\n",
        "    model.add(Dropout(0.2))\n",
        "    model.add(Dense(1))\n",
        "\n",
        "    model.compile(optimizer='adam', loss='mean_squared_error')\n",
        "    early_stopping = EarlyStopping(monitor='val_loss', patience=10, restore_best_weights=True)\n",
        "\n",
        "    model.fit(X_train_fold, y_train_fold, validation_data=(X_val_fold, y_val_fold), epochs=50, batch_size=32, callbacks=[early_stopping])\n",
        "\n",
        "    # Evaluasi model\n",
        "    y_pred = model.predict(X_test)\n",
        "    y_pred = scaler.inverse_transform(y_pred)\n",
        "\n",
        "    rmse = sqrt(mean_squared_error(y_val_fold, model.predict(X_val_fold)))\n",
        "    mae = mean_absolute_error(y_val_fold, model.predict(X_val_fold))\n",
        "\n",
        "    rmses.append(rmse)\n",
        "    maes.append(mae)"
      ],
      "metadata": {
        "colab": {
          "base_uri": "https://localhost:8080/"
        },
        "id": "7CZKMhjPknZd",
        "outputId": "3e9f3c79-9ed8-4358-c876-218632638b30"
      },
      "execution_count": 94,
      "outputs": [
        {
          "output_type": "stream",
          "name": "stdout",
          "text": [
            "Epoch 1/50\n",
            "2/2 [==============================] - 6s 637ms/step - loss: 1.8254 - val_loss: 0.7516\n",
            "Epoch 2/50\n",
            "2/2 [==============================] - 0s 178ms/step - loss: 1.7792 - val_loss: 0.6505\n",
            "Epoch 3/50\n",
            "2/2 [==============================] - 0s 158ms/step - loss: 1.7013 - val_loss: 0.4759\n",
            "Epoch 4/50\n",
            "2/2 [==============================] - 0s 160ms/step - loss: 1.5539 - val_loss: 0.2425\n",
            "Epoch 5/50\n",
            "2/2 [==============================] - 0s 153ms/step - loss: 1.2906 - val_loss: 2.9055\n",
            "Epoch 6/50\n",
            "2/2 [==============================] - 0s 162ms/step - loss: 1.0946 - val_loss: 1.2847\n",
            "Epoch 7/50\n",
            "2/2 [==============================] - 0s 153ms/step - loss: 0.8428 - val_loss: 0.1971\n",
            "Epoch 8/50\n",
            "2/2 [==============================] - 0s 154ms/step - loss: 0.6789 - val_loss: 0.1237\n",
            "Epoch 9/50\n",
            "2/2 [==============================] - 0s 175ms/step - loss: 0.5198 - val_loss: 0.1650\n",
            "Epoch 10/50\n",
            "2/2 [==============================] - 0s 150ms/step - loss: 0.4460 - val_loss: 0.1728\n",
            "Epoch 11/50\n",
            "2/2 [==============================] - 0s 153ms/step - loss: 1.1509 - val_loss: 0.4076\n",
            "Epoch 12/50\n",
            "2/2 [==============================] - 0s 154ms/step - loss: 0.8242 - val_loss: 0.4562\n",
            "Epoch 13/50\n",
            "2/2 [==============================] - 0s 153ms/step - loss: 0.9442 - val_loss: 0.3883\n",
            "Epoch 14/50\n",
            "2/2 [==============================] - 0s 157ms/step - loss: 0.9504 - val_loss: 0.2766\n",
            "Epoch 15/50\n",
            "2/2 [==============================] - 0s 158ms/step - loss: 0.8330 - val_loss: 0.1630\n",
            "Epoch 16/50\n",
            "2/2 [==============================] - 0s 168ms/step - loss: 0.6427 - val_loss: 0.1274\n",
            "Epoch 17/50\n",
            "2/2 [==============================] - 0s 165ms/step - loss: 0.6343 - val_loss: 0.2736\n",
            "Epoch 18/50\n",
            "2/2 [==============================] - 0s 157ms/step - loss: 0.6388 - val_loss: 0.2032\n",
            "3/3 [==============================] - 1s 49ms/step\n",
            "2/2 [==============================] - 0s 48ms/step\n",
            "2/2 [==============================] - 0s 48ms/step\n",
            "Epoch 1/50\n",
            "3/3 [==============================] - 5s 411ms/step - loss: 1.3297 - val_loss: 0.7666\n",
            "Epoch 2/50\n",
            "3/3 [==============================] - 0s 163ms/step - loss: 1.2377 - val_loss: 0.7053\n",
            "Epoch 3/50\n",
            "3/3 [==============================] - 0s 177ms/step - loss: 1.0440 - val_loss: 0.6123\n",
            "Epoch 4/50\n",
            "3/3 [==============================] - 0s 163ms/step - loss: 0.9242 - val_loss: 0.6100\n",
            "Epoch 5/50\n",
            "3/3 [==============================] - 0s 169ms/step - loss: 0.7152 - val_loss: 0.5922\n",
            "Epoch 6/50\n",
            "3/3 [==============================] - 0s 160ms/step - loss: 0.4805 - val_loss: 0.6443\n",
            "Epoch 7/50\n",
            "3/3 [==============================] - 0s 169ms/step - loss: 0.4832 - val_loss: 0.6700\n",
            "Epoch 8/50\n",
            "3/3 [==============================] - 0s 165ms/step - loss: 0.5441 - val_loss: 0.6365\n",
            "Epoch 9/50\n",
            "3/3 [==============================] - 0s 154ms/step - loss: 0.4124 - val_loss: 0.6068\n",
            "Epoch 10/50\n",
            "3/3 [==============================] - 0s 167ms/step - loss: 0.4228 - val_loss: 0.6422\n",
            "Epoch 11/50\n",
            "3/3 [==============================] - 0s 154ms/step - loss: 0.2683 - val_loss: 0.7972\n",
            "Epoch 12/50\n",
            "3/3 [==============================] - 0s 164ms/step - loss: 0.2363 - val_loss: 0.9127\n",
            "Epoch 13/50\n",
            "3/3 [==============================] - 0s 157ms/step - loss: 0.2898 - val_loss: 0.8427\n",
            "Epoch 14/50\n",
            "3/3 [==============================] - 1s 251ms/step - loss: 0.1811 - val_loss: 0.7720\n",
            "Epoch 15/50\n",
            "3/3 [==============================] - 1s 302ms/step - loss: 0.2196 - val_loss: 0.8215\n",
            "3/3 [==============================] - 0s 24ms/step\n",
            "2/2 [==============================] - 0s 25ms/step\n",
            "2/2 [==============================] - 0s 38ms/step\n",
            "Epoch 1/50\n",
            "5/5 [==============================] - 7s 266ms/step - loss: 1.1286 - val_loss: 0.6120\n",
            "Epoch 2/50\n",
            "5/5 [==============================] - 1s 137ms/step - loss: 0.9578 - val_loss: 0.9218\n",
            "Epoch 3/50\n",
            "5/5 [==============================] - 1s 137ms/step - loss: 0.8192 - val_loss: 0.8463\n",
            "Epoch 4/50\n",
            "5/5 [==============================] - 1s 216ms/step - loss: 0.6929 - val_loss: 0.7164\n",
            "Epoch 5/50\n",
            "5/5 [==============================] - 1s 254ms/step - loss: 0.5127 - val_loss: 0.4519\n",
            "Epoch 6/50\n",
            "5/5 [==============================] - 1s 240ms/step - loss: 0.5987 - val_loss: 0.4677\n",
            "Epoch 7/50\n",
            "5/5 [==============================] - 1s 230ms/step - loss: 0.5289 - val_loss: 0.3523\n",
            "Epoch 8/50\n",
            "5/5 [==============================] - 1s 139ms/step - loss: 0.6205 - val_loss: 0.1867\n",
            "Epoch 9/50\n",
            "5/5 [==============================] - 1s 134ms/step - loss: 0.6363 - val_loss: 0.2951\n",
            "Epoch 10/50\n",
            "5/5 [==============================] - 1s 141ms/step - loss: 0.5600 - val_loss: 0.5015\n",
            "Epoch 11/50\n",
            "5/5 [==============================] - 1s 138ms/step - loss: 0.5124 - val_loss: 0.3999\n",
            "Epoch 12/50\n",
            "5/5 [==============================] - 1s 133ms/step - loss: 0.4059 - val_loss: 0.0978\n",
            "Epoch 13/50\n",
            "5/5 [==============================] - 1s 139ms/step - loss: 0.3989 - val_loss: 0.2330\n",
            "Epoch 14/50\n",
            "5/5 [==============================] - 1s 145ms/step - loss: 0.3785 - val_loss: 0.0556\n",
            "Epoch 15/50\n",
            "5/5 [==============================] - 1s 135ms/step - loss: 0.3652 - val_loss: 0.0939\n",
            "Epoch 16/50\n",
            "5/5 [==============================] - 1s 140ms/step - loss: 0.3434 - val_loss: 0.1354\n",
            "Epoch 17/50\n",
            "5/5 [==============================] - 1s 144ms/step - loss: 0.3263 - val_loss: 0.0538\n",
            "Epoch 18/50\n",
            "5/5 [==============================] - 1s 136ms/step - loss: 0.3138 - val_loss: 0.1458\n",
            "Epoch 19/50\n",
            "5/5 [==============================] - 1s 138ms/step - loss: 0.2660 - val_loss: 0.0431\n",
            "Epoch 20/50\n",
            "5/5 [==============================] - 1s 141ms/step - loss: 0.3057 - val_loss: 0.1721\n",
            "Epoch 21/50\n",
            "5/5 [==============================] - 1s 134ms/step - loss: 0.3324 - val_loss: 0.1023\n",
            "Epoch 22/50\n",
            "5/5 [==============================] - 1s 203ms/step - loss: 0.3581 - val_loss: 0.0352\n",
            "Epoch 23/50\n",
            "5/5 [==============================] - 1s 248ms/step - loss: 0.3209 - val_loss: 0.1689\n",
            "Epoch 24/50\n",
            "5/5 [==============================] - 1s 254ms/step - loss: 0.2916 - val_loss: 0.0308\n",
            "Epoch 25/50\n",
            "5/5 [==============================] - 1s 241ms/step - loss: 0.3688 - val_loss: 0.1307\n",
            "Epoch 26/50\n",
            "5/5 [==============================] - 1s 134ms/step - loss: 0.3202 - val_loss: 0.2756\n",
            "Epoch 27/50\n",
            "5/5 [==============================] - 1s 137ms/step - loss: 0.2814 - val_loss: 0.0245\n",
            "Epoch 28/50\n",
            "5/5 [==============================] - 1s 139ms/step - loss: 0.2748 - val_loss: 0.0384\n",
            "Epoch 29/50\n",
            "5/5 [==============================] - 1s 136ms/step - loss: 0.2363 - val_loss: 0.1425\n",
            "Epoch 30/50\n",
            "5/5 [==============================] - 1s 141ms/step - loss: 0.2391 - val_loss: 0.0734\n",
            "Epoch 31/50\n",
            "5/5 [==============================] - 1s 160ms/step - loss: 0.2553 - val_loss: 0.0769\n",
            "Epoch 32/50\n",
            "5/5 [==============================] - 1s 141ms/step - loss: 0.2171 - val_loss: 0.0902\n",
            "Epoch 33/50\n",
            "5/5 [==============================] - 1s 134ms/step - loss: 0.2130 - val_loss: 0.0598\n",
            "Epoch 34/50\n",
            "5/5 [==============================] - 1s 137ms/step - loss: 0.2200 - val_loss: 0.1550\n",
            "Epoch 35/50\n",
            "5/5 [==============================] - 1s 138ms/step - loss: 0.1980 - val_loss: 0.0839\n",
            "Epoch 36/50\n",
            "5/5 [==============================] - 1s 132ms/step - loss: 0.2260 - val_loss: 0.0902\n",
            "Epoch 37/50\n",
            "5/5 [==============================] - 1s 140ms/step - loss: 0.2051 - val_loss: 0.1203\n",
            "3/3 [==============================] - 1s 33ms/step\n",
            "2/2 [==============================] - 0s 28ms/step\n",
            "2/2 [==============================] - 0s 30ms/step\n",
            "Epoch 1/50\n",
            "6/6 [==============================] - 7s 238ms/step - loss: 0.9493 - val_loss: 0.6027\n",
            "Epoch 2/50\n",
            "6/6 [==============================] - 1s 148ms/step - loss: 0.7940 - val_loss: 0.5503\n",
            "Epoch 3/50\n",
            "6/6 [==============================] - 1s 165ms/step - loss: 0.6532 - val_loss: 0.7262\n",
            "Epoch 4/50\n",
            "6/6 [==============================] - 1s 131ms/step - loss: 0.5178 - val_loss: 0.4424\n",
            "Epoch 5/50\n",
            "6/6 [==============================] - 1s 142ms/step - loss: 0.6247 - val_loss: 0.3346\n",
            "Epoch 6/50\n",
            "6/6 [==============================] - 1s 135ms/step - loss: 0.4894 - val_loss: 0.4423\n",
            "Epoch 7/50\n",
            "6/6 [==============================] - 1s 137ms/step - loss: 0.3967 - val_loss: 0.2590\n",
            "Epoch 8/50\n",
            "6/6 [==============================] - 1s 135ms/step - loss: 0.3461 - val_loss: 0.3572\n",
            "Epoch 9/50\n",
            "6/6 [==============================] - 1s 136ms/step - loss: 0.3215 - val_loss: 0.4679\n",
            "Epoch 10/50\n",
            "6/6 [==============================] - 1s 140ms/step - loss: 0.2946 - val_loss: 0.2949\n",
            "Epoch 11/50\n",
            "6/6 [==============================] - 1s 243ms/step - loss: 0.2974 - val_loss: 0.3855\n",
            "Epoch 12/50\n",
            "6/6 [==============================] - 1s 255ms/step - loss: 0.2580 - val_loss: 0.3093\n",
            "Epoch 13/50\n",
            "6/6 [==============================] - 1s 242ms/step - loss: 0.2603 - val_loss: 0.4718\n",
            "Epoch 14/50\n",
            "6/6 [==============================] - 1s 137ms/step - loss: 0.2358 - val_loss: 0.2433\n",
            "Epoch 15/50\n",
            "6/6 [==============================] - 1s 138ms/step - loss: 0.2596 - val_loss: 0.3761\n",
            "Epoch 16/50\n",
            "6/6 [==============================] - 1s 142ms/step - loss: 0.2437 - val_loss: 0.2627\n",
            "Epoch 17/50\n",
            "6/6 [==============================] - 1s 139ms/step - loss: 0.2654 - val_loss: 0.8493\n",
            "Epoch 18/50\n",
            "6/6 [==============================] - 1s 137ms/step - loss: 0.2679 - val_loss: 0.1996\n",
            "Epoch 19/50\n",
            "6/6 [==============================] - 1s 140ms/step - loss: 0.2229 - val_loss: 0.4788\n",
            "Epoch 20/50\n",
            "6/6 [==============================] - 1s 140ms/step - loss: 0.2281 - val_loss: 0.2454\n",
            "Epoch 21/50\n",
            "6/6 [==============================] - 1s 141ms/step - loss: 0.2410 - val_loss: 0.3681\n",
            "Epoch 22/50\n",
            "6/6 [==============================] - 1s 135ms/step - loss: 0.2347 - val_loss: 0.2317\n",
            "Epoch 23/50\n",
            "6/6 [==============================] - 1s 135ms/step - loss: 0.2191 - val_loss: 0.2991\n",
            "Epoch 24/50\n",
            "6/6 [==============================] - 1s 138ms/step - loss: 0.1932 - val_loss: 0.2297\n",
            "Epoch 25/50\n",
            "6/6 [==============================] - 1s 137ms/step - loss: 0.2057 - val_loss: 0.1885\n",
            "Epoch 26/50\n",
            "6/6 [==============================] - 1s 223ms/step - loss: 0.2168 - val_loss: 0.2229\n",
            "Epoch 27/50\n",
            "6/6 [==============================] - 2s 257ms/step - loss: 0.2003 - val_loss: 0.2285\n",
            "Epoch 28/50\n",
            "6/6 [==============================] - 2s 255ms/step - loss: 0.1764 - val_loss: 0.2685\n",
            "Epoch 29/50\n",
            "6/6 [==============================] - 1s 145ms/step - loss: 0.1803 - val_loss: 0.2363\n",
            "Epoch 30/50\n",
            "6/6 [==============================] - 1s 137ms/step - loss: 0.1744 - val_loss: 0.1974\n",
            "Epoch 31/50\n",
            "6/6 [==============================] - 1s 133ms/step - loss: 0.1665 - val_loss: 0.2366\n",
            "Epoch 32/50\n",
            "6/6 [==============================] - 1s 136ms/step - loss: 0.2118 - val_loss: 0.2026\n",
            "Epoch 33/50\n",
            "6/6 [==============================] - 1s 133ms/step - loss: 0.2301 - val_loss: 0.2029\n",
            "Epoch 34/50\n",
            "6/6 [==============================] - 1s 138ms/step - loss: 0.2126 - val_loss: 0.2383\n",
            "Epoch 35/50\n",
            "6/6 [==============================] - 1s 138ms/step - loss: 0.1807 - val_loss: 0.2028\n",
            "3/3 [==============================] - 1s 29ms/step\n",
            "2/2 [==============================] - 0s 24ms/step\n",
            "2/2 [==============================] - 0s 26ms/step\n",
            "Epoch 1/50\n",
            "7/7 [==============================] - 6s 355ms/step - loss: 0.8859 - val_loss: 0.3739\n",
            "Epoch 2/50\n",
            "7/7 [==============================] - 2s 217ms/step - loss: 0.6851 - val_loss: 0.2037\n",
            "Epoch 3/50\n",
            "7/7 [==============================] - 1s 156ms/step - loss: 0.4825 - val_loss: 0.0790\n",
            "Epoch 4/50\n",
            "7/7 [==============================] - 1s 121ms/step - loss: 0.4465 - val_loss: 0.1067\n",
            "Epoch 5/50\n",
            "7/7 [==============================] - 1s 123ms/step - loss: 0.3945 - val_loss: 0.0264\n",
            "Epoch 6/50\n",
            "7/7 [==============================] - 1s 126ms/step - loss: 0.3681 - val_loss: 0.0299\n",
            "Epoch 7/50\n",
            "7/7 [==============================] - 1s 128ms/step - loss: 0.3148 - val_loss: 0.0239\n",
            "Epoch 8/50\n",
            "7/7 [==============================] - 1s 121ms/step - loss: 0.2815 - val_loss: 0.0299\n",
            "Epoch 9/50\n",
            "7/7 [==============================] - 1s 121ms/step - loss: 0.2659 - val_loss: 0.0297\n",
            "Epoch 10/50\n",
            "7/7 [==============================] - 1s 120ms/step - loss: 0.2588 - val_loss: 0.0378\n",
            "Epoch 11/50\n",
            "7/7 [==============================] - 1s 127ms/step - loss: 0.2602 - val_loss: 0.0823\n",
            "Epoch 12/50\n",
            "7/7 [==============================] - 1s 124ms/step - loss: 0.2688 - val_loss: 0.0265\n",
            "Epoch 13/50\n",
            "7/7 [==============================] - 1s 124ms/step - loss: 0.2323 - val_loss: 0.0324\n",
            "Epoch 14/50\n",
            "7/7 [==============================] - 1s 126ms/step - loss: 0.2442 - val_loss: 0.0259\n",
            "Epoch 15/50\n",
            "7/7 [==============================] - 1s 225ms/step - loss: 0.2124 - val_loss: 0.0404\n",
            "Epoch 16/50\n",
            "7/7 [==============================] - 2s 234ms/step - loss: 0.1964 - val_loss: 0.0331\n",
            "Epoch 17/50\n",
            "7/7 [==============================] - 1s 209ms/step - loss: 0.2152 - val_loss: 0.0356\n",
            "3/3 [==============================] - 1s 31ms/step\n",
            "2/2 [==============================] - 0s 26ms/step\n",
            "2/2 [==============================] - 0s 27ms/step\n"
          ]
        }
      ]
    },
    {
      "cell_type": "code",
      "source": [
        "# Menghitung average RMSE dari cross-validation\n",
        "mean_rmse = np.mean(rmses)\n",
        "mean_mae = np.mean(maes)\n",
        "print(f\"Average RMSE: {mean_rmse}\")\n",
        "print(f\"Average MAE: {mean_mae}\")"
      ],
      "metadata": {
        "colab": {
          "base_uri": "https://localhost:8080/"
        },
        "id": "Dmt0Ub0Aevsu",
        "outputId": "6a0ef0bd-06d1-49eb-f0fd-47c7f96da38e"
      },
      "execution_count": 95,
      "outputs": [
        {
          "output_type": "stream",
          "name": "stdout",
          "text": [
            "Average RMSE: 0.3732813400862196\n",
            "Average MAE: 0.2723513976981321\n"
          ]
        }
      ]
    },
    {
      "cell_type": "code",
      "source": [
        "# Predictions untuk test data (X_test)\n",
        "y_pred_test = model.predict(X_test)\n",
        "y_pred_test = scaler.inverse_transform(y_pred_test)"
      ],
      "metadata": {
        "colab": {
          "base_uri": "https://localhost:8080/"
        },
        "id": "cGGsoq9nz9iK",
        "outputId": "c0713ef5-2022-4900-9f95-f487ffc2ba15"
      },
      "execution_count": 96,
      "outputs": [
        {
          "output_type": "stream",
          "name": "stdout",
          "text": [
            "3/3 [==============================] - 0s 28ms/step\n"
          ]
        }
      ]
    },
    {
      "cell_type": "code",
      "source": [
        "print(y_pred_test)"
      ],
      "metadata": {
        "colab": {
          "base_uri": "https://localhost:8080/"
        },
        "id": "VCJR7AfGkDMx",
        "outputId": "cd7cb9c1-fe08-447a-c463-bdada45de2b4"
      },
      "execution_count": 97,
      "outputs": [
        {
          "output_type": "stream",
          "name": "stdout",
          "text": [
            "[[1.1356329]\n",
            " [1.1468552]\n",
            " [1.1569339]\n",
            " [1.1755509]\n",
            " [1.1938398]\n",
            " [1.2041509]\n",
            " [1.2073923]\n",
            " [1.2066323]\n",
            " [1.2015191]\n",
            " [1.1948543]\n",
            " [1.186421 ]\n",
            " [1.1788483]\n",
            " [1.1737661]\n",
            " [1.1689355]\n",
            " [1.1634891]\n",
            " [1.1600056]\n",
            " [1.162438 ]\n",
            " [1.1725054]\n",
            " [1.1968646]\n",
            " [1.2355525]\n",
            " [1.2755526]\n",
            " [1.3070095]\n",
            " [1.3273082]\n",
            " [1.3345013]\n",
            " [1.3308913]\n",
            " [1.3240376]\n",
            " [1.3147238]\n",
            " [1.3067192]\n",
            " [1.3016075]\n",
            " [1.3000116]\n",
            " [1.2997257]\n",
            " [1.2993654]\n",
            " [1.295962 ]\n",
            " [1.2846113]\n",
            " [1.2624899]\n",
            " [1.2310572]\n",
            " [1.1963919]\n",
            " [1.165097 ]\n",
            " [1.1359069]\n",
            " [1.110187 ]\n",
            " [1.0901707]\n",
            " [1.0732474]\n",
            " [1.0587319]\n",
            " [1.047767 ]\n",
            " [1.041375 ]\n",
            " [1.0401555]\n",
            " [1.0441821]\n",
            " [1.0537122]\n",
            " [1.0741992]\n",
            " [1.1142721]\n",
            " [1.1718196]\n",
            " [1.2356912]\n",
            " [1.2984943]\n",
            " [1.3539263]\n",
            " [1.3959101]\n",
            " [1.4215292]\n",
            " [1.434074 ]\n",
            " [1.4369143]\n",
            " [1.4264141]\n",
            " [1.4052927]\n",
            " [1.374763 ]\n",
            " [1.3444009]\n",
            " [1.316986 ]\n",
            " [1.3021824]\n",
            " [1.3361791]\n",
            " [1.483696 ]\n",
            " [1.6505549]]\n"
          ]
        }
      ]
    },
    {
      "cell_type": "code",
      "source": [
        "# RMSE dan MAE dari test data\n",
        "rmse_test = sqrt(mean_squared_error(y_test, y_pred_test))\n",
        "mae_test = mean_absolute_error(y_test, y_pred_test)\n",
        "\n",
        "print(f\"RMSE for Test Data: {rmse_test}\")\n",
        "print(f\"MAE for Test Data: {mae_test}\")"
      ],
      "metadata": {
        "colab": {
          "base_uri": "https://localhost:8080/"
        },
        "id": "J8eb0Um3kJcQ",
        "outputId": "5628fc0f-247e-44a3-ba7f-76b63115e963"
      },
      "execution_count": 98,
      "outputs": [
        {
          "output_type": "stream",
          "name": "stdout",
          "text": [
            "RMSE for Test Data: 1.9616594692310347\n",
            "MAE for Test Data: 1.8497390337574346\n"
          ]
        }
      ]
    },
    {
      "cell_type": "code",
      "source": [
        "# forecasting\n",
        "forecast_days = 5\n",
        "X_forecast = np.copy(X_test[-1])\n",
        "\n",
        "forecasted_values = []\n",
        "\n",
        "for _ in range(forecast_days):\n",
        "    forecasted_value = model.predict(X_forecast.reshape(1, seq_length, 1))\n",
        "    forecasted_values.append(forecasted_value[0, 0])\n",
        "\n",
        "    X_forecast = np.roll(X_forecast, -1)\n",
        "    X_forecast[-1] = forecasted_value\n",
        "\n",
        "forecasted_values = scaler.inverse_transform(np.array(forecasted_values).reshape(-1, 1))"
      ],
      "metadata": {
        "colab": {
          "base_uri": "https://localhost:8080/"
        },
        "id": "v-RBPbiQ2QFG",
        "outputId": "1048305c-1e69-4c58-8ef9-3c08fcbae749"
      },
      "execution_count": 99,
      "outputs": [
        {
          "output_type": "stream",
          "name": "stdout",
          "text": [
            "1/1 [==============================] - 0s 30ms/step\n",
            "1/1 [==============================] - 0s 29ms/step\n",
            "1/1 [==============================] - 0s 34ms/step\n",
            "1/1 [==============================] - 0s 32ms/step\n",
            "1/1 [==============================] - 0s 36ms/step\n"
          ]
        }
      ]
    },
    {
      "cell_type": "code",
      "source": [
        "print(forecasted_values)"
      ],
      "metadata": {
        "colab": {
          "base_uri": "https://localhost:8080/"
        },
        "id": "LhGSSGzSo3fT",
        "outputId": "afd5f9c0-044c-4175-f2a9-cef16511fb8f"
      },
      "execution_count": 100,
      "outputs": [
        {
          "output_type": "stream",
          "name": "stdout",
          "text": [
            "[[1.6505549]\n",
            " [1.7917373]\n",
            " [1.9017885]\n",
            " [1.9798602]\n",
            " [2.028854 ]]\n"
          ]
        }
      ]
    },
    {
      "cell_type": "code",
      "source": [
        "# date range buat forecast\n",
        "last_date = df.index[-1]\n",
        "forecast_dates = pd.date_range(last_date, periods=forecast_days + 1)[1:]\n",
        "\n",
        "# date range buat test data\n",
        "test_dates = df.index[-len(y_pred_test):]"
      ],
      "metadata": {
        "id": "ks9abjVio6WE"
      },
      "execution_count": 101,
      "outputs": []
    },
    {
      "cell_type": "code",
      "source": [
        "# Plot dari original data, predicted test data, dan forecasted values\n",
        "plt.figure(figsize=(12, 6))\n",
        "plt.plot(df.index, df['Open'], label='Original Data')\n",
        "plt.plot(forecast_dates, forecasted_values, label='5-Day Forecast', linestyle='--', color='red')\n",
        "plt.plot(test_dates, y_pred_test, label='Predicted Test Data', linestyle='--', color='green') # Adding the predicted test data\n",
        "plt.title('Stock Price Forecast')\n",
        "plt.xlabel('Date')\n",
        "plt.ylabel('Stock Price')\n",
        "plt.legend()\n",
        "plt.show()"
      ],
      "metadata": {
        "colab": {
          "base_uri": "https://localhost:8080/",
          "height": 564
        },
        "id": "iPutYfCwpAFI",
        "outputId": "5467308d-60b8-4a77-aced-450ae04de2af"
      },
      "execution_count": 102,
      "outputs": [
        {
          "output_type": "display_data",
          "data": {
            "text/plain": [
              "<Figure size 1200x600 with 1 Axes>"
            ],
            "image/png": "[encoded data removed]"
          },
          "metadata": {}
        }
      ]
    },
    {
      "cell_type": "code",
      "source": [
        "# Extract the last 4 actual opening prices and the first forecast opening price\n",
        "last_4_actual_opening_prices = df['Open'][-4:]  # Last 4 actual opening prices\n",
        "first_forecast_opening_price = forecasted_values[0][0]  # First forecast opening price\n",
        "\n",
        "# Concatenate the last 4 actual opening prices and the first forecast opening price\n",
        "plot_data = pd.concat([last_4_actual_opening_prices, pd.Series([first_forecast_opening_price], index=[forecast_dates[0]])])\n",
        "\n",
        "# Plot the time series data\n",
        "plt.figure(figsize=(10, 6))\n",
        "plt.plot(plot_data.index, plot_data.values, marker='o', linestyle='-', color='blue')  # Blue line and dots\n",
        "\n",
        "# Highlight the last point in red\n",
        "plt.plot(plot_data.index[-1], plot_data.values[-1], marker='o', markersize=8, linestyle='--', color='red')  # Red dot for the last point\n",
        "\n",
        "plt.title('Opening Prices: Last 4 Actual and First Forecast')\n",
        "plt.xlabel('Date')\n",
        "plt.ylabel('Stock Price')\n",
        "plt.xticks(rotation=45)\n",
        "plt.grid(True)\n",
        "plt.show()\n"
      ],
      "metadata": {
        "colab": {
          "base_uri": "https://localhost:8080/",
          "height": 604
        },
        "id": "79DhOBWoZqbI",
        "outputId": "23fc88fb-49ec-4702-a933-9e75702e8ce9"
      },
      "execution_count": 103,
      "outputs": [
        {
          "output_type": "display_data",
          "data": {
            "text/plain": [
              "<Figure size 1000x600 with 1 Axes>"
            ],
            "image/png": "[encoded data removed]"
          },
          "metadata": {}
        }
      ]
    },
    {
      "cell_type": "code",
      "source": [
        "# Calculate the difference in the opening stock price between the last day of the actual data and the first day of the forecast\n",
        "last_actual_day = df.index[-1]  # Last day of the actual data\n",
        "first_forecast_day = forecast_dates[0] # First day of the forecast\n",
        "\n",
        "last_actual_opening_price = df['Open'][-1]  # Opening price of the last day in the actual data\n",
        "first_forecast_opening_price = forecasted_values[0][0]  # Opening price of the first day in the forecast\n",
        "\n",
        "price_difference = first_forecast_opening_price - last_actual_opening_price\n",
        "percentage_change = price_difference/last_actual_opening_price\n",
        "\n",
        "print(f\"last actual opening price: {last_actual_day} = {last_actual_opening_price}\")\n",
        "print(f\"first forecast opening price: {first_forecast_day} = {first_forecast_opening_price}\")\n",
        "print(f\"Difference in opening stock price between last actual day and first forecast day: {price_difference}\")\n",
        "print(f\"Percentage Change: {percentage_change}\")"
      ],
      "metadata": {
        "colab": {
          "base_uri": "https://localhost:8080/"
        },
        "id": "yFUHL2m-Wjyf",
        "outputId": "35014710-cac4-4b2f-e5a4-ef0a0349d011"
      },
      "execution_count": 104,
      "outputs": [
        {
          "output_type": "stream",
          "name": "stdout",
          "text": [
            "last actual opening price: 2023-11-13 00:00:00 = 3.4254369735717773\n",
            "first forecast opening price: 2023-11-14 00:00:00 = 1.650554895401001\n",
            "Difference in opening stock price between last actual day and first forecast day: -1.7748820781707764\n",
            "Percentage Change: -0.5181476383493544\n"
          ]
        }
      ]
    },
    {
      "cell_type": "code",
      "source": [
        "# adjusted percentage_change to be weighted metric\n",
        "weighted_metric = (percentage_change + 1) / 2\n",
        "\n",
        "print(f\"weighted metric: {weighted_metric}\")"
      ],
      "metadata": {
        "colab": {
          "base_uri": "https://localhost:8080/"
        },
        "id": "9cTlMEFLdD_4",
        "outputId": "c43d6590-90db-4c9b-959c-fcce2d616068"
      },
      "execution_count": 105,
      "outputs": [
        {
          "output_type": "stream",
          "name": "stdout",
          "text": [
            "weighted metric: 0.2409261808253228\n"
          ]
        }
      ]
    },
    {
      "cell_type": "code",
      "source": [
        "# Calculate R-squared score\n",
        "r_squared = r2_score(y_test, y_pred_test)\n",
        "print(f\"R-squared Score: {r_squared}\")"
      ],
      "metadata": {
        "colab": {
          "base_uri": "https://localhost:8080/"
        },
        "id": "yeuGofolaRY6",
        "outputId": "374caca1-89a6-4a7d-b74b-4d27db19405d"
      },
      "execution_count": 106,
      "outputs": [
        {
          "output_type": "stream",
          "name": "stdout",
          "text": [
            "R-squared Score: -0.9717228000736557\n"
          ]
        }
      ]
    }
  ]
}
