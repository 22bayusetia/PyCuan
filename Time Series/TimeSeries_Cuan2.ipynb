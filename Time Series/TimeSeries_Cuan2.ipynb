{
  "nbformat": 4,
  "nbformat_minor": 0,
  "metadata": {
    "colab": {
      "provenance": []
    },
    "kernelspec": {
      "name": "python3",
      "display_name": "Python 3"
    },
    "language_info": {
      "name": "python"
    }
  },
  "cells": [
    {
      "cell_type": "code",
      "execution_count": 94,
      "metadata": {
        "colab": {
          "base_uri": "https://localhost:8080/"
        },
        "id": "Vj3vQKX1fj97",
        "outputId": "b9d8f9e1-1809-4373-93c7-bac8ec6ad89c"
      },
      "outputs": [
        {
          "output_type": "stream",
          "name": "stdout",
          "text": [
            "Requirement already satisfied: pandas in /usr/local/lib/python3.10/dist-packages (1.5.3)\n",
            "Requirement already satisfied: matplotlib in /usr/local/lib/python3.10/dist-packages (3.7.1)\n",
            "Requirement already satisfied: yfinance in /usr/local/lib/python3.10/dist-packages (0.2.31)\n",
            "Requirement already satisfied: python-dateutil>=2.8.1 in /usr/local/lib/python3.10/dist-packages (from pandas) (2.8.2)\n",
            "Requirement already satisfied: pytz>=2020.1 in /usr/local/lib/python3.10/dist-packages (from pandas) (2023.3.post1)\n",
            "Requirement already satisfied: numpy>=1.21.0 in /usr/local/lib/python3.10/dist-packages (from pandas) (1.23.5)\n",
            "Requirement already satisfied: contourpy>=1.0.1 in /usr/local/lib/python3.10/dist-packages (from matplotlib) (1.1.1)\n",
            "Requirement already satisfied: cycler>=0.10 in /usr/local/lib/python3.10/dist-packages (from matplotlib) (0.12.1)\n",
            "Requirement already satisfied: fonttools>=4.22.0 in /usr/local/lib/python3.10/dist-packages (from matplotlib) (4.43.1)\n",
            "Requirement already satisfied: kiwisolver>=1.0.1 in /usr/local/lib/python3.10/dist-packages (from matplotlib) (1.4.5)\n",
            "Requirement already satisfied: packaging>=20.0 in /usr/local/lib/python3.10/dist-packages (from matplotlib) (23.2)\n",
            "Requirement already satisfied: pillow>=6.2.0 in /usr/local/lib/python3.10/dist-packages (from matplotlib) (9.4.0)\n",
            "Requirement already satisfied: pyparsing>=2.3.1 in /usr/local/lib/python3.10/dist-packages (from matplotlib) (3.1.1)\n",
            "Requirement already satisfied: requests>=2.31 in /usr/local/lib/python3.10/dist-packages (from yfinance) (2.31.0)\n",
            "Requirement already satisfied: multitasking>=0.0.7 in /usr/local/lib/python3.10/dist-packages (from yfinance) (0.0.11)\n",
            "Requirement already satisfied: lxml>=4.9.1 in /usr/local/lib/python3.10/dist-packages (from yfinance) (4.9.3)\n",
            "Requirement already satisfied: appdirs>=1.4.4 in /usr/local/lib/python3.10/dist-packages (from yfinance) (1.4.4)\n",
            "Requirement already satisfied: frozendict>=2.3.4 in /usr/local/lib/python3.10/dist-packages (from yfinance) (2.3.8)\n",
            "Requirement already satisfied: peewee>=3.16.2 in /usr/local/lib/python3.10/dist-packages (from yfinance) (3.17.0)\n",
            "Requirement already satisfied: beautifulsoup4>=4.11.1 in /usr/local/lib/python3.10/dist-packages (from yfinance) (4.11.2)\n",
            "Requirement already satisfied: html5lib>=1.1 in /usr/local/lib/python3.10/dist-packages (from yfinance) (1.1)\n",
            "Requirement already satisfied: soupsieve>1.2 in /usr/local/lib/python3.10/dist-packages (from beautifulsoup4>=4.11.1->yfinance) (2.5)\n",
            "Requirement already satisfied: six>=1.9 in /usr/local/lib/python3.10/dist-packages (from html5lib>=1.1->yfinance) (1.16.0)\n",
            "Requirement already satisfied: webencodings in /usr/local/lib/python3.10/dist-packages (from html5lib>=1.1->yfinance) (0.5.1)\n",
            "Requirement already satisfied: charset-normalizer<4,>=2 in /usr/local/lib/python3.10/dist-packages (from requests>=2.31->yfinance) (3.3.1)\n",
            "Requirement already satisfied: idna<4,>=2.5 in /usr/local/lib/python3.10/dist-packages (from requests>=2.31->yfinance) (3.4)\n",
            "Requirement already satisfied: urllib3<3,>=1.21.1 in /usr/local/lib/python3.10/dist-packages (from requests>=2.31->yfinance) (2.0.7)\n",
            "Requirement already satisfied: certifi>=2017.4.17 in /usr/local/lib/python3.10/dist-packages (from requests>=2.31->yfinance) (2023.7.22)\n"
          ]
        }
      ],
      "source": [
        "!pip install pandas matplotlib yfinance"
      ]
    },
    {
      "cell_type": "code",
      "source": [
        "# Import libraries yang dibutuhkan\n",
        "import pandas as pd\n",
        "import numpy as np\n",
        "import matplotlib.pyplot as plt\n",
        "import tensorflow as tf\n",
        "from tensorflow import keras\n",
        "from tensorflow.keras.layers import Input, LSTM, Dense, Dropout\n",
        "from tensorflow.keras.callbacks import EarlyStopping\n",
        "from sklearn.model_selection import train_test_split\n",
        "from sklearn.preprocessing import MinMaxScaler, StandardScaler\n",
        "from sklearn.metrics import mean_squared_error, mean_absolute_error\n",
        "import yfinance as yf\n",
        "from math import sqrt\n",
        "from xgboost import XGBRegressor\n",
        "from sklearn.model_selection import TimeSeriesSplit"
      ],
      "metadata": {
        "id": "awUIWpDjcAOx"
      },
      "execution_count": 95,
      "outputs": []
    },
    {
      "cell_type": "code",
      "source": [
        "# Define kode saham dan rentang waktu (1 tahun cukup)\n",
        "stock_symbol = 'AAPL'\n",
        "start_date = '2022-10-31'\n",
        "end_date = '2023-10-31'"
      ],
      "metadata": {
        "id": "rLFVbzFLkHXO"
      },
      "execution_count": 96,
      "outputs": []
    },
    {
      "cell_type": "code",
      "source": [
        "# Ambil bagian historical data\n",
        "df = yf.download(stock_symbol, start=start_date, end=end_date)"
      ],
      "metadata": {
        "colab": {
          "base_uri": "https://localhost:8080/"
        },
        "id": "9oY2s_WQkKCY",
        "outputId": "5269ac9f-8346-46cb-a1dc-abbcdfb2e7f7"
      },
      "execution_count": 97,
      "outputs": [
        {
          "output_type": "stream",
          "name": "stdout",
          "text": [
            "\r[*********************100%%**********************]  1 of 1 completed\n"
          ]
        }
      ]
    },
    {
      "cell_type": "code",
      "source": [
        "# Pilih kolom 'Open' (butuhnya opening price)\n",
        "ts = df['Open'].values"
      ],
      "metadata": {
        "id": "CXqNo_-PkPbJ"
      },
      "execution_count": 98,
      "outputs": []
    },
    {
      "cell_type": "code",
      "source": [
        "print(ts)"
      ],
      "metadata": {
        "colab": {
          "base_uri": "https://localhost:8080/"
        },
        "id": "a9Se-WnpkvrD",
        "outputId": "5a02b749-bf35-4c55-b3ec-bc2cf8af524f"
      },
      "execution_count": 99,
      "outputs": [
        {
          "output_type": "stream",
          "name": "stdout",
          "text": [
            "[153.16000366 155.08000183 148.94999695 142.05999756 142.08999634\n",
            " 137.11000061 140.41000366 138.5        141.24000549 145.82000732\n",
            " 148.97000122 152.22000122 149.13000488 146.42999268 152.30999756\n",
            " 150.16000366 148.13000488 149.44999695 148.30999756 145.13999939\n",
            " 144.28999329 141.3999939  148.21000671 145.96000671 147.77000427\n",
            " 147.07000732 142.19000244 142.36000061 142.33999634 142.69999695\n",
            " 149.5        145.3500061  141.11000061 136.69000244 135.11000061\n",
            " 131.38999939 132.97999573 134.3500061  130.91999817 131.38000488\n",
            " 129.66999817 127.98999786 128.41000366 130.27999878 126.88999939\n",
            " 127.12999725 126.01000214 130.47000122 130.25999451 131.25\n",
            " 133.88000488 132.02999878 134.83000183 136.82000732 134.08000183\n",
            " 135.27999878 138.11999512 140.30999756 140.88999939 143.16999817\n",
            " 143.16000366 144.96000671 142.69999695 143.97000122 148.8999939\n",
            " 148.02999878 152.57000732 150.63999939 153.88000488 153.77999878\n",
            " 149.46000671 150.94999695 152.11999512 153.11000061 153.50999451\n",
            " 152.3500061  150.19999695 148.86999512 150.08999634 147.11000061\n",
            " 147.71000671 147.05000305 146.83000183 144.38000488 148.03999329\n",
            " 153.78999329 153.69999695 152.80999756 153.55999756 150.21000671\n",
            " 147.80999756 151.27999878 151.19000244 152.16000366 156.08000183\n",
            " 155.07000732 157.32000732 159.30000305 158.83000183 158.86000061\n",
            " 159.94000244 157.97000122 159.36999512 161.52999878 162.44000244\n",
            " 164.27000427 166.6000061  164.74000549 162.42999268 161.41999817\n",
            " 162.3500061  161.22000122 161.63000488 164.58999634 165.08999634\n",
            " 166.1000061  165.80000305 166.08999634 165.05000305 165.\n",
            " 165.19000244 163.05999756 165.19000244 168.49000549 169.27999878\n",
            " 170.08999634 169.5        164.88999939 170.97999573 172.47999573\n",
            " 173.05000305 173.02000427 173.8500061  173.61999512 173.16000366\n",
            " 171.99000549 171.71000671 173.         176.38999939 173.97999573\n",
            " 173.13000488 171.08999634 172.41000366 173.32000732 176.96000671\n",
            " 177.33000183 177.69999695 181.02999878 182.63000488 179.97000122\n",
            " 178.44000244 177.8999939  181.5        181.27000427 182.80000305\n",
            " 183.36999512 183.96000671 186.72999573 184.41000366 184.8999939\n",
            " 183.74000549 185.55000305 186.83000183 185.88999939 187.92999268\n",
            " 189.08000183 191.63000488 193.77999878 191.57000732 189.83999634\n",
            " 191.41000366 189.25999451 189.16000366 189.67999268 190.5\n",
            " 190.22999573 191.8999939  193.3500061  193.1000061  195.08999634\n",
            " 194.1000061  193.41000366 193.33000183 193.66999817 196.02000427\n",
            " 194.66999817 196.05999756 196.24000549 195.03999329 191.57000732\n",
            " 185.52000427 182.13000488 179.69000244 180.86999512 179.47999573\n",
            " 177.32000732 177.97000122 178.88000488 177.13000488 177.13999939\n",
            " 172.30000305 175.07000732 177.05999756 178.52000427 180.66999817\n",
            " 177.38000488 180.08999634 179.69999695 184.94000244 187.83999634\n",
            " 189.49000549 188.27999878 188.3999939  175.17999268 178.3500061\n",
            " 180.07000732 179.49000549 176.50999451 174.         176.47999573\n",
            " 176.47999573 177.52000427 179.25999451 174.55000305 174.66999817\n",
            " 174.19999695 174.82000732 172.61999512 169.33999634 172.02000427\n",
            " 171.22000122 172.25999451 171.08999634 173.78999329 173.80000305\n",
            " 176.80999756 178.1000061  178.19999695 180.07000732 181.41999817\n",
            " 176.75       176.6499939  175.58000183 176.03999329 175.30999756\n",
            " 170.91000366 173.05000305 171.88000488 170.36999512 166.91000366\n",
            " 169.02000427]\n"
          ]
        }
      ]
    },
    {
      "cell_type": "code",
      "source": [
        "# Display time series plot dari original data opening price\n",
        "plt.figure(figsize=(12, 6))\n",
        "plt.plot(df.index, df['Open'], label='Original Data')\n",
        "plt.title('Opening Price Time Series Data')\n",
        "plt.xlabel('Date')\n",
        "plt.ylabel('Stock Price')\n",
        "plt.legend()\n",
        "plt.show()"
      ],
      "metadata": {
        "colab": {
          "base_uri": "https://localhost:8080/",
          "height": 564
        },
        "id": "iyAc78mez1yn",
        "outputId": "14d9c907-d7e7-4a36-c926-e01ee7ab2b83"
      },
      "execution_count": 100,
      "outputs": [
        {
          "output_type": "display_data",
          "data": {
            "text/plain": [
              "<Figure size 1200x600 with 1 Axes>"
            ],
            "image/png": "[encoded data removed]"
          },
          "metadata": {}
        }
      ]
    },
    {
      "cell_type": "code",
      "source": [
        "# Normalisasi data\n",
        "scaler = StandardScaler()\n",
        "ts = scaler.fit_transform(np.array(ts).reshape(-1, 1))"
      ],
      "metadata": {
        "id": "XFkmMjmDkR9S"
      },
      "execution_count": 101,
      "outputs": []
    },
    {
      "cell_type": "code",
      "source": [
        "# Prepare X_train dan X_test\n",
        "seq_length = 30\n",
        "\n",
        "X_train = []\n",
        "y_train = []\n",
        "\n",
        "for i in range(len(ts) - seq_length):\n",
        "    X_train.append(ts[i:i + seq_length])\n",
        "    y_train.append(ts[i + seq_length])"
      ],
      "metadata": {
        "id": "xLF9TCe0kXvD"
      },
      "execution_count": 102,
      "outputs": []
    },
    {
      "cell_type": "code",
      "source": [
        "# Memastikan X_train dan y_train adalah numpy arrays\n",
        "X_train = np.array(X_train)\n",
        "y_train = np.array(y_train)"
      ],
      "metadata": {
        "id": "gHRoY3tOkayF"
      },
      "execution_count": 103,
      "outputs": []
    },
    {
      "cell_type": "code",
      "source": [
        "# Split data menjadi training dan testing (80% training, 20% testing)\n",
        "train_size = int(len(X_train) * 0.8)\n",
        "X_train, X_test = X_train[:train_size], X_train[train_size:]\n",
        "y_train, y_test = y_train[:train_size], y_train[train_size:]"
      ],
      "metadata": {
        "id": "YH0XLLQNkdbD"
      },
      "execution_count": 104,
      "outputs": []
    },
    {
      "cell_type": "code",
      "source": [
        "# Model Architecture\n",
        "model = keras.Sequential()\n",
        "model.add(LSTM(128, activation='relu', return_sequences=True, input_shape=(seq_length, 1)))\n",
        "model.add(Dropout(0.2))  # tambah dropout buat prevent overfitting\n",
        "model.add(LSTM(128, activation='relu', return_sequences=True))\n",
        "model.add(Dropout(0.2))\n",
        "model.add(LSTM(128, activation='relu'))\n",
        "model.add(Dropout(0.2))\n",
        "model.add(Dense(64, activation='relu'))\n",
        "model.add(Dropout(0.2))\n",
        "model.add(Dense(1))"
      ],
      "metadata": {
        "id": "teFjj0BMkf9F"
      },
      "execution_count": 105,
      "outputs": []
    },
    {
      "cell_type": "code",
      "source": [
        "# Training Parameters\n",
        "model.compile(optimizer='adam', loss='mean_squared_error')\n",
        "early_stopping = EarlyStopping(monitor='val_loss', patience=10, restore_best_weights=True)  # Early stopping callback"
      ],
      "metadata": {
        "id": "GAx4qQ5zY69E"
      },
      "execution_count": 106,
      "outputs": []
    },
    {
      "cell_type": "code",
      "source": [
        "# Model Training\n",
        "model.fit(X_train, y_train, epochs=50, batch_size=32, validation_split=0.2, callbacks=[early_stopping])"
      ],
      "metadata": {
        "colab": {
          "base_uri": "https://localhost:8080/"
        },
        "id": "cW3_LnfGY-PK",
        "outputId": "4c3d92b6-b30c-4732-f3ac-61233a4f8520"
      },
      "execution_count": 107,
      "outputs": [
        {
          "output_type": "stream",
          "name": "stdout",
          "text": [
            "Epoch 1/50\n",
            "5/5 [==============================] - 6s 330ms/step - loss: 0.9326 - val_loss: 1.3742\n",
            "Epoch 2/50\n",
            "5/5 [==============================] - 1s 145ms/step - loss: 0.5136 - val_loss: 0.3504\n",
            "Epoch 3/50\n",
            "5/5 [==============================] - 1s 150ms/step - loss: 0.2750 - val_loss: 16.7258\n",
            "Epoch 4/50\n",
            "5/5 [==============================] - 1s 192ms/step - loss: 0.1964 - val_loss: 0.2783\n",
            "Epoch 5/50\n",
            "5/5 [==============================] - 1s 297ms/step - loss: 0.1873 - val_loss: 0.2502\n",
            "Epoch 6/50\n",
            "5/5 [==============================] - 2s 520ms/step - loss: 0.1517 - val_loss: 0.7413\n",
            "Epoch 7/50\n",
            "5/5 [==============================] - 2s 382ms/step - loss: 0.1114 - val_loss: 3.0079\n",
            "Epoch 8/50\n",
            "5/5 [==============================] - 1s 279ms/step - loss: 0.0828 - val_loss: 1.3766\n",
            "Epoch 9/50\n",
            "5/5 [==============================] - 1s 280ms/step - loss: 0.0911 - val_loss: 1.0517\n",
            "Epoch 10/50\n",
            "5/5 [==============================] - 2s 345ms/step - loss: 0.0856 - val_loss: 1.6425\n",
            "Epoch 11/50\n",
            "5/5 [==============================] - 2s 306ms/step - loss: 0.0804 - val_loss: 3.5171\n",
            "Epoch 12/50\n",
            "5/5 [==============================] - 2s 312ms/step - loss: 0.0887 - val_loss: 1.5867\n",
            "Epoch 13/50\n",
            "5/5 [==============================] - 2s 391ms/step - loss: 0.0742 - val_loss: 1.4502\n",
            "Epoch 14/50\n",
            "5/5 [==============================] - 2s 477ms/step - loss: 0.0667 - val_loss: 1.5369\n",
            "Epoch 15/50\n",
            "5/5 [==============================] - 2s 371ms/step - loss: 0.0825 - val_loss: 1.3590\n"
          ]
        },
        {
          "output_type": "execute_result",
          "data": {
            "text/plain": [
              "<keras.src.callbacks.History at 0x7b194da72920>"
            ]
          },
          "metadata": {},
          "execution_count": 107
        }
      ]
    },
    {
      "cell_type": "code",
      "source": [
        "# Model Evaluation\n",
        "y_pred = model.predict(X_test)\n",
        "y_pred = scaler.inverse_transform(y_pred)"
      ],
      "metadata": {
        "colab": {
          "base_uri": "https://localhost:8080/"
        },
        "id": "UQ8W83_QZMwZ",
        "outputId": "a82d12ad-405a-4183-937e-3962fc95fa2b"
      },
      "execution_count": 108,
      "outputs": [
        {
          "output_type": "stream",
          "name": "stdout",
          "text": [
            "2/2 [==============================] - 1s 31ms/step\n"
          ]
        }
      ]
    },
    {
      "cell_type": "code",
      "source": [
        "# Menghitung RMSE dan MAE\n",
        "rmse = sqrt(mean_squared_error(y_test, y_pred))\n",
        "mae = mean_absolute_error(y_test, y_pred)"
      ],
      "metadata": {
        "id": "Rvaih5giZSup"
      },
      "execution_count": 109,
      "outputs": []
    },
    {
      "cell_type": "code",
      "source": [
        "# Data Augmentation (di sini pakai Random Noise)\n",
        "# tambah random noise ke training data\n",
        "noise = np.random.normal(0, 0.1, X_train.shape)\n",
        "X_train_noisy = X_train + noise\n",
        "model.fit(X_train_noisy, y_train, epochs=50, batch_size=32, validation_split=0.2, callbacks=[early_stopping])"
      ],
      "metadata": {
        "colab": {
          "base_uri": "https://localhost:8080/"
        },
        "id": "9oos3NwpZVgy",
        "outputId": "0721f8d0-7906-4c34-ba92-19d309039def"
      },
      "execution_count": 110,
      "outputs": [
        {
          "output_type": "stream",
          "name": "stdout",
          "text": [
            "Epoch 1/50\n",
            "5/5 [==============================] - 1s 157ms/step - loss: 0.1640 - val_loss: 0.5946\n",
            "Epoch 2/50\n",
            "5/5 [==============================] - 1s 148ms/step - loss: 0.1346 - val_loss: 4.7796\n",
            "Epoch 3/50\n",
            "5/5 [==============================] - 1s 151ms/step - loss: 0.1326 - val_loss: 1.8947\n",
            "Epoch 4/50\n",
            "5/5 [==============================] - 1s 241ms/step - loss: 0.0795 - val_loss: 2.6661\n",
            "Epoch 5/50\n",
            "5/5 [==============================] - 1s 267ms/step - loss: 0.0722 - val_loss: 2.7939\n",
            "Epoch 6/50\n",
            "5/5 [==============================] - 1s 205ms/step - loss: 0.0765 - val_loss: 1.0230\n",
            "Epoch 7/50\n",
            "5/5 [==============================] - 1s 146ms/step - loss: 0.0958 - val_loss: 2.1735\n",
            "Epoch 8/50\n",
            "5/5 [==============================] - 1s 150ms/step - loss: 0.0753 - val_loss: 1.8411\n",
            "Epoch 9/50\n",
            "5/5 [==============================] - 1s 147ms/step - loss: 0.0846 - val_loss: 0.4849\n",
            "Epoch 10/50\n",
            "5/5 [==============================] - 1s 144ms/step - loss: 0.0680 - val_loss: 0.9508\n",
            "Epoch 11/50\n",
            "5/5 [==============================] - 1s 149ms/step - loss: 0.0713 - val_loss: 1.9588\n",
            "Epoch 12/50\n",
            "5/5 [==============================] - 1s 144ms/step - loss: 0.0644 - val_loss: 0.7530\n",
            "Epoch 13/50\n",
            "5/5 [==============================] - 1s 141ms/step - loss: 0.0652 - val_loss: 0.8265\n",
            "Epoch 14/50\n",
            "5/5 [==============================] - 1s 148ms/step - loss: 0.0685 - val_loss: 1.3235\n",
            "Epoch 15/50\n",
            "5/5 [==============================] - 1s 153ms/step - loss: 0.0606 - val_loss: 1.4507\n",
            "Epoch 16/50\n",
            "5/5 [==============================] - 1s 138ms/step - loss: 0.0610 - val_loss: 1.0214\n",
            "Epoch 17/50\n",
            "5/5 [==============================] - 1s 143ms/step - loss: 0.0637 - val_loss: 0.8758\n",
            "Epoch 18/50\n",
            "5/5 [==============================] - 1s 148ms/step - loss: 0.0644 - val_loss: 0.6979\n",
            "Epoch 19/50\n",
            "5/5 [==============================] - 1s 150ms/step - loss: 0.0557 - val_loss: 1.3715\n"
          ]
        },
        {
          "output_type": "execute_result",
          "data": {
            "text/plain": [
              "<keras.src.callbacks.History at 0x7b194ea05030>"
            ]
          },
          "metadata": {},
          "execution_count": 110
        }
      ]
    },
    {
      "cell_type": "code",
      "source": [
        "# Feature Engineering (di sini pake Adding Volume Data, untuk menambahkan informasi lebih ke analisis time series)\n",
        "df['Volume'] = df['Volume'] / 1e7\n",
        "additional_features = df['Volume'].values"
      ],
      "metadata": {
        "id": "qDyaTjPfZi1I"
      },
      "execution_count": 111,
      "outputs": []
    },
    {
      "cell_type": "code",
      "source": [
        "# Concatenate additional features dan X_train\n",
        "additional_features = additional_features.reshape(-1, 1, 1)\n",
        "additional_features = additional_features[-len(X_train):]\n",
        "X_train = np.concatenate((X_train, additional_features), axis=1)"
      ],
      "metadata": {
        "id": "3An82zAMZnzy"
      },
      "execution_count": 112,
      "outputs": []
    },
    {
      "cell_type": "code",
      "source": [
        "# Ensemble Methods\n",
        "X_train_2d = X_train.reshape(X_train.shape[0], -1)\n",
        "xgb_model = XGBRegressor(n_estimators=100, max_depth=5, learning_rate=0.1)\n",
        "xgb_model.fit(X_train_2d, y_train)"
      ],
      "metadata": {
        "colab": {
          "base_uri": "https://localhost:8080/",
          "height": 248
        },
        "id": "w9bByWrmkkZr",
        "outputId": "8a69dd06-1971-4ec5-8bf6-2aff4747dc87"
      },
      "execution_count": 113,
      "outputs": [
        {
          "output_type": "execute_result",
          "data": {
            "text/plain": [
              "XGBRegressor(base_score=None, booster=None, callbacks=None,\n",
              "             colsample_bylevel=None, colsample_bynode=None,\n",
              "             colsample_bytree=None, device=None, early_stopping_rounds=None,\n",
              "             enable_categorical=False, eval_metric=None, feature_types=None,\n",
              "             gamma=None, grow_policy=None, importance_type=None,\n",
              "             interaction_constraints=None, learning_rate=0.1, max_bin=None,\n",
              "             max_cat_threshold=None, max_cat_to_onehot=None,\n",
              "             max_delta_step=None, max_depth=5, max_leaves=None,\n",
              "             min_child_weight=None, missing=nan, monotone_constraints=None,\n",
              "             multi_strategy=None, n_estimators=100, n_jobs=None,\n",
              "             num_parallel_tree=None, random_state=None, ...)"
            ],
            "text/html": [
              "<style>#sk-container-id-3 {color: black;background-color: white;}#sk-container-id-3 pre{padding: 0;}#sk-container-id-3 div.sk-toggleable {background-color: white;}#sk-container-id-3 label.sk-toggleable__label {cursor: pointer;display: block;width: 100%;margin-bottom: 0;padding: 0.3em;box-sizing: border-box;text-align: center;}#sk-container-id-3 label.sk-toggleable__label-arrow:before {content: \"▸\";float: left;margin-right: 0.25em;color: #696969;}#sk-container-id-3 label.sk-toggleable__label-arrow:hover:before {color: black;}#sk-container-id-3 div.sk-estimator:hover label.sk-toggleable__label-arrow:before {color: black;}#sk-container-id-3 div.sk-toggleable__content {max-height: 0;max-width: 0;overflow: hidden;text-align: left;background-color: #f0f8ff;}#sk-container-id-3 div.sk-toggleable__content pre {margin: 0.2em;color: black;border-radius: 0.25em;background-color: #f0f8ff;}#sk-container-id-3 input.sk-toggleable__control:checked~div.sk-toggleable__content {max-height: 200px;max-width: 100%;overflow: auto;}#sk-container-id-3 input.sk-toggleable__control:checked~label.sk-toggleable__label-arrow:before {content: \"▾\";}#sk-container-id-3 div.sk-estimator input.sk-toggleable__control:checked~label.sk-toggleable__label {background-color: #d4ebff;}#sk-container-id-3 div.sk-label input.sk-toggleable__control:checked~label.sk-toggleable__label {background-color: #d4ebff;}#sk-container-id-3 input.sk-hidden--visually {border: 0;clip: rect(1px 1px 1px 1px);clip: rect(1px, 1px, 1px, 1px);height: 1px;margin: -1px;overflow: hidden;padding: 0;position: absolute;width: 1px;}#sk-container-id-3 div.sk-estimator {font-family: monospace;background-color: #f0f8ff;border: 1px dotted black;border-radius: 0.25em;box-sizing: border-box;margin-bottom: 0.5em;}#sk-container-id-3 div.sk-estimator:hover {background-color: #d4ebff;}#sk-container-id-3 div.sk-parallel-item::after {content: \"\";width: 100%;border-bottom: 1px solid gray;flex-grow: 1;}#sk-container-id-3 div.sk-label:hover label.sk-toggleable__label {background-color: #d4ebff;}#sk-container-id-3 div.sk-serial::before {content: \"\";position: absolute;border-left: 1px solid gray;box-sizing: border-box;top: 0;bottom: 0;left: 50%;z-index: 0;}#sk-container-id-3 div.sk-serial {display: flex;flex-direction: column;align-items: center;background-color: white;padding-right: 0.2em;padding-left: 0.2em;position: relative;}#sk-container-id-3 div.sk-item {position: relative;z-index: 1;}#sk-container-id-3 div.sk-parallel {display: flex;align-items: stretch;justify-content: center;background-color: white;position: relative;}#sk-container-id-3 div.sk-item::before, #sk-container-id-3 div.sk-parallel-item::before {content: \"\";position: absolute;border-left: 1px solid gray;box-sizing: border-box;top: 0;bottom: 0;left: 50%;z-index: -1;}#sk-container-id-3 div.sk-parallel-item {display: flex;flex-direction: column;z-index: 1;position: relative;background-color: white;}#sk-container-id-3 div.sk-parallel-item:first-child::after {align-self: flex-end;width: 50%;}#sk-container-id-3 div.sk-parallel-item:last-child::after {align-self: flex-start;width: 50%;}#sk-container-id-3 div.sk-parallel-item:only-child::after {width: 0;}#sk-container-id-3 div.sk-dashed-wrapped {border: 1px dashed gray;margin: 0 0.4em 0.5em 0.4em;box-sizing: border-box;padding-bottom: 0.4em;background-color: white;}#sk-container-id-3 div.sk-label label {font-family: monospace;font-weight: bold;display: inline-block;line-height: 1.2em;}#sk-container-id-3 div.sk-label-container {text-align: center;}#sk-container-id-3 div.sk-container {/* jupyter's `normalize.less` sets `[hidden] { display: none; }` but bootstrap.min.css set `[hidden] { display: none !important; }` so we also need the `!important` here to be able to override the default hidden behavior on the sphinx rendered scikit-learn.org. See: https://github.com/scikit-learn/scikit-learn/issues/21755 */display: inline-block !important;position: relative;}#sk-container-id-3 div.sk-text-repr-fallback {display: none;}</style><div id=\"sk-container-id-3\" class=\"sk-top-container\"><div class=\"sk-text-repr-fallback\"><pre>XGBRegressor(base_score=None, booster=None, callbacks=None,\n",
              "             colsample_bylevel=None, colsample_bynode=None,\n",
              "             colsample_bytree=None, device=None, early_stopping_rounds=None,\n",
              "             enable_categorical=False, eval_metric=None, feature_types=None,\n",
              "             gamma=None, grow_policy=None, importance_type=None,\n",
              "             interaction_constraints=None, learning_rate=0.1, max_bin=None,\n",
              "             max_cat_threshold=None, max_cat_to_onehot=None,\n",
              "             max_delta_step=None, max_depth=5, max_leaves=None,\n",
              "             min_child_weight=None, missing=nan, monotone_constraints=None,\n",
              "             multi_strategy=None, n_estimators=100, n_jobs=None,\n",
              "             num_parallel_tree=None, random_state=None, ...)</pre><b>In a Jupyter environment, please rerun this cell to show the HTML representation or trust the notebook. <br />On GitHub, the HTML representation is unable to render, please try loading this page with nbviewer.org.</b></div><div class=\"sk-container\" hidden><div class=\"sk-item\"><div class=\"sk-estimator sk-toggleable\"><input class=\"sk-toggleable__control sk-hidden--visually\" id=\"sk-estimator-id-3\" type=\"checkbox\" checked><label for=\"sk-estimator-id-3\" class=\"sk-toggleable__label sk-toggleable__label-arrow\">XGBRegressor</label><div class=\"sk-toggleable__content\"><pre>XGBRegressor(base_score=None, booster=None, callbacks=None,\n",
              "             colsample_bylevel=None, colsample_bynode=None,\n",
              "             colsample_bytree=None, device=None, early_stopping_rounds=None,\n",
              "             enable_categorical=False, eval_metric=None, feature_types=None,\n",
              "             gamma=None, grow_policy=None, importance_type=None,\n",
              "             interaction_constraints=None, learning_rate=0.1, max_bin=None,\n",
              "             max_cat_threshold=None, max_cat_to_onehot=None,\n",
              "             max_delta_step=None, max_depth=5, max_leaves=None,\n",
              "             min_child_weight=None, missing=nan, monotone_constraints=None,\n",
              "             multi_strategy=None, n_estimators=100, n_jobs=None,\n",
              "             num_parallel_tree=None, random_state=None, ...)</pre></div></div></div></div></div>"
            ]
          },
          "metadata": {},
          "execution_count": 113
        }
      ]
    },
    {
      "cell_type": "code",
      "source": [
        "from tensorflow.keras.regularizers import l2\n",
        "\n",
        "# Regularization (L2 Regularization)\n",
        "model = keras.Sequential()\n",
        "model.add(LSTM(128, activation='relu', return_sequences=True, input_shape=(seq_length, 1), kernel_regularizer=l2(0.01)))\n",
        "model.add(LSTM(128, activation='relu', return_sequences=True, kernel_regularizer=l2(0.01)))\n",
        "model.add(LSTM(128, activation='relu', kernel_regularizer=l2(0.01)))\n",
        "model.add(Dense(64, activation='relu', kernel_regularizer=l2(0.01)))\n",
        "model.add(Dense(1))"
      ],
      "metadata": {
        "id": "MJNGWwEd1JMP"
      },
      "execution_count": 114,
      "outputs": []
    },
    {
      "cell_type": "code",
      "source": [
        "# Menerapkan k-fold cross-validation (buat improve performance dari modelnya)\n",
        "tscv = TimeSeriesSplit(n_splits=5)\n",
        "rmses = []\n",
        "maes = []\n",
        "\n",
        "for train_index, test_index in tscv.split(X_train):\n",
        "    X_train_fold, X_val_fold = X_train[train_index, :seq_length], X_train[test_index, :seq_length]\n",
        "    y_train_fold, y_val_fold = y_train[train_index], y_train[test_index]\n",
        "\n",
        "    # Define dan train neural network model\n",
        "    model = keras.Sequential()\n",
        "    model.add(LSTM(128, activation='relu', return_sequences=True, input_shape=(seq_length, 1)))\n",
        "    model.add(Dropout(0.2))\n",
        "    model.add(LSTM(128, activation='relu', return_sequences=True))\n",
        "    model.add(Dropout(0.2))\n",
        "    model.add(LSTM(128, activation='relu'))\n",
        "    model.add(Dropout(0.2))\n",
        "    model.add(Dense(64, activation='relu'))\n",
        "    model.add(Dropout(0.2))\n",
        "    model.add(Dense(1))\n",
        "\n",
        "    model.compile(optimizer='adam', loss='mean_squared_error')\n",
        "    early_stopping = EarlyStopping(monitor='val_loss', patience=10, restore_best_weights=True)\n",
        "\n",
        "    model.fit(X_train_fold, y_train_fold, validation_data=(X_val_fold, y_val_fold), epochs=50, batch_size=32, callbacks=[early_stopping])\n",
        "\n",
        "    # Evaluasi model\n",
        "    y_pred = model.predict(X_test)\n",
        "    y_pred = scaler.inverse_transform(y_pred)\n",
        "\n",
        "    rmse = sqrt(mean_squared_error(y_val_fold, model.predict(X_val_fold)))\n",
        "    mae = mean_absolute_error(y_val_fold, model.predict(X_val_fold))\n",
        "\n",
        "    rmses.append(rmse)\n",
        "    maes.append(mae)"
      ],
      "metadata": {
        "colab": {
          "base_uri": "https://localhost:8080/"
        },
        "id": "7CZKMhjPknZd",
        "outputId": "a9549dbb-8d11-4068-fa3a-a9be5b3363c8"
      },
      "execution_count": 115,
      "outputs": [
        {
          "output_type": "stream",
          "name": "stdout",
          "text": [
            "Epoch 1/50\n",
            "1/1 [==============================] - 5s 5s/step - loss: 2.7360 - val_loss: 0.6076\n",
            "Epoch 2/50\n",
            "1/1 [==============================] - 0s 217ms/step - loss: 2.5804 - val_loss: 0.5544\n",
            "Epoch 3/50\n",
            "1/1 [==============================] - 0s 200ms/step - loss: 2.4827 - val_loss: 0.4881\n",
            "Epoch 4/50\n",
            "1/1 [==============================] - 0s 206ms/step - loss: 2.2910 - val_loss: 0.3968\n",
            "Epoch 5/50\n",
            "1/1 [==============================] - 0s 209ms/step - loss: 2.0334 - val_loss: 0.2740\n",
            "Epoch 6/50\n",
            "1/1 [==============================] - 0s 293ms/step - loss: 1.6426 - val_loss: 0.1261\n",
            "Epoch 7/50\n",
            "1/1 [==============================] - 0s 452ms/step - loss: 1.1973 - val_loss: 0.1315\n",
            "Epoch 8/50\n",
            "1/1 [==============================] - 0s 359ms/step - loss: 0.6090 - val_loss: 3.5907\n",
            "Epoch 9/50\n",
            "1/1 [==============================] - 0s 462ms/step - loss: 1.5953 - val_loss: 0.9574\n",
            "Epoch 10/50\n",
            "1/1 [==============================] - 0s 420ms/step - loss: 0.8475 - val_loss: 0.2184\n",
            "Epoch 11/50\n",
            "1/1 [==============================] - 0s 435ms/step - loss: 0.5193 - val_loss: 0.0793\n",
            "Epoch 12/50\n",
            "1/1 [==============================] - 0s 349ms/step - loss: 0.6484 - val_loss: 0.0603\n",
            "Epoch 13/50\n",
            "1/1 [==============================] - 0s 208ms/step - loss: 0.6863 - val_loss: 0.0626\n",
            "Epoch 14/50\n",
            "1/1 [==============================] - 0s 206ms/step - loss: 0.8122 - val_loss: 0.0649\n",
            "Epoch 15/50\n",
            "1/1 [==============================] - 0s 207ms/step - loss: 0.8494 - val_loss: 0.0627\n",
            "Epoch 16/50\n",
            "1/1 [==============================] - 0s 214ms/step - loss: 0.9078 - val_loss: 0.0571\n",
            "Epoch 17/50\n",
            "1/1 [==============================] - 0s 196ms/step - loss: 0.8244 - val_loss: 0.0505\n",
            "Epoch 18/50\n",
            "1/1 [==============================] - 0s 195ms/step - loss: 0.7318 - val_loss: 0.0469\n",
            "Epoch 19/50\n",
            "1/1 [==============================] - 0s 212ms/step - loss: 0.6473 - val_loss: 0.0536\n",
            "Epoch 20/50\n",
            "1/1 [==============================] - 0s 203ms/step - loss: 0.5427 - val_loss: 0.0824\n",
            "Epoch 21/50\n",
            "1/1 [==============================] - 0s 214ms/step - loss: 0.4663 - val_loss: 0.1549\n",
            "Epoch 22/50\n",
            "1/1 [==============================] - 0s 193ms/step - loss: 0.3320 - val_loss: 0.2969\n",
            "Epoch 23/50\n",
            "1/1 [==============================] - 0s 203ms/step - loss: 0.2837 - val_loss: 0.5327\n",
            "Epoch 24/50\n",
            "1/1 [==============================] - 0s 206ms/step - loss: 0.3469 - val_loss: 0.7913\n",
            "Epoch 25/50\n",
            "1/1 [==============================] - 0s 227ms/step - loss: 0.4496 - val_loss: 0.8770\n",
            "Epoch 26/50\n",
            "1/1 [==============================] - 0s 214ms/step - loss: 0.4012 - val_loss: 0.7974\n",
            "Epoch 27/50\n",
            "1/1 [==============================] - 0s 196ms/step - loss: 0.4664 - val_loss: 0.6158\n",
            "Epoch 28/50\n",
            "1/1 [==============================] - 0s 213ms/step - loss: 0.2260 - val_loss: 0.4576\n",
            "2/2 [==============================] - 1s 30ms/step\n",
            "1/1 [==============================] - 0s 58ms/step\n",
            "1/1 [==============================] - 0s 57ms/step\n",
            "Epoch 1/50\n",
            "2/2 [==============================] - 5s 699ms/step - loss: 1.6972 - val_loss: 0.1082\n",
            "Epoch 2/50\n",
            "2/2 [==============================] - 0s 315ms/step - loss: 1.5742 - val_loss: 0.0921\n",
            "Epoch 3/50\n",
            "2/2 [==============================] - 1s 445ms/step - loss: 1.4138 - val_loss: 0.0697\n",
            "Epoch 4/50\n",
            "2/2 [==============================] - 1s 360ms/step - loss: 1.0495 - val_loss: 0.0533\n",
            "Epoch 5/50\n",
            "2/2 [==============================] - 1s 428ms/step - loss: 0.6127 - val_loss: 0.1508\n",
            "Epoch 6/50\n",
            "2/2 [==============================] - 1s 291ms/step - loss: 0.5112 - val_loss: 0.1112\n",
            "Epoch 7/50\n",
            "2/2 [==============================] - 0s 205ms/step - loss: 0.3526 - val_loss: 0.0973\n",
            "Epoch 8/50\n",
            "2/2 [==============================] - 0s 216ms/step - loss: 0.3638 - val_loss: 0.1238\n",
            "Epoch 9/50\n",
            "2/2 [==============================] - 0s 196ms/step - loss: 0.3060 - val_loss: 0.1977\n",
            "Epoch 10/50\n",
            "2/2 [==============================] - 0s 201ms/step - loss: 0.2619 - val_loss: 0.3126\n",
            "Epoch 11/50\n",
            "2/2 [==============================] - 0s 188ms/step - loss: 0.3370 - val_loss: 0.2790\n",
            "Epoch 12/50\n",
            "2/2 [==============================] - 0s 210ms/step - loss: 0.2125 - val_loss: 0.2317\n",
            "Epoch 13/50\n",
            "2/2 [==============================] - 0s 195ms/step - loss: 0.2288 - val_loss: 0.2001\n",
            "Epoch 14/50\n",
            "2/2 [==============================] - 0s 193ms/step - loss: 0.2292 - val_loss: 0.2089\n",
            "2/2 [==============================] - 1s 29ms/step\n",
            "1/1 [==============================] - 0s 60ms/step\n",
            "1/1 [==============================] - 0s 60ms/step\n",
            "Epoch 1/50\n",
            "3/3 [==============================] - 7s 721ms/step - loss: 1.1684 - val_loss: 0.2365\n",
            "Epoch 2/50\n",
            "3/3 [==============================] - 1s 371ms/step - loss: 0.9713 - val_loss: 0.2885\n",
            "Epoch 3/50\n",
            "3/3 [==============================] - 1s 359ms/step - loss: 0.5499 - val_loss: 0.4353\n",
            "Epoch 4/50\n",
            "3/3 [==============================] - 1s 350ms/step - loss: 0.5033 - val_loss: 0.3779\n",
            "Epoch 5/50\n",
            "3/3 [==============================] - 1s 345ms/step - loss: 0.3485 - val_loss: 0.3750\n",
            "Epoch 6/50\n",
            "3/3 [==============================] - 1s 366ms/step - loss: 0.3539 - val_loss: 0.4015\n",
            "Epoch 7/50\n",
            "3/3 [==============================] - 1s 394ms/step - loss: 0.2990 - val_loss: 0.4485\n",
            "Epoch 8/50\n",
            "3/3 [==============================] - 1s 341ms/step - loss: 0.2223 - val_loss: 0.4941\n",
            "Epoch 9/50\n",
            "3/3 [==============================] - 1s 401ms/step - loss: 0.2506 - val_loss: 0.4997\n",
            "Epoch 10/50\n",
            "3/3 [==============================] - 1s 510ms/step - loss: 0.1977 - val_loss: 0.4775\n",
            "Epoch 11/50\n",
            "3/3 [==============================] - 1s 455ms/step - loss: 0.2188 - val_loss: 0.4704\n",
            "2/2 [==============================] - 1s 70ms/step\n",
            "1/1 [==============================] - 0s 159ms/step\n",
            "1/1 [==============================] - 0s 112ms/step\n",
            "Epoch 1/50\n",
            "4/4 [==============================] - 11s 482ms/step - loss: 0.8994 - val_loss: 1.3688\n",
            "Epoch 2/50\n",
            "4/4 [==============================] - 1s 156ms/step - loss: 0.6343 - val_loss: 1.1768\n",
            "Epoch 3/50\n",
            "4/4 [==============================] - 1s 157ms/step - loss: 0.3175 - val_loss: 0.5613\n",
            "Epoch 4/50\n",
            "4/4 [==============================] - 1s 162ms/step - loss: 0.2247 - val_loss: 25.0934\n",
            "Epoch 5/50\n",
            "4/4 [==============================] - 1s 160ms/step - loss: 0.2040 - val_loss: 1.3288\n",
            "Epoch 6/50\n",
            "4/4 [==============================] - 1s 158ms/step - loss: 0.1493 - val_loss: 0.0748\n",
            "Epoch 7/50\n",
            "4/4 [==============================] - 1s 158ms/step - loss: 0.1626 - val_loss: 0.0974\n",
            "Epoch 8/50\n",
            "4/4 [==============================] - 1s 156ms/step - loss: 0.1160 - val_loss: 0.0587\n",
            "Epoch 9/50\n",
            "4/4 [==============================] - 1s 159ms/step - loss: 0.1130 - val_loss: 0.3340\n",
            "Epoch 10/50\n",
            "4/4 [==============================] - 1s 151ms/step - loss: 0.0988 - val_loss: 0.2282\n",
            "Epoch 11/50\n",
            "4/4 [==============================] - 1s 364ms/step - loss: 0.0842 - val_loss: 0.0945\n",
            "Epoch 12/50\n",
            "4/4 [==============================] - 1s 155ms/step - loss: 0.1032 - val_loss: 0.2411\n",
            "Epoch 13/50\n",
            "4/4 [==============================] - 1s 165ms/step - loss: 0.0750 - val_loss: 0.5867\n",
            "Epoch 14/50\n",
            "4/4 [==============================] - 1s 157ms/step - loss: 0.0789 - val_loss: 1.5069\n",
            "Epoch 15/50\n",
            "4/4 [==============================] - 1s 157ms/step - loss: 0.0864 - val_loss: 0.6900\n",
            "Epoch 16/50\n",
            "4/4 [==============================] - 1s 262ms/step - loss: 0.0661 - val_loss: 0.4607\n",
            "Epoch 17/50\n",
            "4/4 [==============================] - 1s 328ms/step - loss: 0.0677 - val_loss: 0.3613\n",
            "Epoch 18/50\n",
            "4/4 [==============================] - 1s 258ms/step - loss: 0.0624 - val_loss: 0.5884\n",
            "2/2 [==============================] - 1s 30ms/step\n",
            "1/1 [==============================] - 0s 58ms/step\n",
            "1/1 [==============================] - 0s 58ms/step\n",
            "Epoch 1/50\n",
            "5/5 [==============================] - 6s 268ms/step - loss: 0.9460 - val_loss: 1.0878\n",
            "Epoch 2/50\n",
            "5/5 [==============================] - 1s 137ms/step - loss: 0.4852 - val_loss: 3.6479\n",
            "Epoch 3/50\n",
            "5/5 [==============================] - 1s 140ms/step - loss: 0.2907 - val_loss: 1.1246\n",
            "Epoch 4/50\n",
            "5/5 [==============================] - 1s 140ms/step - loss: 0.2890 - val_loss: 0.3793\n",
            "Epoch 5/50\n",
            "5/5 [==============================] - 1s 138ms/step - loss: 0.1869 - val_loss: 1.1317\n",
            "Epoch 6/50\n",
            "5/5 [==============================] - 1s 140ms/step - loss: 0.1812 - val_loss: 1.2800\n",
            "Epoch 7/50\n",
            "5/5 [==============================] - 1s 139ms/step - loss: 0.1363 - val_loss: 0.2466\n",
            "Epoch 8/50\n",
            "5/5 [==============================] - 1s 136ms/step - loss: 0.1185 - val_loss: 0.2742\n",
            "Epoch 9/50\n",
            "5/5 [==============================] - 1s 141ms/step - loss: 0.0965 - val_loss: 0.6422\n",
            "Epoch 10/50\n",
            "5/5 [==============================] - 1s 145ms/step - loss: 0.0929 - val_loss: 1.0933\n",
            "Epoch 11/50\n",
            "5/5 [==============================] - 1s 139ms/step - loss: 0.0845 - val_loss: 0.6018\n",
            "Epoch 12/50\n",
            "5/5 [==============================] - 1s 141ms/step - loss: 0.0842 - val_loss: 0.4984\n",
            "Epoch 13/50\n",
            "5/5 [==============================] - 1s 141ms/step - loss: 0.0900 - val_loss: 1.1078\n",
            "Epoch 14/50\n",
            "5/5 [==============================] - 1s 258ms/step - loss: 0.0954 - val_loss: 0.8424\n",
            "Epoch 15/50\n",
            "5/5 [==============================] - 1s 256ms/step - loss: 0.0766 - val_loss: 0.5741\n",
            "Epoch 16/50\n",
            "5/5 [==============================] - 1s 189ms/step - loss: 0.0693 - val_loss: 0.6857\n",
            "Epoch 17/50\n",
            "5/5 [==============================] - 1s 144ms/step - loss: 0.0584 - val_loss: 0.7236\n",
            "2/2 [==============================] - 0s 32ms/step\n",
            "1/1 [==============================] - 0s 61ms/step\n",
            "1/1 [==============================] - 0s 58ms/step\n"
          ]
        }
      ]
    },
    {
      "cell_type": "code",
      "source": [
        "# Menghitung average RMSE dari cross-validation\n",
        "mean_rmse = np.mean(rmses)\n",
        "mean_mae = np.mean(maes)\n",
        "print(f\"Average RMSE: {mean_rmse}\")\n",
        "print(f\"Average MAE: {mean_mae}\")"
      ],
      "metadata": {
        "colab": {
          "base_uri": "https://localhost:8080/"
        },
        "id": "Dmt0Ub0Aevsu",
        "outputId": "a125a7fd-29eb-424f-d6cc-9408cdd48df4"
      },
      "execution_count": 116,
      "outputs": [
        {
          "output_type": "stream",
          "name": "stdout",
          "text": [
            "Average RMSE: 0.33450753277186496\n",
            "Average MAE: 0.29304302849942565\n"
          ]
        }
      ]
    },
    {
      "cell_type": "code",
      "source": [
        "# Predictions untuk test data (X_test)\n",
        "y_pred_test = model.predict(X_test)\n",
        "y_pred_test = scaler.inverse_transform(y_pred_test)"
      ],
      "metadata": {
        "colab": {
          "base_uri": "https://localhost:8080/"
        },
        "id": "cGGsoq9nz9iK",
        "outputId": "1fea5909-188d-4a40-e8a3-4ca2b3319dbc"
      },
      "execution_count": 117,
      "outputs": [
        {
          "output_type": "stream",
          "name": "stdout",
          "text": [
            "2/2 [==============================] - 0s 29ms/step\n"
          ]
        }
      ]
    },
    {
      "cell_type": "code",
      "source": [
        "print(y_pred_test)"
      ],
      "metadata": {
        "colab": {
          "base_uri": "https://localhost:8080/"
        },
        "id": "VCJR7AfGkDMx",
        "outputId": "c6391cf7-1155-486d-e9a4-223cb59ca0f1"
      },
      "execution_count": 118,
      "outputs": [
        {
          "output_type": "stream",
          "name": "stdout",
          "text": [
            "[[184.30829]\n",
            " [183.65883]\n",
            " [183.05211]\n",
            " [182.53029]\n",
            " [182.08868]\n",
            " [181.77243]\n",
            " [181.5726 ]\n",
            " [181.47409]\n",
            " [181.41113]\n",
            " [181.34021]\n",
            " [181.2898 ]\n",
            " [181.22537]\n",
            " [181.14426]\n",
            " [181.0419 ]\n",
            " [180.93858]\n",
            " [180.85158]\n",
            " [180.76357]\n",
            " [180.67665]\n",
            " [180.55304]\n",
            " [180.41435]\n",
            " [180.26576]\n",
            " [180.0876 ]\n",
            " [179.87698]\n",
            " [179.64656]\n",
            " [179.38753]\n",
            " [179.14192]\n",
            " [178.85619]\n",
            " [178.54318]\n",
            " [178.22284]\n",
            " [177.9006 ]\n",
            " [177.63719]\n",
            " [177.3945 ]\n",
            " [177.20462]\n",
            " [177.0299 ]\n",
            " [176.89998]\n",
            " [176.81085]\n",
            " [176.77307]\n",
            " [176.75972]\n",
            " [176.85724]\n",
            " [176.92487]\n",
            " [176.95761]\n",
            " [176.97151]\n",
            " [176.97855]\n",
            " [176.96616]\n",
            " [176.88484]]\n"
          ]
        }
      ]
    },
    {
      "cell_type": "code",
      "source": [
        "# RMSE dan MAE dari test data\n",
        "rmse_test = sqrt(mean_squared_error(y_test, y_pred_test))\n",
        "mae_test = mean_absolute_error(y_test, y_pred_test)\n",
        "\n",
        "print(f\"RMSE for Test Data: {rmse_test}\")\n",
        "print(f\"MAE for Test Data: {mae_test}\")"
      ],
      "metadata": {
        "colab": {
          "base_uri": "https://localhost:8080/"
        },
        "id": "J8eb0Um3kJcQ",
        "outputId": "31955fa2-fa07-43ab-99f6-1c32a3857bdf"
      },
      "execution_count": 119,
      "outputs": [
        {
          "output_type": "stream",
          "name": "stdout",
          "text": [
            "RMSE for Test Data: 178.89187785669648\n",
            "MAE for Test Data: 178.8803624482461\n"
          ]
        }
      ]
    },
    {
      "cell_type": "code",
      "source": [
        "# forecasting\n",
        "forecast_days = 5\n",
        "X_forecast = np.copy(X_test[-1])\n",
        "\n",
        "forecasted_values = []\n",
        "\n",
        "for _ in range(forecast_days):\n",
        "    forecasted_value = model.predict(X_forecast.reshape(1, seq_length, 1))\n",
        "    forecasted_values.append(forecasted_value[0, 0])\n",
        "\n",
        "    X_forecast = np.roll(X_forecast, -1)\n",
        "    X_forecast[-1] = forecasted_value\n",
        "\n",
        "forecasted_values = scaler.inverse_transform(np.array(forecasted_values).reshape(-1, 1))"
      ],
      "metadata": {
        "colab": {
          "base_uri": "https://localhost:8080/"
        },
        "id": "v-RBPbiQ2QFG",
        "outputId": "1cb769cf-4c96-4694-f974-168c283dc711"
      },
      "execution_count": 120,
      "outputs": [
        {
          "output_type": "stream",
          "name": "stdout",
          "text": [
            "1/1 [==============================] - 0s 32ms/step\n",
            "1/1 [==============================] - 0s 35ms/step\n",
            "1/1 [==============================] - 0s 31ms/step\n",
            "1/1 [==============================] - 0s 35ms/step\n",
            "1/1 [==============================] - 0s 30ms/step\n"
          ]
        }
      ]
    },
    {
      "cell_type": "code",
      "source": [
        "print(forecasted_values)"
      ],
      "metadata": {
        "colab": {
          "base_uri": "https://localhost:8080/"
        },
        "id": "LhGSSGzSo3fT",
        "outputId": "cb14351c-37d8-4774-9df8-d7b1dca6bbc1"
      },
      "execution_count": 121,
      "outputs": [
        {
          "output_type": "stream",
          "name": "stdout",
          "text": [
            "[[176.88484]\n",
            " [176.78932]\n",
            " [176.6911 ]\n",
            " [176.59796]\n",
            " [176.56102]]\n"
          ]
        }
      ]
    },
    {
      "cell_type": "code",
      "source": [
        "# date range buat forecast\n",
        "last_date = df.index[-1]\n",
        "forecast_dates = pd.date_range(last_date, periods=forecast_days + 1)[1:]\n",
        "\n",
        "# date range buat test data\n",
        "test_dates = df.index[-len(y_pred_test):]"
      ],
      "metadata": {
        "id": "ks9abjVio6WE"
      },
      "execution_count": 122,
      "outputs": []
    },
    {
      "cell_type": "code",
      "source": [
        "# Plot dari original data, predicted test data, dan forecasted values\n",
        "plt.figure(figsize=(12, 6))\n",
        "plt.plot(df.index, df['Open'], label='Original Data')\n",
        "plt.plot(forecast_dates, forecasted_values, label='5-Day Forecast', linestyle='--', color='red')\n",
        "plt.plot(test_dates, y_pred_test, label='Predicted Test Data', linestyle='--', color='green') # Adding the predicted test data\n",
        "plt.title('Stock Price Forecast')\n",
        "plt.xlabel('Date')\n",
        "plt.ylabel('Stock Price')\n",
        "plt.legend()\n",
        "plt.show()"
      ],
      "metadata": {
        "colab": {
          "base_uri": "https://localhost:8080/",
          "height": 564
        },
        "id": "iPutYfCwpAFI",
        "outputId": "b270dfda-1083-4364-eb54-a6837618d5e6"
      },
      "execution_count": 123,
      "outputs": [
        {
          "output_type": "display_data",
          "data": {
            "text/plain": [
              "<Figure size 1200x600 with 1 Axes>"
            ],
            "image/png": "[encoded data removed]"
          },
          "metadata": {}
        }
      ]
    }
  ]
}