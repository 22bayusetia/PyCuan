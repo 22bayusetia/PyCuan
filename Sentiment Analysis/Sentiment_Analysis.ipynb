{
  "nbformat": 4,
  "nbformat_minor": 0,
  "metadata": {
    "colab": {
      "provenance": []
    },
    "kernelspec": {
      "name": "python3",
      "display_name": "Python 3"
    },
    "language_info": {
      "name": "python"
    }
  },
  "cells": [
    {
      "cell_type": "code",
      "execution_count": 1,
      "metadata": {
        "id": "tX8Yt7pYymNm"
      },
      "outputs": [],
      "source": [
        "# !pip install contractions\n",
        "\n",
        "import warnings\n",
        "warnings.filterwarnings('ignore')"
      ]
    },
    {
      "cell_type": "code",
      "source": [
        "import pandas as pd\n",
        "\n",
        "df = pd.read_csv('/content/financial_news_mt.csv', delimiter=',', encoding='latin-1', header=None)\n",
        "df = df.drop(0, axis=1)\n",
        "df = df.drop(0)\n",
        "df.info()"
      ],
      "metadata": {
        "id": "PHR-pIDnzMXV",
        "colab": {
          "base_uri": "https://localhost:8080/"
        },
        "outputId": "de3a265f-0a47-49db-d271-33da65525230"
      },
      "execution_count": 2,
      "outputs": [
        {
          "output_type": "stream",
          "name": "stdout",
          "text": [
            "<class 'pandas.core.frame.DataFrame'>\n",
            "RangeIndex: 1967 entries, 1 to 1967\n",
            "Data columns (total 3 columns):\n",
            " #   Column  Non-Null Count  Dtype \n",
            "---  ------  --------------  ----- \n",
            " 0   1       1967 non-null   object\n",
            " 1   2       1967 non-null   object\n",
            " 2   3       1967 non-null   object\n",
            "dtypes: object(3)\n",
            "memory usage: 46.2+ KB\n"
          ]
        }
      ]
    },
    {
      "cell_type": "code",
      "source": [
        "df.columns = ['label', 'en_text', 'id_text']\n",
        "df.head()"
      ],
      "metadata": {
        "id": "cr-zWDou4AIv",
        "colab": {
          "base_uri": "https://localhost:8080/",
          "height": 206
        },
        "outputId": "7be992be-1063-4ae6-a677-a033979bc6d2"
      },
      "execution_count": 3,
      "outputs": [
        {
          "output_type": "execute_result",
          "data": {
            "text/plain": [
              "      label                                            en_text  \\\n",
              "1  negative  The international electronic industry company ...   \n",
              "2  positive  With the new production plant the company woul...   \n",
              "3  positive  According to the company 's updated strategy f...   \n",
              "4  positive  FINANCING OF ASPOCOMP 'S GROWTH Aspocomp is ag...   \n",
              "5  positive  For the last quarter of 2010 , Componenta 's n...   \n",
              "\n",
              "                                             id_text  \n",
              "1  Perusahaan industri elektronik internasional E...  \n",
              "2  Dengan pabrik produksi baru, perusahaan akan m...  \n",
              "3  Sesuai dengan strategi terbaru perusahaan untu...  \n",
              "4  PEMBIAYAAN UNTUK PERTUMBUHAN ASPOCOMP Aspocomp...  \n",
              "5  Untuk kuartal terakhir tahun 2010, penjualan b...  "
            ],
            "text/html": [
              "\n",
              "  <div id=\"df-7fcf54e9-fa28-4943-b2b8-0a97317117e0\" class=\"colab-df-container\">\n",
              "    <div>\n",
              "<style scoped>\n",
              "    .dataframe tbody tr th:only-of-type {\n",
              "        vertical-align: middle;\n",
              "    }\n",
              "\n",
              "    .dataframe tbody tr th {\n",
              "        vertical-align: top;\n",
              "    }\n",
              "\n",
              "    .dataframe thead th {\n",
              "        text-align: right;\n",
              "    }\n",
              "</style>\n",
              "<table border=\"1\" class=\"dataframe\">\n",
              "  <thead>\n",
              "    <tr style=\"text-align: right;\">\n",
              "      <th></th>\n",
              "      <th>label</th>\n",
              "      <th>en_text</th>\n",
              "      <th>id_text</th>\n",
              "    </tr>\n",
              "  </thead>\n",
              "  <tbody>\n",
              "    <tr>\n",
              "      <th>1</th>\n",
              "      <td>negative</td>\n",
              "      <td>The international electronic industry company ...</td>\n",
              "      <td>Perusahaan industri elektronik internasional E...</td>\n",
              "    </tr>\n",
              "    <tr>\n",
              "      <th>2</th>\n",
              "      <td>positive</td>\n",
              "      <td>With the new production plant the company woul...</td>\n",
              "      <td>Dengan pabrik produksi baru, perusahaan akan m...</td>\n",
              "    </tr>\n",
              "    <tr>\n",
              "      <th>3</th>\n",
              "      <td>positive</td>\n",
              "      <td>According to the company 's updated strategy f...</td>\n",
              "      <td>Sesuai dengan strategi terbaru perusahaan untu...</td>\n",
              "    </tr>\n",
              "    <tr>\n",
              "      <th>4</th>\n",
              "      <td>positive</td>\n",
              "      <td>FINANCING OF ASPOCOMP 'S GROWTH Aspocomp is ag...</td>\n",
              "      <td>PEMBIAYAAN UNTUK PERTUMBUHAN ASPOCOMP Aspocomp...</td>\n",
              "    </tr>\n",
              "    <tr>\n",
              "      <th>5</th>\n",
              "      <td>positive</td>\n",
              "      <td>For the last quarter of 2010 , Componenta 's n...</td>\n",
              "      <td>Untuk kuartal terakhir tahun 2010, penjualan b...</td>\n",
              "    </tr>\n",
              "  </tbody>\n",
              "</table>\n",
              "</div>\n",
              "    <div class=\"colab-df-buttons\">\n",
              "\n",
              "  <div class=\"colab-df-container\">\n",
              "    <button class=\"colab-df-convert\" onclick=\"convertToInteractive('df-7fcf54e9-fa28-4943-b2b8-0a97317117e0')\"\n",
              "            title=\"Convert this dataframe to an interactive table.\"\n",
              "            style=\"display:none;\">\n",
              "\n",
              "  <svg xmlns=\"http://www.w3.org/2000/svg\" height=\"24px\" viewBox=\"0 -960 960 960\">\n",
              "    <path d=\"M120-120v-720h720v720H120Zm60-500h600v-160H180v160Zm220 220h160v-160H400v160Zm0 220h160v-160H400v160ZM180-400h160v-160H180v160Zm440 0h160v-160H620v160ZM180-180h160v-160H180v160Zm440 0h160v-160H620v160Z\"/>\n",
              "  </svg>\n",
              "    </button>\n",
              "\n",
              "  <style>\n",
              "    .colab-df-container {\n",
              "      display:flex;\n",
              "      gap: 12px;\n",
              "    }\n",
              "\n",
              "    .colab-df-convert {\n",
              "      background-color: #E8F0FE;\n",
              "      border: none;\n",
              "      border-radius: 50%;\n",
              "      cursor: pointer;\n",
              "      display: none;\n",
              "      fill: #1967D2;\n",
              "      height: 32px;\n",
              "      padding: 0 0 0 0;\n",
              "      width: 32px;\n",
              "    }\n",
              "\n",
              "    .colab-df-convert:hover {\n",
              "      background-color: #E2EBFA;\n",
              "      box-shadow: 0px 1px 2px rgba(60, 64, 67, 0.3), 0px 1px 3px 1px rgba(60, 64, 67, 0.15);\n",
              "      fill: #174EA6;\n",
              "    }\n",
              "\n",
              "    .colab-df-buttons div {\n",
              "      margin-bottom: 4px;\n",
              "    }\n",
              "\n",
              "    [theme=dark] .colab-df-convert {\n",
              "      background-color: #3B4455;\n",
              "      fill: #D2E3FC;\n",
              "    }\n",
              "\n",
              "    [theme=dark] .colab-df-convert:hover {\n",
              "      background-color: #434B5C;\n",
              "      box-shadow: 0px 1px 3px 1px rgba(0, 0, 0, 0.15);\n",
              "      filter: drop-shadow(0px 1px 2px rgba(0, 0, 0, 0.3));\n",
              "      fill: #FFFFFF;\n",
              "    }\n",
              "  </style>\n",
              "\n",
              "    <script>\n",
              "      const buttonEl =\n",
              "        document.querySelector('#df-7fcf54e9-fa28-4943-b2b8-0a97317117e0 button.colab-df-convert');\n",
              "      buttonEl.style.display =\n",
              "        google.colab.kernel.accessAllowed ? 'block' : 'none';\n",
              "\n",
              "      async function convertToInteractive(key) {\n",
              "        const element = document.querySelector('#df-7fcf54e9-fa28-4943-b2b8-0a97317117e0');\n",
              "        const dataTable =\n",
              "          await google.colab.kernel.invokeFunction('convertToInteractive',\n",
              "                                                    [key], {});\n",
              "        if (!dataTable) return;\n",
              "\n",
              "        const docLinkHtml = 'Like what you see? Visit the ' +\n",
              "          '<a target=\"_blank\" href=https://colab.research.google.com/notebooks/data_table.ipynb>data table notebook</a>'\n",
              "          + ' to learn more about interactive tables.';\n",
              "        element.innerHTML = '';\n",
              "        dataTable['output_type'] = 'display_data';\n",
              "        await google.colab.output.renderOutput(dataTable, element);\n",
              "        const docLink = document.createElement('div');\n",
              "        docLink.innerHTML = docLinkHtml;\n",
              "        element.appendChild(docLink);\n",
              "      }\n",
              "    </script>\n",
              "  </div>\n",
              "\n",
              "\n",
              "<div id=\"df-d2fa7651-00f0-4db7-a45b-827cdbba8a6d\">\n",
              "  <button class=\"colab-df-quickchart\" onclick=\"quickchart('df-d2fa7651-00f0-4db7-a45b-827cdbba8a6d')\"\n",
              "            title=\"Suggest charts.\"\n",
              "            style=\"display:none;\">\n",
              "\n",
              "<svg xmlns=\"http://www.w3.org/2000/svg\" height=\"24px\"viewBox=\"0 0 24 24\"\n",
              "     width=\"24px\">\n",
              "    <g>\n",
              "        <path d=\"M19 3H5c-1.1 0-2 .9-2 2v14c0 1.1.9 2 2 2h14c1.1 0 2-.9 2-2V5c0-1.1-.9-2-2-2zM9 17H7v-7h2v7zm4 0h-2V7h2v10zm4 0h-2v-4h2v4z\"/>\n",
              "    </g>\n",
              "</svg>\n",
              "  </button>\n",
              "\n",
              "<style>\n",
              "  .colab-df-quickchart {\n",
              "      --bg-color: #E8F0FE;\n",
              "      --fill-color: #1967D2;\n",
              "      --hover-bg-color: #E2EBFA;\n",
              "      --hover-fill-color: #174EA6;\n",
              "      --disabled-fill-color: #AAA;\n",
              "      --disabled-bg-color: #DDD;\n",
              "  }\n",
              "\n",
              "  [theme=dark] .colab-df-quickchart {\n",
              "      --bg-color: #3B4455;\n",
              "      --fill-color: #D2E3FC;\n",
              "      --hover-bg-color: #434B5C;\n",
              "      --hover-fill-color: #FFFFFF;\n",
              "      --disabled-bg-color: #3B4455;\n",
              "      --disabled-fill-color: #666;\n",
              "  }\n",
              "\n",
              "  .colab-df-quickchart {\n",
              "    background-color: var(--bg-color);\n",
              "    border: none;\n",
              "    border-radius: 50%;\n",
              "    cursor: pointer;\n",
              "    display: none;\n",
              "    fill: var(--fill-color);\n",
              "    height: 32px;\n",
              "    padding: 0;\n",
              "    width: 32px;\n",
              "  }\n",
              "\n",
              "  .colab-df-quickchart:hover {\n",
              "    background-color: var(--hover-bg-color);\n",
              "    box-shadow: 0 1px 2px rgba(60, 64, 67, 0.3), 0 1px 3px 1px rgba(60, 64, 67, 0.15);\n",
              "    fill: var(--button-hover-fill-color);\n",
              "  }\n",
              "\n",
              "  .colab-df-quickchart-complete:disabled,\n",
              "  .colab-df-quickchart-complete:disabled:hover {\n",
              "    background-color: var(--disabled-bg-color);\n",
              "    fill: var(--disabled-fill-color);\n",
              "    box-shadow: none;\n",
              "  }\n",
              "\n",
              "  .colab-df-spinner {\n",
              "    border: 2px solid var(--fill-color);\n",
              "    border-color: transparent;\n",
              "    border-bottom-color: var(--fill-color);\n",
              "    animation:\n",
              "      spin 1s steps(1) infinite;\n",
              "  }\n",
              "\n",
              "  @keyframes spin {\n",
              "    0% {\n",
              "      border-color: transparent;\n",
              "      border-bottom-color: var(--fill-color);\n",
              "      border-left-color: var(--fill-color);\n",
              "    }\n",
              "    20% {\n",
              "      border-color: transparent;\n",
              "      border-left-color: var(--fill-color);\n",
              "      border-top-color: var(--fill-color);\n",
              "    }\n",
              "    30% {\n",
              "      border-color: transparent;\n",
              "      border-left-color: var(--fill-color);\n",
              "      border-top-color: var(--fill-color);\n",
              "      border-right-color: var(--fill-color);\n",
              "    }\n",
              "    40% {\n",
              "      border-color: transparent;\n",
              "      border-right-color: var(--fill-color);\n",
              "      border-top-color: var(--fill-color);\n",
              "    }\n",
              "    60% {\n",
              "      border-color: transparent;\n",
              "      border-right-color: var(--fill-color);\n",
              "    }\n",
              "    80% {\n",
              "      border-color: transparent;\n",
              "      border-right-color: var(--fill-color);\n",
              "      border-bottom-color: var(--fill-color);\n",
              "    }\n",
              "    90% {\n",
              "      border-color: transparent;\n",
              "      border-bottom-color: var(--fill-color);\n",
              "    }\n",
              "  }\n",
              "</style>\n",
              "\n",
              "  <script>\n",
              "    async function quickchart(key) {\n",
              "      const quickchartButtonEl =\n",
              "        document.querySelector('#' + key + ' button');\n",
              "      quickchartButtonEl.disabled = true;  // To prevent multiple clicks.\n",
              "      quickchartButtonEl.classList.add('colab-df-spinner');\n",
              "      try {\n",
              "        const charts = await google.colab.kernel.invokeFunction(\n",
              "            'suggestCharts', [key], {});\n",
              "      } catch (error) {\n",
              "        console.error('Error during call to suggestCharts:', error);\n",
              "      }\n",
              "      quickchartButtonEl.classList.remove('colab-df-spinner');\n",
              "      quickchartButtonEl.classList.add('colab-df-quickchart-complete');\n",
              "    }\n",
              "    (() => {\n",
              "      let quickchartButtonEl =\n",
              "        document.querySelector('#df-d2fa7651-00f0-4db7-a45b-827cdbba8a6d button');\n",
              "      quickchartButtonEl.style.display =\n",
              "        google.colab.kernel.accessAllowed ? 'block' : 'none';\n",
              "    })();\n",
              "  </script>\n",
              "</div>\n",
              "    </div>\n",
              "  </div>\n"
            ]
          },
          "metadata": {},
          "execution_count": 3
        }
      ]
    },
    {
      "cell_type": "code",
      "source": [
        "import seaborn as sns\n",
        "import matplotlib.pyplot as plt\n",
        "\n",
        "# Membuat plot distribusi kolom 'label'\n",
        "plt.figure(figsize=(8, 6))\n",
        "sns.countplot(data=df, x='label')\n",
        "plt.xlabel('Label')\n",
        "plt.ylabel('Count')\n",
        "plt.title('Distribution of Labels')\n",
        "plt.show()"
      ],
      "metadata": {
        "colab": {
          "base_uri": "https://localhost:8080/",
          "height": 564
        },
        "id": "poLm6LV4ADvh",
        "outputId": "82017be7-8b85-49ff-fb29-c184d151e99b"
      },
      "execution_count": 4,
      "outputs": [
        {
          "output_type": "display_data",
          "data": {
            "text/plain": [
              "<Figure size 800x600 with 1 Axes>"
            ],
            "image/png": "[encoded data removed]"
          },
          "metadata": {}
        }
      ]
    },
    {
      "cell_type": "code",
      "source": [
        "from bs4 import BeautifulSoup\n",
        "import re\n",
        "import unicodedata\n",
        "import nltk\n",
        "nltk.download('stopwords')\n",
        "nltk.download('punkt')\n",
        "import contractions\n",
        "from nltk.tokenize import word_tokenize\n",
        "from nltk.corpus import stopwords\n",
        "\n",
        "def strip_html_tags(text):\n",
        "    soup = BeautifulSoup(text, \"html.parser\")\n",
        "    [s.extract() for s in soup(['iframe', 'script'])]\n",
        "    stripped_text = soup.get_text()\n",
        "    stripped_text = re.sub(r'[\\r|\\n|\\r\\n]+', '\\n', stripped_text)\n",
        "    return stripped_text\n",
        "\n",
        "def remove_accented_chars(text):\n",
        "    text = unicodedata.normalize('NFKD', text).encode('ascii', 'ignore').decode('utf-8', 'ignore')\n",
        "    return text\n",
        "\n",
        "indonesian_stopwords = set(stopwords.words('indonesian'))\n",
        "\n",
        "def stopwords_removal(words, language):\n",
        "    if language == 'english':\n",
        "        list_stopwords = nltk.corpus.stopwords.words('english')\n",
        "    elif language == 'indonesian':\n",
        "        list_stopwords = indonesian_stopwords\n",
        "    return [word for word in words if word not in list_stopwords]\n",
        "\n",
        "\n",
        "def pre_process_text(text, language):\n",
        "    # Case folding\n",
        "    text = text.lower()\n",
        "    # Remove special characters and whitespaces\n",
        "    text = strip_html_tags(text)\n",
        "    text = text.translate(text.maketrans(\"\\n\\t\\r\", \"   \"))\n",
        "    text = remove_accented_chars(text)\n",
        "    text = contractions.fix(text)\n",
        "    text = re.sub(r'[^a-zA-Z0-9\\s]', '', text, re.I | re.A)\n",
        "    text = re.sub(' +', ' ', text)\n",
        "    text = text.strip()\n",
        "    # Tokenize\n",
        "    text = word_tokenize(text)\n",
        "    # Filtering\n",
        "    text = stopwords_removal(text, language)\n",
        "    return \" \".join(text)\n",
        "\n"
      ],
      "metadata": {
        "id": "SYmq8zVjJuXJ",
        "colab": {
          "base_uri": "https://localhost:8080/"
        },
        "outputId": "473a8394-16ec-4786-be02-77dc92d2606f"
      },
      "execution_count": 5,
      "outputs": [
        {
          "output_type": "stream",
          "name": "stderr",
          "text": [
            "[nltk_data] Downloading package stopwords to /root/nltk_data...\n",
            "[nltk_data]   Package stopwords is already up-to-date!\n",
            "[nltk_data] Downloading package punkt to /root/nltk_data...\n",
            "[nltk_data]   Package punkt is already up-to-date!\n"
          ]
        }
      ]
    },
    {
      "cell_type": "code",
      "source": [
        "df['en_text'] = df['en_text'].apply(lambda x: pre_process_text(x, 'english'))\n",
        "df['id_text'] = df['id_text'].apply(lambda x: pre_process_text(x, 'indonesian'))"
      ],
      "metadata": {
        "id": "5Q3J-Y8IKJRO"
      },
      "execution_count": 6,
      "outputs": []
    },
    {
      "cell_type": "code",
      "source": [
        "df.head()"
      ],
      "metadata": {
        "colab": {
          "base_uri": "https://localhost:8080/",
          "height": 206
        },
        "id": "ZmZzNwAcMElC",
        "outputId": "1b53fbd8-7825-4bc3-d903-a174e143cd90"
      },
      "execution_count": 7,
      "outputs": [
        {
          "output_type": "execute_result",
          "data": {
            "text/plain": [
              "      label                                            en_text  \\\n",
              "1  negative  international electronic industry company elco...   \n",
              "2  positive  new production plant company would increase ca...   \n",
              "3  positive  according company updated strategy years 20092...   \n",
              "4  positive  financing aspocomp growth aspocomp aggressivel...   \n",
              "5  positive  last quarter 2010 componenta net sales doubled...   \n",
              "\n",
              "                                             id_text  \n",
              "1  perusahaan industri elektronik internasional e...  \n",
              "2  pabrik produksi perusahaan meningkatkan kapasi...  \n",
              "3  sesuai strategi terbaru perusahaan 20092012 ba...  \n",
              "4  pembiayaan pertumbuhan aspocomp aspocomp agres...  \n",
              "5  kuartal 2010 penjualan bersih componenta berli...  "
            ],
            "text/html": [
              "\n",
              "  <div id=\"df-81572047-b646-42c4-9660-5a1dd04dd820\" class=\"colab-df-container\">\n",
              "    <div>\n",
              "<style scoped>\n",
              "    .dataframe tbody tr th:only-of-type {\n",
              "        vertical-align: middle;\n",
              "    }\n",
              "\n",
              "    .dataframe tbody tr th {\n",
              "        vertical-align: top;\n",
              "    }\n",
              "\n",
              "    .dataframe thead th {\n",
              "        text-align: right;\n",
              "    }\n",
              "</style>\n",
              "<table border=\"1\" class=\"dataframe\">\n",
              "  <thead>\n",
              "    <tr style=\"text-align: right;\">\n",
              "      <th></th>\n",
              "      <th>label</th>\n",
              "      <th>en_text</th>\n",
              "      <th>id_text</th>\n",
              "    </tr>\n",
              "  </thead>\n",
              "  <tbody>\n",
              "    <tr>\n",
              "      <th>1</th>\n",
              "      <td>negative</td>\n",
              "      <td>international electronic industry company elco...</td>\n",
              "      <td>perusahaan industri elektronik internasional e...</td>\n",
              "    </tr>\n",
              "    <tr>\n",
              "      <th>2</th>\n",
              "      <td>positive</td>\n",
              "      <td>new production plant company would increase ca...</td>\n",
              "      <td>pabrik produksi perusahaan meningkatkan kapasi...</td>\n",
              "    </tr>\n",
              "    <tr>\n",
              "      <th>3</th>\n",
              "      <td>positive</td>\n",
              "      <td>according company updated strategy years 20092...</td>\n",
              "      <td>sesuai strategi terbaru perusahaan 20092012 ba...</td>\n",
              "    </tr>\n",
              "    <tr>\n",
              "      <th>4</th>\n",
              "      <td>positive</td>\n",
              "      <td>financing aspocomp growth aspocomp aggressivel...</td>\n",
              "      <td>pembiayaan pertumbuhan aspocomp aspocomp agres...</td>\n",
              "    </tr>\n",
              "    <tr>\n",
              "      <th>5</th>\n",
              "      <td>positive</td>\n",
              "      <td>last quarter 2010 componenta net sales doubled...</td>\n",
              "      <td>kuartal 2010 penjualan bersih componenta berli...</td>\n",
              "    </tr>\n",
              "  </tbody>\n",
              "</table>\n",
              "</div>\n",
              "    <div class=\"colab-df-buttons\">\n",
              "\n",
              "  <div class=\"colab-df-container\">\n",
              "    <button class=\"colab-df-convert\" onclick=\"convertToInteractive('df-81572047-b646-42c4-9660-5a1dd04dd820')\"\n",
              "            title=\"Convert this dataframe to an interactive table.\"\n",
              "            style=\"display:none;\">\n",
              "\n",
              "  <svg xmlns=\"http://www.w3.org/2000/svg\" height=\"24px\" viewBox=\"0 -960 960 960\">\n",
              "    <path d=\"M120-120v-720h720v720H120Zm60-500h600v-160H180v160Zm220 220h160v-160H400v160Zm0 220h160v-160H400v160ZM180-400h160v-160H180v160Zm440 0h160v-160H620v160ZM180-180h160v-160H180v160Zm440 0h160v-160H620v160Z\"/>\n",
              "  </svg>\n",
              "    </button>\n",
              "\n",
              "  <style>\n",
              "    .colab-df-container {\n",
              "      display:flex;\n",
              "      gap: 12px;\n",
              "    }\n",
              "\n",
              "    .colab-df-convert {\n",
              "      background-color: #E8F0FE;\n",
              "      border: none;\n",
              "      border-radius: 50%;\n",
              "      cursor: pointer;\n",
              "      display: none;\n",
              "      fill: #1967D2;\n",
              "      height: 32px;\n",
              "      padding: 0 0 0 0;\n",
              "      width: 32px;\n",
              "    }\n",
              "\n",
              "    .colab-df-convert:hover {\n",
              "      background-color: #E2EBFA;\n",
              "      box-shadow: 0px 1px 2px rgba(60, 64, 67, 0.3), 0px 1px 3px 1px rgba(60, 64, 67, 0.15);\n",
              "      fill: #174EA6;\n",
              "    }\n",
              "\n",
              "    .colab-df-buttons div {\n",
              "      margin-bottom: 4px;\n",
              "    }\n",
              "\n",
              "    [theme=dark] .colab-df-convert {\n",
              "      background-color: #3B4455;\n",
              "      fill: #D2E3FC;\n",
              "    }\n",
              "\n",
              "    [theme=dark] .colab-df-convert:hover {\n",
              "      background-color: #434B5C;\n",
              "      box-shadow: 0px 1px 3px 1px rgba(0, 0, 0, 0.15);\n",
              "      filter: drop-shadow(0px 1px 2px rgba(0, 0, 0, 0.3));\n",
              "      fill: #FFFFFF;\n",
              "    }\n",
              "  </style>\n",
              "\n",
              "    <script>\n",
              "      const buttonEl =\n",
              "        document.querySelector('#df-81572047-b646-42c4-9660-5a1dd04dd820 button.colab-df-convert');\n",
              "      buttonEl.style.display =\n",
              "        google.colab.kernel.accessAllowed ? 'block' : 'none';\n",
              "\n",
              "      async function convertToInteractive(key) {\n",
              "        const element = document.querySelector('#df-81572047-b646-42c4-9660-5a1dd04dd820');\n",
              "        const dataTable =\n",
              "          await google.colab.kernel.invokeFunction('convertToInteractive',\n",
              "                                                    [key], {});\n",
              "        if (!dataTable) return;\n",
              "\n",
              "        const docLinkHtml = 'Like what you see? Visit the ' +\n",
              "          '<a target=\"_blank\" href=https://colab.research.google.com/notebooks/data_table.ipynb>data table notebook</a>'\n",
              "          + ' to learn more about interactive tables.';\n",
              "        element.innerHTML = '';\n",
              "        dataTable['output_type'] = 'display_data';\n",
              "        await google.colab.output.renderOutput(dataTable, element);\n",
              "        const docLink = document.createElement('div');\n",
              "        docLink.innerHTML = docLinkHtml;\n",
              "        element.appendChild(docLink);\n",
              "      }\n",
              "    </script>\n",
              "  </div>\n",
              "\n",
              "\n",
              "<div id=\"df-228a1e20-cff9-44f6-9a89-37194375f536\">\n",
              "  <button class=\"colab-df-quickchart\" onclick=\"quickchart('df-228a1e20-cff9-44f6-9a89-37194375f536')\"\n",
              "            title=\"Suggest charts.\"\n",
              "            style=\"display:none;\">\n",
              "\n",
              "<svg xmlns=\"http://www.w3.org/2000/svg\" height=\"24px\"viewBox=\"0 0 24 24\"\n",
              "     width=\"24px\">\n",
              "    <g>\n",
              "        <path d=\"M19 3H5c-1.1 0-2 .9-2 2v14c0 1.1.9 2 2 2h14c1.1 0 2-.9 2-2V5c0-1.1-.9-2-2-2zM9 17H7v-7h2v7zm4 0h-2V7h2v10zm4 0h-2v-4h2v4z\"/>\n",
              "    </g>\n",
              "</svg>\n",
              "  </button>\n",
              "\n",
              "<style>\n",
              "  .colab-df-quickchart {\n",
              "      --bg-color: #E8F0FE;\n",
              "      --fill-color: #1967D2;\n",
              "      --hover-bg-color: #E2EBFA;\n",
              "      --hover-fill-color: #174EA6;\n",
              "      --disabled-fill-color: #AAA;\n",
              "      --disabled-bg-color: #DDD;\n",
              "  }\n",
              "\n",
              "  [theme=dark] .colab-df-quickchart {\n",
              "      --bg-color: #3B4455;\n",
              "      --fill-color: #D2E3FC;\n",
              "      --hover-bg-color: #434B5C;\n",
              "      --hover-fill-color: #FFFFFF;\n",
              "      --disabled-bg-color: #3B4455;\n",
              "      --disabled-fill-color: #666;\n",
              "  }\n",
              "\n",
              "  .colab-df-quickchart {\n",
              "    background-color: var(--bg-color);\n",
              "    border: none;\n",
              "    border-radius: 50%;\n",
              "    cursor: pointer;\n",
              "    display: none;\n",
              "    fill: var(--fill-color);\n",
              "    height: 32px;\n",
              "    padding: 0;\n",
              "    width: 32px;\n",
              "  }\n",
              "\n",
              "  .colab-df-quickchart:hover {\n",
              "    background-color: var(--hover-bg-color);\n",
              "    box-shadow: 0 1px 2px rgba(60, 64, 67, 0.3), 0 1px 3px 1px rgba(60, 64, 67, 0.15);\n",
              "    fill: var(--button-hover-fill-color);\n",
              "  }\n",
              "\n",
              "  .colab-df-quickchart-complete:disabled,\n",
              "  .colab-df-quickchart-complete:disabled:hover {\n",
              "    background-color: var(--disabled-bg-color);\n",
              "    fill: var(--disabled-fill-color);\n",
              "    box-shadow: none;\n",
              "  }\n",
              "\n",
              "  .colab-df-spinner {\n",
              "    border: 2px solid var(--fill-color);\n",
              "    border-color: transparent;\n",
              "    border-bottom-color: var(--fill-color);\n",
              "    animation:\n",
              "      spin 1s steps(1) infinite;\n",
              "  }\n",
              "\n",
              "  @keyframes spin {\n",
              "    0% {\n",
              "      border-color: transparent;\n",
              "      border-bottom-color: var(--fill-color);\n",
              "      border-left-color: var(--fill-color);\n",
              "    }\n",
              "    20% {\n",
              "      border-color: transparent;\n",
              "      border-left-color: var(--fill-color);\n",
              "      border-top-color: var(--fill-color);\n",
              "    }\n",
              "    30% {\n",
              "      border-color: transparent;\n",
              "      border-left-color: var(--fill-color);\n",
              "      border-top-color: var(--fill-color);\n",
              "      border-right-color: var(--fill-color);\n",
              "    }\n",
              "    40% {\n",
              "      border-color: transparent;\n",
              "      border-right-color: var(--fill-color);\n",
              "      border-top-color: var(--fill-color);\n",
              "    }\n",
              "    60% {\n",
              "      border-color: transparent;\n",
              "      border-right-color: var(--fill-color);\n",
              "    }\n",
              "    80% {\n",
              "      border-color: transparent;\n",
              "      border-right-color: var(--fill-color);\n",
              "      border-bottom-color: var(--fill-color);\n",
              "    }\n",
              "    90% {\n",
              "      border-color: transparent;\n",
              "      border-bottom-color: var(--fill-color);\n",
              "    }\n",
              "  }\n",
              "</style>\n",
              "\n",
              "  <script>\n",
              "    async function quickchart(key) {\n",
              "      const quickchartButtonEl =\n",
              "        document.querySelector('#' + key + ' button');\n",
              "      quickchartButtonEl.disabled = true;  // To prevent multiple clicks.\n",
              "      quickchartButtonEl.classList.add('colab-df-spinner');\n",
              "      try {\n",
              "        const charts = await google.colab.kernel.invokeFunction(\n",
              "            'suggestCharts', [key], {});\n",
              "      } catch (error) {\n",
              "        console.error('Error during call to suggestCharts:', error);\n",
              "      }\n",
              "      quickchartButtonEl.classList.remove('colab-df-spinner');\n",
              "      quickchartButtonEl.classList.add('colab-df-quickchart-complete');\n",
              "    }\n",
              "    (() => {\n",
              "      let quickchartButtonEl =\n",
              "        document.querySelector('#df-228a1e20-cff9-44f6-9a89-37194375f536 button');\n",
              "      quickchartButtonEl.style.display =\n",
              "        google.colab.kernel.accessAllowed ? 'block' : 'none';\n",
              "    })();\n",
              "  </script>\n",
              "</div>\n",
              "    </div>\n",
              "  </div>\n"
            ]
          },
          "metadata": {},
          "execution_count": 7
        }
      ]
    },
    {
      "cell_type": "code",
      "source": [
        "from sklearn.utils import resample\n",
        "\n",
        "data_majority = df[df['label'] == \"positive\"]\n",
        "data_minority = df[df['label'] == \"negative\"]\n",
        "\n",
        "print(\"majority class before upsample:\",data_majority.shape)\n",
        "print(\"minority class before upsample:\",data_minority.shape)\n",
        "\n",
        "\n",
        "data_minority_upsampled = resample(data_minority,\n",
        "                                 replace=True,\n",
        "                                 n_samples= data_majority.shape[0],\n",
        "                                 random_state=123)\n",
        "\n",
        "df_balance = pd.concat([data_majority, data_minority_upsampled])\n",
        "\n",
        "print(\"After upsampling\\n\",df_balance.label.value_counts(),sep = \"\")"
      ],
      "metadata": {
        "colab": {
          "base_uri": "https://localhost:8080/"
        },
        "id": "e33yAAnJQhLH",
        "outputId": "415ae425-1e6c-4c5a-8436-245b0f7511cf"
      },
      "execution_count": 8,
      "outputs": [
        {
          "output_type": "stream",
          "name": "stdout",
          "text": [
            "majority class before upsample: (1363, 3)\n",
            "minority class before upsample: (604, 3)\n",
            "After upsampling\n",
            "positive    1363\n",
            "negative    1363\n",
            "Name: label, dtype: int64\n"
          ]
        }
      ]
    },
    {
      "cell_type": "code",
      "source": [
        "# Data Splitting\n",
        "from sklearn.model_selection import train_test_split\n",
        "\n",
        "X_train, X_test, y_train, y_test = train_test_split(df.en_text, df.label, test_size=0.2, random_state=42)\n",
        "X_train.shape , X_test.shape, y_train.shape, y_test.shape"
      ],
      "metadata": {
        "colab": {
          "base_uri": "https://localhost:8080/"
        },
        "id": "l1WgqldSQuyC",
        "outputId": "a4e9805c-6977-4a75-e1ce-e776ede47c8d"
      },
      "execution_count": 9,
      "outputs": [
        {
          "output_type": "execute_result",
          "data": {
            "text/plain": [
              "((1573,), (394,), (1573,), (394,))"
            ]
          },
          "metadata": {},
          "execution_count": 9
        }
      ]
    },
    {
      "cell_type": "code",
      "source": [
        "# Tokenizer\n",
        "from tensorflow.keras.preprocessing.text import Tokenizer\n",
        "\n",
        "token = Tokenizer()\n",
        "token.fit_on_texts(X_train)"
      ],
      "metadata": {
        "id": "sZHIsmEjRUCZ"
      },
      "execution_count": 10,
      "outputs": []
    },
    {
      "cell_type": "code",
      "source": [
        "vocab = len(token.index_word) + 1\n",
        "print(\"Vocabulary size={}\".format(len(token.word_index)))\n",
        "print(\"Number of Documents={}\".format(token.document_count))"
      ],
      "metadata": {
        "colab": {
          "base_uri": "https://localhost:8080/"
        },
        "id": "sYDlytWdRh_b",
        "outputId": "d9c8a4a8-a72c-4c82-a213-7eef401eb536"
      },
      "execution_count": 11,
      "outputs": [
        {
          "output_type": "stream",
          "name": "stdout",
          "text": [
            "Vocabulary size=5350\n",
            "Number of Documents=1573\n"
          ]
        }
      ]
    },
    {
      "cell_type": "code",
      "source": [
        "X_train = token.texts_to_sequences(X_train)\n",
        "X_test = token.texts_to_sequences(X_test)"
      ],
      "metadata": {
        "id": "KLrTqhwtRnAm"
      },
      "execution_count": 12,
      "outputs": []
    },
    {
      "cell_type": "code",
      "source": [
        "%matplotlib inline\n",
        "\n",
        "train_lens = [len(s) for s in X_train]\n",
        "test_lens = [len(s) for s in X_test]\n",
        "\n",
        "fig, ax = plt.subplots(1,2, figsize=(12, 6))\n",
        "h1 = ax[0].hist(train_lens)\n",
        "h2 = ax[1].hist(test_lens)"
      ],
      "metadata": {
        "colab": {
          "base_uri": "https://localhost:8080/",
          "height": 522
        },
        "id": "f2FgjTh6RoAG",
        "outputId": "d5a3fe4a-46e3-4e1a-95b6-58884fb73b38"
      },
      "execution_count": 13,
      "outputs": [
        {
          "output_type": "display_data",
          "data": {
            "text/plain": [
              "<Figure size 1200x600 with 2 Axes>"
            ],
            "image/png": "[encoded data removed]"
          },
          "metadata": {}
        }
      ]
    },
    {
      "cell_type": "code",
      "source": [
        "from tensorflow.keras.preprocessing.sequence import pad_sequences\n",
        "\n",
        "#padding\n",
        "MAX_SEQUENCE_LENGTH = 30\n",
        "X_train = pad_sequences(X_train, maxlen=MAX_SEQUENCE_LENGTH, padding=\"post\")\n",
        "X_test = pad_sequences(X_test, maxlen=MAX_SEQUENCE_LENGTH, padding=\"post\")\n",
        "X_train.shape, X_test.shape"
      ],
      "metadata": {
        "colab": {
          "base_uri": "https://localhost:8080/"
        },
        "id": "2y_Bnti2rdx3",
        "outputId": "5d09a1c2-c83a-49b6-af74-37996db9a9e0"
      },
      "execution_count": 14,
      "outputs": [
        {
          "output_type": "execute_result",
          "data": {
            "text/plain": [
              "((1573, 30), (394, 30))"
            ]
          },
          "metadata": {},
          "execution_count": 14
        }
      ]
    },
    {
      "cell_type": "code",
      "source": [
        "from sklearn.preprocessing import LabelEncoder\n",
        "\n",
        "le = LabelEncoder()\n",
        "num_classes=2"
      ],
      "metadata": {
        "id": "ikmFMnkIn3s6"
      },
      "execution_count": 15,
      "outputs": []
    },
    {
      "cell_type": "code",
      "source": [
        "y_train = le.fit_transform(y_train)\n",
        "y_test = le.transform(y_test)"
      ],
      "metadata": {
        "id": "G_kZ2345o0K2"
      },
      "execution_count": 16,
      "outputs": []
    },
    {
      "cell_type": "code",
      "source": [
        "#  Modelling\n",
        "\n",
        "import tensorflow as tf\n",
        "\n",
        "from tensorflow.keras.models import Sequential\n",
        "from tensorflow.keras.layers import Dense, Embedding, Activation, Dropout\n",
        "from tensorflow.keras.layers import Conv1D, MaxPooling1D, GlobalMaxPooling1D\n",
        "\n",
        "vector_size = 300\n",
        "model = Sequential()\n",
        "model.add(Embedding(vocab, vector_size, input_length=MAX_SEQUENCE_LENGTH))\n",
        "model.add(Conv1D(64,8, activation=\"relu\"))\n",
        "model.add(MaxPooling1D(2))\n",
        "model.add(Dropout(0.1))\n",
        "\n",
        "model.add(Dense(8, activation=\"relu\"))\n",
        "model.add(Dropout(0.1))\n",
        "model.add(Dense(4, activation=\"relu\"))\n",
        "model.add(Dropout(0.1))\n",
        "model.add(GlobalMaxPooling1D())\n",
        "model.add(Dense(1, activation='sigmoid'))\n",
        "\n",
        "model.compile(loss='binary_crossentropy', optimizer=tf.optimizers.Adam(learning_rate=0.0001), metrics=['accuracy'])\n",
        "model.summary()"
      ],
      "metadata": {
        "colab": {
          "base_uri": "https://localhost:8080/"
        },
        "id": "CLwNvnN0pA9n",
        "outputId": "9358c465-4112-4b60-df69-223a59a50eba"
      },
      "execution_count": 17,
      "outputs": [
        {
          "output_type": "stream",
          "name": "stdout",
          "text": [
            "Model: \"sequential\"\n",
            "_________________________________________________________________\n",
            " Layer (type)                Output Shape              Param #   \n",
            "=================================================================\n",
            " embedding (Embedding)       (None, 30, 300)           1605300   \n",
            "                                                                 \n",
            " conv1d (Conv1D)             (None, 23, 64)            153664    \n",
            "                                                                 \n",
            " max_pooling1d (MaxPooling1  (None, 11, 64)            0         \n",
            " D)                                                              \n",
            "                                                                 \n",
            " dropout (Dropout)           (None, 11, 64)            0         \n",
            "                                                                 \n",
            " dense (Dense)               (None, 11, 8)             520       \n",
            "                                                                 \n",
            " dropout_1 (Dropout)         (None, 11, 8)             0         \n",
            "                                                                 \n",
            " dense_1 (Dense)             (None, 11, 4)             36        \n",
            "                                                                 \n",
            " dropout_2 (Dropout)         (None, 11, 4)             0         \n",
            "                                                                 \n",
            " global_max_pooling1d (Glob  (None, 4)                 0         \n",
            " alMaxPooling1D)                                                 \n",
            "                                                                 \n",
            " dense_2 (Dense)             (None, 1)                 5         \n",
            "                                                                 \n",
            "=================================================================\n",
            "Total params: 1759525 (6.71 MB)\n",
            "Trainable params: 1759525 (6.71 MB)\n",
            "Non-trainable params: 0 (0.00 Byte)\n",
            "_________________________________________________________________\n"
          ]
        }
      ]
    },
    {
      "cell_type": "code",
      "source": [
        "from random import shuffle\n",
        "#  tarining,\n",
        "from keras.callbacks import EarlyStopping\n",
        "from keras.callbacks import ModelCheckpoint\n",
        "\n",
        "epochs = 100\n",
        "batch_size = 4\n",
        "\n",
        "es = EarlyStopping(monitor='val_loss', mode='min', verbose=1, patience=5)\n",
        "mc = ModelCheckpoint('./best_model_cnn1d', monitor='val_accuracy', mode = 'max', verbose=1, save_best_only=True)\n",
        "history = model.fit(X_train, y_train, batch_size=batch_size, shuffle=True, validation_split=0.1, epochs=epochs, verbose=1, callbacks=[es, mc])"
      ],
      "metadata": {
        "colab": {
          "base_uri": "https://localhost:8080/"
        },
        "id": "F1R2qXvistOF",
        "outputId": "e9a49403-1b2a-4ad1-bc6c-74c82039c54e"
      },
      "execution_count": 18,
      "outputs": [
        {
          "output_type": "stream",
          "name": "stdout",
          "text": [
            "Epoch 1/100\n",
            "353/354 [============================>.] - ETA: 0s - loss: 0.6922 - accuracy: 0.5744\n",
            "Epoch 1: val_accuracy improved from -inf to 0.74051, saving model to ./best_model_cnn1d\n",
            "354/354 [==============================] - 25s 57ms/step - loss: 0.6923 - accuracy: 0.5739 - val_loss: 0.6804 - val_accuracy: 0.7405\n",
            "Epoch 2/100\n",
            "352/354 [============================>.] - ETA: 0s - loss: 0.6757 - accuracy: 0.7060\n",
            "Epoch 2: val_accuracy improved from 0.74051 to 0.74684, saving model to ./best_model_cnn1d\n",
            "354/354 [==============================] - 11s 32ms/step - loss: 0.6757 - accuracy: 0.7053 - val_loss: 0.6670 - val_accuracy: 0.7468\n",
            "Epoch 3/100\n",
            "354/354 [==============================] - ETA: 0s - loss: 0.6565 - accuracy: 0.7357\n",
            "Epoch 3: val_accuracy did not improve from 0.74684\n",
            "354/354 [==============================] - 10s 28ms/step - loss: 0.6565 - accuracy: 0.7357 - val_loss: 0.6468 - val_accuracy: 0.7468\n",
            "Epoch 4/100\n",
            "354/354 [==============================] - ETA: 0s - loss: 0.6184 - accuracy: 0.7314\n",
            "Epoch 4: val_accuracy did not improve from 0.74684\n",
            "354/354 [==============================] - 10s 29ms/step - loss: 0.6184 - accuracy: 0.7314 - val_loss: 0.6066 - val_accuracy: 0.7405\n",
            "Epoch 5/100\n",
            "353/354 [============================>.] - ETA: 0s - loss: 0.5605 - accuracy: 0.7691\n",
            "Epoch 5: val_accuracy improved from 0.74684 to 0.76582, saving model to ./best_model_cnn1d\n",
            "354/354 [==============================] - 11s 32ms/step - loss: 0.5605 - accuracy: 0.7689 - val_loss: 0.5764 - val_accuracy: 0.7658\n",
            "Epoch 6/100\n",
            "354/354 [==============================] - ETA: 0s - loss: 0.4672 - accuracy: 0.8311\n",
            "Epoch 6: val_accuracy improved from 0.76582 to 0.77215, saving model to ./best_model_cnn1d\n",
            "354/354 [==============================] - 11s 32ms/step - loss: 0.4672 - accuracy: 0.8311 - val_loss: 0.5443 - val_accuracy: 0.7722\n",
            "Epoch 7/100\n",
            "352/354 [============================>.] - ETA: 0s - loss: 0.3551 - accuracy: 0.8963\n",
            "Epoch 7: val_accuracy improved from 0.77215 to 0.78481, saving model to ./best_model_cnn1d\n",
            "354/354 [==============================] - 11s 31ms/step - loss: 0.3548 - accuracy: 0.8961 - val_loss: 0.5107 - val_accuracy: 0.7848\n",
            "Epoch 8/100\n",
            "354/354 [==============================] - ETA: 0s - loss: 0.2590 - accuracy: 0.9336\n",
            "Epoch 8: val_accuracy improved from 0.78481 to 0.80380, saving model to ./best_model_cnn1d\n",
            "354/354 [==============================] - 11s 31ms/step - loss: 0.2590 - accuracy: 0.9336 - val_loss: 0.4847 - val_accuracy: 0.8038\n",
            "Epoch 9/100\n",
            "353/354 [============================>.] - ETA: 0s - loss: 0.1840 - accuracy: 0.9568\n",
            "Epoch 9: val_accuracy did not improve from 0.80380\n",
            "354/354 [==============================] - 10s 28ms/step - loss: 0.1837 - accuracy: 0.9569 - val_loss: 0.4823 - val_accuracy: 0.7911\n",
            "Epoch 10/100\n",
            "354/354 [==============================] - ETA: 0s - loss: 0.1422 - accuracy: 0.9689\n",
            "Epoch 10: val_accuracy did not improve from 0.80380\n",
            "354/354 [==============================] - 12s 33ms/step - loss: 0.1422 - accuracy: 0.9689 - val_loss: 0.4831 - val_accuracy: 0.7911\n",
            "Epoch 11/100\n",
            "354/354 [==============================] - ETA: 0s - loss: 0.1209 - accuracy: 0.9746\n",
            "Epoch 11: val_accuracy did not improve from 0.80380\n",
            "354/354 [==============================] - 10s 29ms/step - loss: 0.1209 - accuracy: 0.9746 - val_loss: 0.4885 - val_accuracy: 0.8038\n",
            "Epoch 12/100\n",
            "353/354 [============================>.] - ETA: 0s - loss: 0.1035 - accuracy: 0.9823\n",
            "Epoch 12: val_accuracy improved from 0.80380 to 0.82278, saving model to ./best_model_cnn1d\n",
            "354/354 [==============================] - 12s 33ms/step - loss: 0.1033 - accuracy: 0.9823 - val_loss: 0.4894 - val_accuracy: 0.8228\n",
            "Epoch 13/100\n",
            "354/354 [==============================] - ETA: 0s - loss: 0.0849 - accuracy: 0.9845\n",
            "Epoch 13: val_accuracy did not improve from 0.82278\n",
            "354/354 [==============================] - 10s 30ms/step - loss: 0.0849 - accuracy: 0.9845 - val_loss: 0.4868 - val_accuracy: 0.8038\n",
            "Epoch 14/100\n",
            "353/354 [============================>.] - ETA: 0s - loss: 0.0705 - accuracy: 0.9873\n",
            "Epoch 14: val_accuracy did not improve from 0.82278\n",
            "354/354 [==============================] - 10s 27ms/step - loss: 0.0705 - accuracy: 0.9873 - val_loss: 0.5023 - val_accuracy: 0.8228\n",
            "Epoch 14: early stopping\n"
          ]
        }
      ]
    },
    {
      "cell_type": "code",
      "source": [
        "# Evaluation\n",
        "\n",
        "from keras.models import load_model\n",
        "\n",
        "saved_model = load_model('./best_model_cnn1d')\n",
        "train_acc = saved_model.evaluate(X_train, y_train, verbose=1)\n",
        "test_acc = saved_model.evaluate(X_test, y_test, verbose=1)\n",
        "print('Train: %.2f%%, Test: %.2f%%' % (train_acc[1]*100, test_acc[1]*100))"
      ],
      "metadata": {
        "colab": {
          "base_uri": "https://localhost:8080/"
        },
        "id": "phVFYLRBuaQl",
        "outputId": "e3f1b47c-8fb8-4d14-fd6d-63e63ed98d7a"
      },
      "execution_count": 19,
      "outputs": [
        {
          "output_type": "stream",
          "name": "stdout",
          "text": [
            "50/50 [==============================] - 1s 7ms/step - loss: 0.1328 - accuracy: 0.9714\n",
            "13/13 [==============================] - 0s 7ms/step - loss: 0.4964 - accuracy: 0.7919\n",
            "Train: 97.14%, Test: 79.19%\n"
          ]
        }
      ]
    },
    {
      "cell_type": "code",
      "source": [
        "# Identifikasi Overfitting\n",
        "plt.plot(history.history['accuracy'])\n",
        "plt.plot(history.history['val_accuracy'])\n",
        "plt.title('model accuracy')\n",
        "plt.ylabel('accuracy')\n",
        "plt.xlabel('epoch')\n",
        "plt.legend(['train', 'test'], loc='upper left')\n",
        "plt.show()"
      ],
      "metadata": {
        "colab": {
          "base_uri": "https://localhost:8080/",
          "height": 472
        },
        "id": "jrJjdHvRvkNb",
        "outputId": "23cdaefd-aca2-491a-884b-4e04ec72e280"
      },
      "execution_count": 20,
      "outputs": [
        {
          "output_type": "display_data",
          "data": {
            "text/plain": [
              "<Figure size 640x480 with 1 Axes>"
            ],
            "image/png": "[encoded data removed]"
          },
          "metadata": {}
        }
      ]
    },
    {
      "cell_type": "code",
      "source": [
        "plt.plot(history.history['loss'])\n",
        "plt.plot(history.history['val_loss'])\n",
        "plt.title('model loss')\n",
        "plt.ylabel('loss')\n",
        "plt.xlabel('epoch')\n",
        "plt.legend(['train', 'test'], loc='upper left')\n",
        "plt.show()"
      ],
      "metadata": {
        "colab": {
          "base_uri": "https://localhost:8080/",
          "height": 472
        },
        "id": "ERms5J_2yniv",
        "outputId": "d0ea5466-1e8c-41e1-af38-e59b30de5304"
      },
      "execution_count": 21,
      "outputs": [
        {
          "output_type": "display_data",
          "data": {
            "text/plain": [
              "<Figure size 640x480 with 1 Axes>"
            ],
            "image/png": "[encoded data removed]"
          },
          "metadata": {}
        }
      ]
    }
  ]
}